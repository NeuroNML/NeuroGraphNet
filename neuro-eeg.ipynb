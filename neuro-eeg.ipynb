{
 "cells": [
  {
   "cell_type": "markdown",
   "metadata": {},
   "source": [
    "# NeuroGraphNet\n",
    "\n",
    "*A graph-based deep learning framework for EEG seizure detection, designed to improve accuracy and interpretability by leveraging Graph Neural Networks (GNNs) to capture spatial and temporal brain dynamics.*\n",
    "\n",
    "<hr />\n",
    "\n",
    "This notebook presents **NeuroGraphNet**, a model that applies Graph Neural Networks to EEG data for seizure detection. The primary goal is to **compare the performance and interpretability of graph-based methods versus traditional deep learning approaches**. Through this comparison, we aim to demonstrate the advantages of incorporating brain connectivity information into the learning process.\n",
    "\n",
    "**Authors**: Luca Di Bello, Guillaume André Bélissent, Abdessalem Ben Ali, Beatriz Izquierdo González"
   ]
  },
  {
   "cell_type": "code",
   "execution_count": 1,
   "metadata": {},
   "outputs": [
    {
     "name": "stdout",
     "output_type": "stream",
     "text": [
      "Using device: cpu\n"
     ]
    }
   ],
   "source": [
    "%load_ext autoreload\n",
    "%autoreload 1\n",
    "import time\n",
    "from pathlib import Path\n",
    "\n",
    "import matplotlib.pyplot as plt\n",
    "import numpy as np\n",
    "import pandas as pd\n",
    "import seaborn as sns\n",
    "import torch\n",
    "import torch.nn as nn\n",
    "import torch.optim as optim\n",
    "from torch_geometric.loader import DataLoader as GeoDataLoader\n",
    "from torch.utils.data import DataLoader\n",
    "from src.utils.seeder import seed_everything\n",
    "\n",
    "# set seaborn theme\n",
    "sns.set_theme()\n",
    "\n",
    "# create useful constants\n",
    "RANDOM_SEED = 42\n",
    "IS_SCITAS = False # set to True if running on SCITAS cluster\n",
    "LOCAL_DATA_ROOT = Path(\"./data\")\n",
    "DATA_ROOT = Path(\"/home/ogut/data\") if IS_SCITAS else LOCAL_DATA_ROOT\n",
    "CHECKPOINT_ROOT = Path(\"./.checkpoints\")\n",
    "SUBMISSION_ROOT = Path(\"./.submissions\")\n",
    "\n",
    "# create directories if they do not exist\n",
    "CHECKPOINT_ROOT.mkdir(parents=True, exist_ok=True)\n",
    "SUBMISSION_ROOT.mkdir(parents=True, exist_ok=True)\n",
    "\n",
    "# set dataset root\n",
    "seed_everything(RANDOM_SEED)\n",
    "\n",
    "# setup torch device\n",
    "device = torch.device(\"cuda\" if torch.cuda.is_available() else \"cpu\")\n",
    "print(\"Using device:\", device)"
   ]
  },
  {
   "cell_type": "markdown",
   "metadata": {},
   "source": [
    "## Load clips"
   ]
  },
  {
   "cell_type": "code",
   "execution_count": 2,
   "metadata": {},
   "outputs": [
    {
     "name": "stdout",
     "output_type": "stream",
     "text": [
      "⏳ Loading EEG segment tables…\n",
      "✔️ Loaded: 12993 train rows, 3614 test rows (took 0.1s)\n"
     ]
    }
   ],
   "source": [
    "from src.utils.signal import time_filtering, normalize\n",
    "%aimport src.utils.signal\n",
    "from src.utils.index import ensure_eeg_multiindex\n",
    "\n",
    "start = time.time()\n",
    "print(\"⏳ Loading EEG segment tables…\")\n",
    "clips_tr = pd.read_parquet(DATA_ROOT / \"train\" / \"segments.parquet\").dropna()\n",
    "clips_te = pd.read_parquet(DATA_ROOT / \"test\" / \"segments.parquet\").dropna()\n",
    "\n",
    "# load clips with label\n",
    "clips_tr = ensure_eeg_multiindex(clips_tr, id_col_name='id')\n",
    "clips_te = ensure_eeg_multiindex(clips_te, id_col_name='id')\n",
    "\n",
    "print(f\"✔️ Loaded: {len(clips_tr)} train rows, {len(clips_te)} test rows \"\n",
    "      f\"(took {time.time()-start:.1f}s)\")\n",
    "# NOTE: Merge clips for sanity checks\n",
    "clips = pd.concat([clips_tr, clips_te]).reset_index()"
   ]
  },
  {
   "cell_type": "markdown",
   "metadata": {},
   "source": [
    "## Load features"
   ]
  },
  {
   "cell_type": "code",
   "execution_count": 3,
   "metadata": {},
   "outputs": [
    {
     "name": "stdout",
     "output_type": "stream",
     "text": [
      "Train extracted features shape: (12993, 228)\n",
      "Test extracted features shape: (3614, 228)\n"
     ]
    }
   ],
   "source": [
    "# print feature shapes\n",
    "X_train = np.load(LOCAL_DATA_ROOT / \"extracted_features\" / \"X_train.npy\", allow_pickle=True)\n",
    "X_test = np.load(LOCAL_DATA_ROOT / \"extracted_features\" / \"X_test.npy\", allow_pickle=True)\n",
    "y_train = np.load(LOCAL_DATA_ROOT / \"labels\" / \"y_train.npy\", allow_pickle=True)\n",
    "sample_subject_array = np.load(LOCAL_DATA_ROOT / \"extracted_features\" / \"sample_subject_array_train.npy\",allow_pickle=True)\n",
    "\n",
    "# sanity checks to ensure validity of the data\n",
    "assert X_train.shape[0]  == y_train.shape[0], \"Mismatch in number of training samples and labels\"\n",
    "assert X_train.shape[1] == X_test.shape[1], \"Mismatch in number of features between train and test sets\"\n",
    "assert clips_tr.shape[0] == y_train.shape[0], \"Mismatch in number of training samples and segments\"\n",
    "assert X_train.shape[0] == sample_subject_array.shape[0], \"Mismatch in number of training samples and subjects\"\n",
    "assert clips_tr.shape[0] == sample_subject_array.shape[0], \"Mismatch in number of training segments and subjects\"\n",
    "\n",
    "print(\"Train extracted features shape:\", X_train.shape)\n",
    "print(\"Test extracted features shape:\", X_test.shape)"
   ]
  },
  {
   "cell_type": "code",
   "execution_count": 4,
   "metadata": {},
   "outputs": [],
   "source": [
    "# ------------------------------- Extracted features -----------------------------------------------#\n",
    "channels = ['FP1', 'FP2', 'F3', 'F4', 'C3', 'C4', 'P3', 'P4', 'O1', 'O2', 'F7', 'F8', 'T3', 'T4', 'T5', 'T6', 'FZ', 'CZ', 'PZ']\n",
    "features = [\n",
    "    \"rms\", \"linelen\", \"hj_mob\", \"hj_cmp\", \"spec_ent\",\n",
    "    \"alpha_pow\", \"beta_pow\", \"theta_pow\", \"gamma_pow\",\n",
    "    \"rel_alpha\", \"rel_theta\", \"theta_alpha_ratio\"\n",
    "]\n",
    "n_features = len(features)\n",
    "n_channels = len(channels)\n",
    "\n",
    "feature_names = [f\"{ch} - {ft}\" for ch in channels for ft in features]"
   ]
  },
  {
   "cell_type": "markdown",
   "metadata": {},
   "source": [
    "## Load embeddings (WORK IN PROGRESS)"
   ]
  },
  {
   "cell_type": "code",
   "execution_count": null,
   "metadata": {},
   "outputs": [],
   "source": []
  },
  {
   "cell_type": "markdown",
   "metadata": {},
   "source": [
    "## Creating timeseries dataset"
   ]
  },
  {
   "cell_type": "code",
   "execution_count": 5,
   "metadata": {},
   "outputs": [
    {
     "name": "stdout",
     "output_type": "stream",
     "text": [
      "🚀 Initializing TimeseriesEEGDataset in SIGNAL mode.\n",
      "   - Sampling rate: 250 Hz\n",
      "   - Derived segment length: 3000 timesteps.\n",
      "   - Segment length: 3000 timesteps.\n",
      "   ✅ Using existing cached data from data/timeseries_dataset_train_signal/processed\n",
      "🏁 TimeseriesEEGDataset initialization complete. Loaded 12993 samples.\n",
      "🚀 Initializing TimeseriesEEGDataset in FEATURE mode.\n",
      "   ✅ Using existing cached data from data/timeseries_dataset_train_features/processed\n",
      "🏁 TimeseriesEEGDataset initialization complete. Loaded 12993 samples.\n",
      "🚀 Initializing TimeseriesEEGDataset in SIGNAL mode.\n",
      "   - Sampling rate: 250 Hz\n",
      "   - Derived segment length: 3000 timesteps.\n",
      "   - Segment length: 3000 timesteps.\n",
      "   ⚠️ Info: Column 'label' not found in clips_df. Processing without labels (e.g., test set).\n",
      "   ✅ Using existing cached data from data/timeseries_dataset_test_signal/processed\n",
      "🏁 TimeseriesEEGDataset initialization complete. Loaded 3614 samples.\n",
      "🚀 Initializing TimeseriesEEGDataset in FEATURE mode.\n",
      "   ⚠️ Info: Column 'label' not found in clips_df. Processing without labels (e.g., test set).\n",
      "   ✅ Using existing cached data from data/timeseries_dataset_test_features/processed\n",
      "🏁 TimeseriesEEGDataset initialization complete. Loaded 3614 samples.\n"
     ]
    }
   ],
   "source": [
    "%aimport src.utils.timeseries_eeg_dataset\n",
    "from src.utils.timeseries_eeg_dataset import TimeseriesEEGDataset\n",
    "\n",
    "LOCAL_DATA_ROOT = Path(\"./data\")\n",
    "\n",
    "timeseries_datasets_tr = {\n",
    "    \"signal\": TimeseriesEEGDataset(\n",
    "        root=str(LOCAL_DATA_ROOT / \"timeseries_dataset_train_signal\"),\n",
    "        signal_folder=str(DATA_ROOT / 'train'),\n",
    "        clips_df=clips_tr,\n",
    "        mode='signal',\n",
    "    ),\n",
    "    \"feature\": TimeseriesEEGDataset(\n",
    "        root=str(LOCAL_DATA_ROOT / \"timeseries_dataset_train_features\"),\n",
    "        signal_folder=str(DATA_ROOT / 'train'),\n",
    "        clips_df=clips_tr,\n",
    "        mode='feature',\n",
    "        feature_file_path=str(LOCAL_DATA_ROOT / \"extracted_features\" / \"X_train.npy\"),\n",
    "    ),\n",
    "    # FIXME: Uncomment the embedding dataset as soon as the embedding file is available\n",
    "    # \"embedding\": TimeseriesEEGDataset(\n",
    "    #     root=str(LOCAL_DATA_ROOT / \"timeseries_dataset_train_embedding\"),\n",
    "    #     signal_folder=str(DATA_ROOT / 'train'),\n",
    "    #     clips_df=clips_tr,\n",
    "    #     mode='embedding',\n",
    "    #     embedding_file_path=str(LOCAL_DATA_ROOT / \"embeddings\" / \"X_train_embedding.npy\"),\n",
    "    #     labels_for_embedding_file_path=str(LOCAL_DATA_ROOT / \"labels\" / \"y_train.npy\")\n",
    "    # ),\n",
    "}\n",
    "\n",
    "timeseries_datasets_te = {\n",
    "    \"signal\": TimeseriesEEGDataset(\n",
    "        root=str(LOCAL_DATA_ROOT / \"timeseries_dataset_test_signal\"),\n",
    "        signal_folder=str(DATA_ROOT / 'test'),\n",
    "        clips_df=clips_te,\n",
    "        mode='signal',\n",
    "    ),\n",
    "    \"feature\": TimeseriesEEGDataset(\n",
    "        root=str(LOCAL_DATA_ROOT / \"timeseries_dataset_test_features\"),\n",
    "        signal_folder=str(DATA_ROOT / 'test'),\n",
    "        clips_df=clips_te,\n",
    "        mode='feature',\n",
    "        feature_file_path=str(LOCAL_DATA_ROOT / \"extracted_features\" / \"X_test.npy\"),\n",
    "    ),\n",
    "    # FIXME: Uncomment the embedding dataset as soon as the embedding file is available\n",
    "    # \"embedding\": TimeseriesEEGDataset(\n",
    "    #     root=str(LOCAL_DATA_ROOT / \"timeseries_dataset_test_embedding\"),\n",
    "    #     signal_folder=str(DATA_ROOT / 'test'),\n",
    "    #     clips_df=clips_te,\n",
    "    #     mode='embedding',\n",
    "    #     embedding_file_path=str(LOCAL_DATA_ROOT / \"embeddings\" / \"X_test_embedding.npy\"),\n",
    "    #     labels_for_embedding_file_path=str(LOCAL_DATA_ROOT / \"labels\" / \"y_test.npy\")\n",
    "    # ),\n",
    "}"
   ]
  },
  {
   "cell_type": "markdown",
   "metadata": {},
   "source": [
    "## Creating graph dataset"
   ]
  },
  {
   "cell_type": "code",
   "execution_count": 6,
   "metadata": {},
   "outputs": [
    {
     "name": "stdout",
     "output_type": "stream",
     "text": [
      "🚀 Initializing GraphEEGDataset in FEATURE mode.\n",
      "   - Root: data/graph_dataset_train\n",
      "   - Mode: FEATURE\n",
      "   - Edge strategy: full\n",
      "   - Node Feature Normalization: True\n",
      "⚙️ process() called for FEATURE mode. Target processed directory: data/graph_dataset_train/processed\n",
      "   - Starting processing from pre-extracted features...\n",
      "   - Total feature sets to process: 12993\n"
     ]
    },
    {
     "name": "stderr",
     "output_type": "stream",
     "text": [
      "Processing...\n"
     ]
    },
    {
     "name": "stdout",
     "output_type": "stream",
     "text": [
      "     - Processing feature item 1299/12993...\n",
      "     - Processing feature item 2598/12993...\n",
      "     - Processing feature item 3897/12993...\n",
      "     - Processing feature item 5196/12993...\n",
      "     - Processing feature item 6495/12993...\n",
      "     - Processing feature item 7794/12993...\n",
      "     - Processing feature item 9093/12993...\n",
      "     - Processing feature item 10392/12993...\n",
      "     - Processing feature item 11691/12993...\n",
      "     - Processing feature item 12990/12993...\n",
      "     - Processing feature item 12993/12993...\n",
      "   ✅ Processed and saved 12993 items from features.\n",
      "🏁 process() finished. Total items processed and saved in this run for feature mode: 12993\n",
      "   - Found 12993 existing processed files for feature mode.\n",
      "🏁 GraphEEGDataset initialization complete. Current mode: FEATURE. Known processed items: 12993\n",
      "🚀 Initializing GraphEEGDataset in FEATURE mode.\n",
      "   - Root: data/graph_dataset_train\n",
      "   - Mode: FEATURE\n",
      "   - Edge strategy: spatial\n",
      "   - Node Feature Normalization: True\n",
      "   - Loading spatial distances...\n",
      "     - Loaded 180 unique spatial distances relevant to defined channels.\n",
      "⚙️ process() called for FEATURE mode. Target processed directory: data/graph_dataset_train/processed\n",
      "   - Starting processing from pre-extracted features...\n",
      "   - Total feature sets to process: 12993\n"
     ]
    },
    {
     "name": "stderr",
     "output_type": "stream",
     "text": [
      "Done!\n",
      "Processing...\n"
     ]
    },
    {
     "name": "stdout",
     "output_type": "stream",
     "text": [
      "     - Processing feature item 1299/12993...\n",
      "     - Processing feature item 2598/12993...\n",
      "     - Processing feature item 3897/12993...\n",
      "     - Processing feature item 5196/12993...\n",
      "     - Processing feature item 6495/12993...\n",
      "     - Processing feature item 7794/12993...\n",
      "     - Processing feature item 9093/12993...\n",
      "     - Processing feature item 10392/12993...\n",
      "     - Processing feature item 11691/12993...\n",
      "     - Processing feature item 12990/12993...\n",
      "     - Processing feature item 12993/12993...\n",
      "   ✅ Processed and saved 12993 items from features.\n",
      "🏁 process() finished. Total items processed and saved in this run for feature mode: 12993\n",
      "   - Found 12993 existing processed files for feature mode.\n",
      "🏁 GraphEEGDataset initialization complete. Current mode: FEATURE. Known processed items: 12993\n",
      "🚀 Initializing GraphEEGDataset in FEATURE mode.\n",
      "   - Root: data/graph_dataset_train\n",
      "   - Mode: FEATURE\n",
      "   - Edge strategy: spatial\n",
      "   - Node Feature Normalization: True\n",
      "   - Loading spatial distances...\n",
      "     - Loaded 180 unique spatial distances relevant to defined channels.\n",
      "⚙️ process() called for FEATURE mode. Target processed directory: data/graph_dataset_train/processed\n",
      "   - Starting processing from pre-extracted features...\n",
      "   - Total feature sets to process: 12993\n"
     ]
    },
    {
     "name": "stderr",
     "output_type": "stream",
     "text": [
      "Done!\n",
      "Processing...\n"
     ]
    },
    {
     "name": "stdout",
     "output_type": "stream",
     "text": [
      "     - Processing feature item 1299/12993...\n",
      "     - Processing feature item 2598/12993...\n",
      "     - Processing feature item 3897/12993...\n",
      "     - Processing feature item 5196/12993...\n",
      "     - Processing feature item 6495/12993...\n",
      "     - Processing feature item 7794/12993...\n",
      "     - Processing feature item 9093/12993...\n",
      "     - Processing feature item 10392/12993...\n",
      "     - Processing feature item 11691/12993...\n",
      "     - Processing feature item 12990/12993...\n",
      "     - Processing feature item 12993/12993...\n",
      "   ✅ Processed and saved 12993 items from features.\n",
      "🏁 process() finished. Total items processed and saved in this run for feature mode: 12993\n",
      "   - Found 12993 existing processed files for feature mode.\n",
      "🏁 GraphEEGDataset initialization complete. Current mode: FEATURE. Known processed items: 12993\n",
      "🚀 Initializing GraphEEGDataset in FEATURE mode.\n",
      "   - Root: data/graph_dataset_test\n",
      "   - Mode: FEATURE\n",
      "   - Edge strategy: full\n",
      "   - Node Feature Normalization: True\n",
      "⚙️ process() called for FEATURE mode. Target processed directory: data/graph_dataset_test/processed\n",
      "   - Starting processing from pre-extracted features...\n",
      "   - Total feature sets to process: 3614\n",
      "   ⚠️ Warning: Labels for features will be None or use a default. 'label' column not in clips_df or length mismatch (3614 vs 3614).\n",
      "     - Processing feature item 361/3614...\n",
      "     - Processing feature item 722/3614...\n"
     ]
    },
    {
     "name": "stderr",
     "output_type": "stream",
     "text": [
      "Done!\n",
      "Processing...\n"
     ]
    },
    {
     "name": "stdout",
     "output_type": "stream",
     "text": [
      "     - Processing feature item 1083/3614...\n",
      "     - Processing feature item 1444/3614...\n",
      "     - Processing feature item 1805/3614...\n",
      "     - Processing feature item 2166/3614...\n",
      "     - Processing feature item 2527/3614...\n",
      "     - Processing feature item 2888/3614...\n",
      "     - Processing feature item 3249/3614...\n",
      "     - Processing feature item 3610/3614...\n",
      "     - Processing feature item 3614/3614...\n",
      "   ✅ Processed and saved 3614 items from features.\n",
      "🏁 process() finished. Total items processed and saved in this run for feature mode: 3614\n",
      "   - Found 3614 existing processed files for feature mode.\n",
      "🏁 GraphEEGDataset initialization complete. Current mode: FEATURE. Known processed items: 3614\n",
      "🚀 Initializing GraphEEGDataset in FEATURE mode.\n",
      "   - Root: data/graph_dataset_test\n",
      "   - Mode: FEATURE\n",
      "   - Edge strategy: spatial\n",
      "   - Node Feature Normalization: True\n",
      "   - Loading spatial distances...\n",
      "     - Loaded 180 unique spatial distances relevant to defined channels.\n",
      "⚙️ process() called for FEATURE mode. Target processed directory: data/graph_dataset_test/processed\n",
      "   - Starting processing from pre-extracted features...\n",
      "   - Total feature sets to process: 3614\n",
      "   ⚠️ Warning: Labels for features will be None or use a default. 'label' column not in clips_df or length mismatch (3614 vs 3614).\n"
     ]
    },
    {
     "name": "stderr",
     "output_type": "stream",
     "text": [
      "Done!\n",
      "Processing...\n"
     ]
    },
    {
     "name": "stdout",
     "output_type": "stream",
     "text": [
      "     - Processing feature item 361/3614...\n",
      "     - Processing feature item 722/3614...\n",
      "     - Processing feature item 1083/3614...\n",
      "     - Processing feature item 1444/3614...\n",
      "     - Processing feature item 1805/3614...\n",
      "     - Processing feature item 2166/3614...\n",
      "     - Processing feature item 2527/3614...\n",
      "     - Processing feature item 2888/3614...\n",
      "     - Processing feature item 3249/3614...\n",
      "     - Processing feature item 3610/3614...\n",
      "     - Processing feature item 3614/3614...\n",
      "   ✅ Processed and saved 3614 items from features.\n",
      "🏁 process() finished. Total items processed and saved in this run for feature mode: 3614\n",
      "   - Found 3614 existing processed files for feature mode.\n",
      "🏁 GraphEEGDataset initialization complete. Current mode: FEATURE. Known processed items: 3614\n",
      "🚀 Initializing GraphEEGDataset in FEATURE mode.\n",
      "   - Root: data/graph_dataset_test\n",
      "   - Mode: FEATURE\n",
      "   - Edge strategy: correlation\n",
      "   - Node Feature Normalization: True\n",
      "⚙️ process() called for FEATURE mode. Target processed directory: data/graph_dataset_test/processed\n",
      "   - Starting processing from pre-extracted features...\n",
      "   - Total feature sets to process: 3614\n",
      "   ⚠️ Warning: Labels for features will be None or use a default. 'label' column not in clips_df or length mismatch (3614 vs 3614).\n"
     ]
    },
    {
     "name": "stderr",
     "output_type": "stream",
     "text": [
      "Done!\n",
      "Processing...\n",
      "/Users/lucadibello/Developer/NeuroGraphNet/.venv/lib/python3.13/site-packages/numpy/lib/_function_base_impl.py:3045: RuntimeWarning: invalid value encountered in divide\n",
      "  c /= stddev[:, None]\n"
     ]
    },
    {
     "name": "stdout",
     "output_type": "stream",
     "text": [
      "     - Processing feature item 361/3614...\n",
      "     - Processing feature item 722/3614...\n",
      "     - Processing feature item 1083/3614...\n",
      "     - Processing feature item 1444/3614...\n",
      "     - Processing feature item 1805/3614...\n",
      "     - Processing feature item 2166/3614...\n",
      "     - Processing feature item 2527/3614...\n",
      "     - Processing feature item 2888/3614...\n",
      "     - Processing feature item 3249/3614...\n",
      "     - Processing feature item 3610/3614...\n",
      "     - Processing feature item 3614/3614...\n",
      "   ✅ Processed and saved 3614 items from features.\n",
      "🏁 process() finished. Total items processed and saved in this run for feature mode: 3614\n",
      "   - Found 3614 existing processed files for feature mode.\n",
      "🏁 GraphEEGDataset initialization complete. Current mode: FEATURE. Known processed items: 3614\n",
      "Graph training datasets created:\n",
      "  full: GraphEEGDataset(12993) (length: 12993)\n",
      "     INFO: Attempting torch.load with weights_only=False for data/graph_dataset_train/processed/data_feat_0.pt\n",
      "    First training sample: Data(x=[19, 12], edge_index=[2, 342], y=[1], original_idx=[1])\n",
      "  spatial: GraphEEGDataset(12993) (length: 12993)\n",
      "     INFO: Attempting torch.load with weights_only=False for data/graph_dataset_train/processed/data_feat_0.pt\n",
      "    First training sample: Data(x=[19, 12], edge_index=[2, 342], y=[1], original_idx=[1])\n",
      "  correlation: GraphEEGDataset(12993) (length: 12993)\n",
      "     INFO: Attempting torch.load with weights_only=False for data/graph_dataset_train/processed/data_feat_0.pt\n",
      "    First training sample: Data(x=[19, 12], edge_index=[2, 342], y=[1], original_idx=[1])\n",
      "\n",
      "Graph test datasets created:\n",
      "  full: GraphEEGDataset(3614) (length: 3614)\n",
      "     INFO: Attempting torch.load with weights_only=False for data/graph_dataset_test/processed/data_feat_0.pt\n",
      "    First test sample: Data(x=[19, 12], edge_index=[2, 342], original_idx=[1]), Label (y): None\n",
      "  spatial: GraphEEGDataset(3614) (length: 3614)\n",
      "     INFO: Attempting torch.load with weights_only=False for data/graph_dataset_test/processed/data_feat_0.pt\n",
      "    First test sample: Data(x=[19, 12], edge_index=[2, 342], original_idx=[1]), Label (y): None\n",
      "  correlation: GraphEEGDataset(3614) (length: 3614)\n",
      "     INFO: Attempting torch.load with weights_only=False for data/graph_dataset_test/processed/data_feat_0.pt\n",
      "    First test sample: Data(x=[19, 12], edge_index=[2, 342], original_idx=[1]), Label (y): None\n"
     ]
    },
    {
     "name": "stderr",
     "output_type": "stream",
     "text": [
      "Done!\n"
     ]
    }
   ],
   "source": [
    "from src.utils.graph_eeg_dataset import GraphEEGDataset\n",
    "\n",
    "LOCAL_DATA_ROOT = Path(\"./data\")\n",
    "\n",
    "graph_datasets_tr = {\n",
    "    'full': GraphEEGDataset(\n",
    "        root=str(LOCAL_DATA_ROOT / 'graph_dataset_train'),\n",
    "        clips_df=clips_tr,\n",
    "        signal_folder=str(DATA_ROOT / 'train'),\n",
    "        extracted_features_array=X_train,\n",
    "        use_extracted_features=True,\n",
    "        edge_strategy='full',\n",
    "        spatial_distance_file=str(LOCAL_DATA_ROOT / 'distances_3d.csv'),\n",
    "        force_reprocess=False,\n",
    "        prefetch_data=False,\n",
    "    ),\n",
    "    'spatial': GraphEEGDataset(\n",
    "        root=str(LOCAL_DATA_ROOT / 'graph_dataset_train'),\n",
    "        clips_df=clips_tr,\n",
    "        signal_folder=str(DATA_ROOT / 'train'),\n",
    "        extracted_features_array=X_train,\n",
    "        use_extracted_features=True,\n",
    "        edge_strategy='spatial',\n",
    "        spatial_distance_file=str(LOCAL_DATA_ROOT / 'distances_3d.csv'),\n",
    "        force_reprocess=False,\n",
    "        prefetch_data=False,\n",
    "    ),\n",
    "    'correlation': GraphEEGDataset(\n",
    "        root=str(LOCAL_DATA_ROOT / 'graph_dataset_train'),\n",
    "        clips_df=clips_tr,\n",
    "        signal_folder=str(DATA_ROOT / 'train'),\n",
    "        extracted_features_array=X_train,\n",
    "        use_extracted_features=True,\n",
    "        edge_strategy='spatial',\n",
    "        spatial_distance_file=str(LOCAL_DATA_ROOT / 'distances_3d.csv'),\n",
    "        force_reprocess=False,\n",
    "        prefetch_data=False,\n",
    "    ),\n",
    "}\n",
    "\n",
    "graph_datasets_te = {\n",
    "    'full': GraphEEGDataset(\n",
    "        root=str(LOCAL_DATA_ROOT / 'graph_dataset_test'),\n",
    "        clips_df=clips_te,\n",
    "        signal_folder=str(DATA_ROOT / 'test'),\n",
    "        extracted_features_array=X_test,\n",
    "        use_extracted_features=True,\n",
    "        edge_strategy='full',\n",
    "        spatial_distance_file=str(LOCAL_DATA_ROOT / 'distances_3d.csv'),\n",
    "        force_reprocess=False, # Force reprocess for test dataset\n",
    "        prefetch_data=False,\n",
    "    ),\n",
    "    'spatial': GraphEEGDataset(\n",
    "        root=str(LOCAL_DATA_ROOT / 'graph_dataset_test'),\n",
    "        clips_df=clips_te,\n",
    "        signal_folder=str(DATA_ROOT / 'test'),\n",
    "        extracted_features_array=X_test,\n",
    "        use_extracted_features=True,\n",
    "        edge_strategy='spatial',\n",
    "        spatial_distance_file=str(LOCAL_DATA_ROOT / 'distances_3d.csv'),\n",
    "        force_reprocess=False, # Force reprocess for test dataset\n",
    "        prefetch_data=False,\n",
    "    ),\n",
    "    'correlation': GraphEEGDataset(\n",
    "        root=str(LOCAL_DATA_ROOT / 'graph_dataset_test'),\n",
    "        clips_df=clips_te,\n",
    "        signal_folder=str(DATA_ROOT / 'test'),\n",
    "        extracted_features_array=X_test,\n",
    "        use_extracted_features=True,\n",
    "        edge_strategy='correlation',\n",
    "        spatial_distance_file=str(LOCAL_DATA_ROOT / 'distances_3d.csv'),\n",
    "        force_reprocess=False, # Force reprocess for test dataset\n",
    "        prefetch_data=False,\n",
    "    )\n",
    "}\n",
    "\n",
    "print(\"Graph training datasets created:\")\n",
    "for key, ds in graph_datasets_tr.items():\n",
    "    print(f\"  {key}: {ds} (length: {len(ds)})\")\n",
    "    if len(ds) > 0:\n",
    "        sample = ds[0]\n",
    "        print(f\"    First training sample: {sample}\")\n",
    "\n",
    "print(\"\\nGraph test datasets created:\")\n",
    "for key, ds in graph_datasets_te.items():\n",
    "    print(f\"  {key}: {ds} (length: {len(ds)})\")\n",
    "    if len(ds) > 0:\n",
    "        sample = ds[0]\n",
    "        print(f\"    First test sample: {sample}, Label (y): {getattr(sample, 'y', None)}\")"
   ]
  },
  {
   "cell_type": "markdown",
   "metadata": {},
   "source": [
    "## Timeseries datasets train-validation splits"
   ]
  },
  {
   "cell_type": "code",
   "execution_count": 7,
   "metadata": {},
   "outputs": [
    {
     "name": "stdout",
     "output_type": "stream",
     "text": [
      "signal: Train size = 10394, Val size = 2599\n",
      "feature: Train size = 10394, Val size = 2599\n",
      "{'signal': <torch.utils.data.dataset.Subset object at 0x105c9ae40>, 'feature': <torch.utils.data.dataset.Subset object at 0x1742d8e10>}\n",
      "{'signal': <torch.utils.data.dataset.Subset object at 0x1742d8a50>, 'feature': <torch.utils.data.dataset.Subset object at 0x119f5e8b0>}\n",
      "{'signal': <src.utils.timeseries_eeg_dataset.TimeseriesEEGDataset object at 0x16c367ed0>, 'feature': <src.utils.timeseries_eeg_dataset.TimeseriesEEGDataset object at 0x16c3c3820>}\n"
     ]
    }
   ],
   "source": [
    "from torch.utils.data import random_split\n",
    "\n",
    "# split training dataset into train/val sets if not already done\n",
    "TRAIN_RATIO = 0.8\n",
    "TIMESERIES_TRAIN_SIZE = int(len(timeseries_datasets_tr[\"signal\"]) * TRAIN_RATIO)\n",
    "TIMESERIES_VAL_SIZE = len(timeseries_datasets_tr[\"signal\"]) - TIMESERIES_TRAIN_SIZE\n",
    "\n",
    "# Store original datasets before reassigning\n",
    "original_timeseries_datasets_tr = timeseries_datasets_tr.copy()\n",
    "\n",
    "# Split each training (both timeseries and graph) dataset into train/val\n",
    "timeseries_datasets_tr = {}\n",
    "timeseries_datasets_val = {}\n",
    "for key, ds in original_timeseries_datasets_tr.items():\n",
    "    tr, val = random_split(ds, [TIMESERIES_TRAIN_SIZE, TIMESERIES_VAL_SIZE], generator=torch.Generator().manual_seed(RANDOM_SEED))\n",
    "    timeseries_datasets_tr[key] = tr\n",
    "    timeseries_datasets_val[key] = val\n",
    "    print(f\"{key}: Train size = {len(tr)}, Val size = {len(val)}\")\n",
    "print(timeseries_datasets_tr)\n",
    "print(timeseries_datasets_val)\n",
    "print(timeseries_datasets_te)"
   ]
  },
  {
   "cell_type": "markdown",
   "metadata": {},
   "source": [
    "## Graph datasets train-validation splits"
   ]
  },
  {
   "cell_type": "code",
   "execution_count": 8,
   "metadata": {},
   "outputs": [
    {
     "name": "stdout",
     "output_type": "stream",
     "text": [
      "full: Train size = 10394, Val size = 2599\n",
      "spatial: Train size = 10394, Val size = 2599\n",
      "correlation: Train size = 10394, Val size = 2599\n",
      "{'full': <torch.utils.data.dataset.Subset object at 0x16c3c3a80>, 'spatial': <torch.utils.data.dataset.Subset object at 0x173816e00>, 'correlation': <torch.utils.data.dataset.Subset object at 0x17382f250>}\n",
      "{'full': <torch.utils.data.dataset.Subset object at 0x16ad4b650>, 'spatial': <torch.utils.data.dataset.Subset object at 0x173815bf0>, 'correlation': <torch.utils.data.dataset.Subset object at 0x17382f150>}\n",
      "{'full': GraphEEGDataset(3614), 'spatial': GraphEEGDataset(3614), 'correlation': GraphEEGDataset(3614)}\n"
     ]
    }
   ],
   "source": [
    "from torch.utils.data import random_split\n",
    "\n",
    "# split training dataset into train/val sets if not already done\n",
    "TRAIN_RATIO = 0.8\n",
    "GRAPH_TRAIN_SIZE = int(len(graph_datasets_tr[\"full\"]) * TRAIN_RATIO)\n",
    "GRAPH_VAL_SIZE = len(graph_datasets_tr[\"full\"]) - GRAPH_TRAIN_SIZE\n",
    "\n",
    "# Store original datasets before reassigning\n",
    "original_graph_datasets_tr = graph_datasets_tr\n",
    "\n",
    "# Split each training (both timeseries and graph) dataset into train/val\n",
    "graph_datasets_tr = {}\n",
    "graph_datasets_val = {}\n",
    "for key, ds in original_graph_datasets_tr.items():\n",
    "    tr, val = random_split(ds, [GRAPH_TRAIN_SIZE, GRAPH_VAL_SIZE], generator=torch.Generator().manual_seed(RANDOM_SEED))\n",
    "    graph_datasets_tr[key] = tr\n",
    "    graph_datasets_val[key] = val\n",
    "    print(f\"{key}: Train size = {len(tr)}, Val size = {len(val)}\")\n",
    "print(graph_datasets_tr)\n",
    "print(graph_datasets_val)\n",
    "print(graph_datasets_te)"
   ]
  },
  {
   "cell_type": "code",
   "execution_count": 9,
   "metadata": {},
   "outputs": [
    {
     "name": "stdout",
     "output_type": "stream",
     "text": [
      "⏳ Creating Timeseries DataLoaders…\n",
      "\t  signal: Train loader size = 21, Val loader size = 6, Test loader size = 8\n",
      "\t  feature: Train loader size = 21, Val loader size = 6, Test loader size = 8\n",
      "✔️ DataLoaders created in 0.0s\n",
      "⏳ Creating Graph DataLoaders…\n",
      "\t  full: Train loader size = 21, Val loader size = 6, Test loader size = 8\n",
      "\t  spatial: Train loader size = 21, Val loader size = 6, Test loader size = 8\n",
      "\t  correlation: Train loader size = 21, Val loader size = 6, Test loader size = 8\n",
      "✔️ GeoDataLoaders created in 0.0s\n"
     ]
    },
    {
     "name": "stderr",
     "output_type": "stream",
     "text": [
      "/Users/lucadibello/Developer/NeuroGraphNet/.venv/lib/python3.13/site-packages/torch/utils/data/dataloader.py:624: UserWarning: This DataLoader will create 16 worker processes in total. Our suggested max number of worker in current system is 12 (`cpuset` is not taken into account), which is smaller than what this DataLoader is going to create. Please be aware that excessive worker creation might get DataLoader running slow or even freeze, lower the worker number to avoid potential slowness/freeze if necessary.\n",
      "  warnings.warn(\n"
     ]
    }
   ],
   "source": [
    "# Create DataLoaders for both timeseries and graph datasets\n",
    "common_loader_kwargs = dict(\n",
    "    batch_size=512,\n",
    "    num_workers=16,\n",
    "    persistent_workers=True,\n",
    "    pin_memory=True,\n",
    "    prefetch_factor=8,\n",
    ")\n",
    "\n",
    "dl_start = time.time()\n",
    "timeseries_loader_tr= {}\n",
    "timeseries_loader_val = {}\n",
    "timeseries_loader_te = {}\n",
    "print(\"⏳ Creating Timeseries DataLoaders…\")\n",
    "for kind in timeseries_datasets_tr.keys():\n",
    "    timeseries_loader_tr[kind] = DataLoader(timeseries_datasets_tr[kind], shuffle=True,  **common_loader_kwargs) # type: ignore\n",
    "    timeseries_loader_val[kind]   = DataLoader(timeseries_datasets_val[kind], shuffle=False, **common_loader_kwargs) # type: ignore\n",
    "    timeseries_loader_te[kind]  = DataLoader(timeseries_datasets_te[kind], shuffle=False, **common_loader_kwargs) # type: ignore\n",
    "    print(f\"\\t  {kind}: Train loader size = {len(timeseries_loader_tr[kind])}, \"\n",
    "            f\"Val loader size = {len(timeseries_loader_val[kind])}, \"\n",
    "            f\"Test loader size = {len(timeseries_loader_te[kind])}\")\n",
    "print(f\"✔️ DataLoaders created in {time.time() - dl_start:.1f}s\")\n",
    "\n",
    "dl_start = time.time()\n",
    "graph_loader_tr= {}\n",
    "graph_loader_val = {}\n",
    "graph_loader_te = {}\n",
    "print(\"⏳ Creating Graph DataLoaders…\")\n",
    "for kind in graph_datasets_tr.keys():\n",
    "    graph_loader_tr[kind] = GeoDataLoader(graph_datasets_tr[kind], shuffle=True,  **common_loader_kwargs) # type: ignore\n",
    "    graph_loader_val[kind]   = GeoDataLoader(graph_datasets_val[kind], shuffle=False, **common_loader_kwargs) # type: ignore\n",
    "    graph_loader_te[kind]  = GeoDataLoader(graph_datasets_te[kind], shuffle=False, **common_loader_kwargs) # type: ignore\n",
    "    print(f\"\\t  {kind}: Train loader size = {len(graph_loader_tr[kind])}, \"\n",
    "            f\"Val loader size = {len(graph_loader_val[kind])}, \"\n",
    "            f\"Test loader size = {len(graph_loader_te[kind])}\")\n",
    "print(f\"✔️ GeoDataLoaders created in {time.time() - dl_start:.1f}s\")"
   ]
  },
  {
   "cell_type": "code",
   "execution_count": 21,
   "metadata": {},
   "outputs": [
    {
     "name": "stdout",
     "output_type": "stream",
     "text": [
      "Batch type: <class 'list'>\n",
      "Batch length: 2\n",
      "torch.Size([512, 19, 3000])\n",
      "torch.Size([512, 1])\n"
     ]
    }
   ],
   "source": [
    "for batch in timeseries_loader_tr['signal']:\n",
    "    # Print batch shape and type\n",
    "    print(f\"Batch type: {type(batch)}\")\n",
    "    print(f\"Batch length: {len(batch)}\")\n",
    "    print(batch[0].shape)    \n",
    "    print(batch[1].shape)\n",
    "    break"
   ]
  },
  {
   "cell_type": "markdown",
   "metadata": {},
   "source": [
    "## Traditional approaches (no additional features)"
   ]
  },
  {
   "cell_type": "code",
   "execution_count": 17,
   "metadata": {},
   "outputs": [],
   "source": [
    "%aimport src.utils.train\n",
    "from src.utils.train import train_model, evaluate_model\n",
    "from src.utils.plot import plot_training_loss"
   ]
  },
  {
   "cell_type": "markdown",
   "metadata": {},
   "source": [
    "### 1. LSTM classifier (baseline)"
   ]
  },
  {
   "cell_type": "markdown",
   "metadata": {},
   "source": [
    "**Features**"
   ]
  },
  {
   "cell_type": "code",
   "execution_count": 18,
   "metadata": {},
   "outputs": [],
   "source": [
    "%aimport src.layers.lstm\n",
    "from src.layers.lstm import LSTM\n",
    "\n",
    "# build model with current parameters\n",
    "lstm_model = LSTM(input_dim=228,\n",
    "                hidden_dim=64,\n",
    "                num_layers=4,\n",
    "                dropout=0.1)\n",
    "if torch.cuda.device_count() > 1:\n",
    "    print(f\"Using {torch.cuda.device_count()} GPUs for this combination.\")\n",
    "    lstm_model = nn.DataParallel(lstm_model)\n",
    "lstm_model = lstm_model.to(device)\n",
    "\n",
    "criterion = nn.BCEWithLogitsLoss()  # Assuming this remains constant\n",
    "optimizer = optim.Adam(lstm_model.parameters(), lr=3e-4)\n",
    "scheduler = optim.lr_scheduler.ReduceLROnPlateau(optimizer, mode='min', patience=5, factor=0.5)"
   ]
  },
  {
   "cell_type": "code",
   "execution_count": 19,
   "metadata": {},
   "outputs": [
    {
     "name": "stdout",
     "output_type": "stream",
     "text": [
      "💪 Starting training from epoch 1 to 300...\n"
     ]
    },
    {
     "name": "stderr",
     "output_type": "stream",
     "text": [
      "Epochs:  88%|▉| 263/300 [01:36<00:13,  2.71it/s, train_loss=0.4569, val_loss=0.4346, best_val_loss=0.4345, lr=9.37e-06, "
     ]
    },
    {
     "name": "stdout",
     "output_type": "stream",
     "text": [
      "🛑 Early stopping: no 'val_loss' improvement in 10 epochs.\n",
      "\n",
      "✅ Training complete.\n",
      "↩️ Loading best model state from .checkpoints/lstm_features_best_model.pt for return.\n"
     ]
    },
    {
     "name": "stderr",
     "output_type": "stream",
     "text": [
      "\n"
     ]
    }
   ],
   "source": [
    "LSTM_SAVE_PATH = CHECKPOINT_ROOT / \"lstm_features_best_model.pt\"\n",
    "LSTM_SUBMISSION_PATH = SUBMISSION_ROOT / \"lstm_features_submission.csv\"\n",
    "\n",
    "# train model on training set (or load existing)\n",
    "train_history, val_history = train_model(\n",
    "        lstm_model, timeseries_loader_tr[\"feature\"], timeseries_loader_val[\"feature\"],\n",
    "        criterion, optimizer, device,\n",
    "        save_path=LSTM_SAVE_PATH,\n",
    "        num_epochs=300,\n",
    "        patience=10,\n",
    "        monitor=\"val_loss\",\n",
    "        scheduler=scheduler,\n",
    "        overwrite=True,\n",
    "        use_gnn=False\n",
    "    )"
   ]
  },
  {
   "cell_type": "code",
   "execution_count": 20,
   "metadata": {},
   "outputs": [
    {
     "data": {
      "image/png": "[encoded data removed]",
      "text/plain": [
       "<Figure size 800x500 with 1 Axes>"
      ]
     },
     "metadata": {},
     "output_type": "display_data"
    }
   ],
   "source": [
    "plot_training_loss(train_history[\"loss\"], val_history[\"loss\"], \"LSTM\")"
   ]
  },
  {
   "cell_type": "markdown",
   "metadata": {},
   "source": [
    "**Features + oversampling**"
   ]
  },
  {
   "cell_type": "code",
   "execution_count": 23,
   "metadata": {},
   "outputs": [
    {
     "name": "stdout",
     "output_type": "stream",
     "text": [
      "🔍 Applying oversampling to the training data...\n",
      "  Attribute-based label extraction not applicable or failed. Iterating through 10394 dataset samples...\n"
     ]
    },
    {
     "name": "stderr",
     "output_type": "stream",
     "text": [
      "/Users/lucadibello/Developer/NeuroGraphNet/.venv/lib/python3.13/site-packages/torch/utils/data/dataloader.py:624: UserWarning: This DataLoader will create 16 worker processes in total. Our suggested max number of worker in current system is 12 (`cpuset` is not taken into account), which is smaller than what this DataLoader is going to create. Please be aware that excessive worker creation might get DataLoader running slow or even freeze, lower the worker number to avoid potential slowness/freeze if necessary.\n",
      "  warnings.warn(\n"
     ]
    },
    {
     "name": "stdout",
     "output_type": "stream",
     "text": [
      "  Finished iterating. Collected 10394 labels.\n",
      "  Class counts before oversampling: [8375, 2019]\n",
      "  Successfully created an oversampled DataLoader.\n",
      "💪 Starting training from epoch 1 to 300...\n"
     ]
    },
    {
     "name": "stderr",
     "output_type": "stream",
     "text": [
      "Epochs:   1%| | 4/300 [06:29<10:40:57, 129.92s/it, train_loss=0.7002, val_loss=0.5278, best_val_loss=0.4417, lr=4.69e-06\n"
     ]
    },
    {
     "ename": "KeyboardInterrupt",
     "evalue": "",
     "output_type": "error",
     "traceback": [
      "\u001b[31m---------------------------------------------------------------------------\u001b[39m",
      "\u001b[31mKeyboardInterrupt\u001b[39m                         Traceback (most recent call last)",
      "\u001b[36mCell\u001b[39m\u001b[36m \u001b[39m\u001b[32mIn[23]\u001b[39m\u001b[32m, line 5\u001b[39m\n\u001b[32m      2\u001b[39m LSTM_SUBMISSION_PATH = SUBMISSION_ROOT / \u001b[33m\"\u001b[39m\u001b[33mlstm_features_oversampling_submission.csv\u001b[39m\u001b[33m\"\u001b[39m\n\u001b[32m      4\u001b[39m \u001b[38;5;66;03m# train model on training set (or load existing)\u001b[39;00m\n\u001b[32m----> \u001b[39m\u001b[32m5\u001b[39m train_history, val_history = \u001b[43mtrain_model\u001b[49m\u001b[43m(\u001b[49m\n\u001b[32m      6\u001b[39m \u001b[43m        \u001b[49m\u001b[43mlstm_model\u001b[49m\u001b[43m,\u001b[49m\u001b[43m \u001b[49m\u001b[43mtimeseries_loader_tr\u001b[49m\u001b[43m[\u001b[49m\u001b[33;43m\"\u001b[39;49m\u001b[33;43mfeature\u001b[39;49m\u001b[33;43m\"\u001b[39;49m\u001b[43m]\u001b[49m\u001b[43m,\u001b[49m\u001b[43m \u001b[49m\u001b[43mtimeseries_loader_val\u001b[49m\u001b[43m[\u001b[49m\u001b[33;43m\"\u001b[39;49m\u001b[33;43mfeature\u001b[39;49m\u001b[33;43m\"\u001b[39;49m\u001b[43m]\u001b[49m\u001b[43m,\u001b[49m\n\u001b[32m      7\u001b[39m \u001b[43m        \u001b[49m\u001b[43mcriterion\u001b[49m\u001b[43m,\u001b[49m\u001b[43m \u001b[49m\u001b[43moptimizer\u001b[49m\u001b[43m,\u001b[49m\u001b[43m \u001b[49m\u001b[43mdevice\u001b[49m\u001b[43m,\u001b[49m\n\u001b[32m      8\u001b[39m \u001b[43m        \u001b[49m\u001b[43msave_path\u001b[49m\u001b[43m=\u001b[49m\u001b[43mLSTM_SAVE_PATH\u001b[49m\u001b[43m,\u001b[49m\n\u001b[32m      9\u001b[39m \u001b[43m        \u001b[49m\u001b[43mnum_epochs\u001b[49m\u001b[43m=\u001b[49m\u001b[32;43m300\u001b[39;49m\u001b[43m,\u001b[49m\n\u001b[32m     10\u001b[39m \u001b[43m        \u001b[49m\u001b[43mpatience\u001b[49m\u001b[43m=\u001b[49m\u001b[32;43m10\u001b[39;49m\u001b[43m,\u001b[49m\n\u001b[32m     11\u001b[39m \u001b[43m        \u001b[49m\u001b[43mmonitor\u001b[49m\u001b[43m=\u001b[49m\u001b[33;43m\"\u001b[39;49m\u001b[33;43mval_loss\u001b[39;49m\u001b[33;43m\"\u001b[39;49m\u001b[43m,\u001b[49m\n\u001b[32m     12\u001b[39m \u001b[43m        \u001b[49m\u001b[43mscheduler\u001b[49m\u001b[43m=\u001b[49m\u001b[43mscheduler\u001b[49m\u001b[43m,\u001b[49m\n\u001b[32m     13\u001b[39m \u001b[43m        \u001b[49m\u001b[43moverwrite\u001b[49m\u001b[43m=\u001b[49m\u001b[38;5;28;43;01mTrue\u001b[39;49;00m\u001b[43m,\u001b[49m\n\u001b[32m     14\u001b[39m \u001b[43m        \u001b[49m\u001b[43muse_gnn\u001b[49m\u001b[43m=\u001b[49m\u001b[38;5;28;43;01mFalse\u001b[39;49;00m\u001b[43m,\u001b[49m\n\u001b[32m     15\u001b[39m \u001b[43m        \u001b[49m\u001b[43muse_oversampling\u001b[49m\u001b[43m=\u001b[49m\u001b[38;5;28;43;01mTrue\u001b[39;49;00m\u001b[43m,\u001b[49m\n\u001b[32m     16\u001b[39m \u001b[43m    \u001b[49m\u001b[43m)\u001b[49m\n",
      "\u001b[36mFile \u001b[39m\u001b[32m<string>:109\u001b[39m, in \u001b[36mtrain_model\u001b[39m\u001b[34m(model, train_loader, val_loader, criterion, optimizer, device, save_path, scheduler, monitor, patience, num_epochs, grad_clip, overwrite, use_gnn, use_oversampling)\u001b[39m\n",
      "\u001b[36mFile \u001b[39m\u001b[32m~/Developer/NeuroGraphNet/.venv/lib/python3.13/site-packages/torch/utils/data/dataloader.py:708\u001b[39m, in \u001b[36m_BaseDataLoaderIter.__next__\u001b[39m\u001b[34m(self)\u001b[39m\n\u001b[32m    705\u001b[39m \u001b[38;5;28;01mif\u001b[39;00m \u001b[38;5;28mself\u001b[39m._sampler_iter \u001b[38;5;129;01mis\u001b[39;00m \u001b[38;5;28;01mNone\u001b[39;00m:\n\u001b[32m    706\u001b[39m     \u001b[38;5;66;03m# TODO(https://github.com/pytorch/pytorch/issues/76750)\u001b[39;00m\n\u001b[32m    707\u001b[39m     \u001b[38;5;28mself\u001b[39m._reset()  \u001b[38;5;66;03m# type: ignore[call-arg]\u001b[39;00m\n\u001b[32m--> \u001b[39m\u001b[32m708\u001b[39m data = \u001b[38;5;28;43mself\u001b[39;49m\u001b[43m.\u001b[49m\u001b[43m_next_data\u001b[49m\u001b[43m(\u001b[49m\u001b[43m)\u001b[49m\n\u001b[32m    709\u001b[39m \u001b[38;5;28mself\u001b[39m._num_yielded += \u001b[32m1\u001b[39m\n\u001b[32m    710\u001b[39m \u001b[38;5;28;01mif\u001b[39;00m (\n\u001b[32m    711\u001b[39m     \u001b[38;5;28mself\u001b[39m._dataset_kind == _DatasetKind.Iterable\n\u001b[32m    712\u001b[39m     \u001b[38;5;129;01mand\u001b[39;00m \u001b[38;5;28mself\u001b[39m._IterableDataset_len_called \u001b[38;5;129;01mis\u001b[39;00m \u001b[38;5;129;01mnot\u001b[39;00m \u001b[38;5;28;01mNone\u001b[39;00m\n\u001b[32m    713\u001b[39m     \u001b[38;5;129;01mand\u001b[39;00m \u001b[38;5;28mself\u001b[39m._num_yielded > \u001b[38;5;28mself\u001b[39m._IterableDataset_len_called\n\u001b[32m    714\u001b[39m ):\n",
      "\u001b[36mFile \u001b[39m\u001b[32m~/Developer/NeuroGraphNet/.venv/lib/python3.13/site-packages/torch/utils/data/dataloader.py:1446\u001b[39m, in \u001b[36m_MultiProcessingDataLoaderIter._next_data\u001b[39m\u001b[34m(self)\u001b[39m\n\u001b[32m   1443\u001b[39m \u001b[38;5;28;01melse\u001b[39;00m:\n\u001b[32m   1444\u001b[39m     \u001b[38;5;66;03m# no valid `self._rcvd_idx` is found (i.e., didn't break)\u001b[39;00m\n\u001b[32m   1445\u001b[39m     \u001b[38;5;28;01mif\u001b[39;00m \u001b[38;5;129;01mnot\u001b[39;00m \u001b[38;5;28mself\u001b[39m._persistent_workers:\n\u001b[32m-> \u001b[39m\u001b[32m1446\u001b[39m         \u001b[38;5;28;43mself\u001b[39;49m\u001b[43m.\u001b[49m\u001b[43m_shutdown_workers\u001b[49m\u001b[43m(\u001b[49m\u001b[43m)\u001b[49m\n\u001b[32m   1447\u001b[39m     \u001b[38;5;28;01mraise\u001b[39;00m \u001b[38;5;167;01mStopIteration\u001b[39;00m\n\u001b[32m   1449\u001b[39m \u001b[38;5;66;03m# Now `self._rcvd_idx` is the batch index we want to fetch\u001b[39;00m\n\u001b[32m   1450\u001b[39m \n\u001b[32m   1451\u001b[39m \u001b[38;5;66;03m# Check if the next sample has already been generated\u001b[39;00m\n",
      "\u001b[36mFile \u001b[39m\u001b[32m~/Developer/NeuroGraphNet/.venv/lib/python3.13/site-packages/torch/utils/data/dataloader.py:1582\u001b[39m, in \u001b[36m_MultiProcessingDataLoaderIter._shutdown_workers\u001b[39m\u001b[34m(self)\u001b[39m\n\u001b[32m   1577\u001b[39m         \u001b[38;5;28mself\u001b[39m._mark_worker_as_unavailable(worker_id, shutdown=\u001b[38;5;28;01mTrue\u001b[39;00m)\n\u001b[32m   1578\u001b[39m \u001b[38;5;28;01mfor\u001b[39;00m w \u001b[38;5;129;01min\u001b[39;00m \u001b[38;5;28mself\u001b[39m._workers:\n\u001b[32m   1579\u001b[39m     \u001b[38;5;66;03m# We should be able to join here, but in case anything went\u001b[39;00m\n\u001b[32m   1580\u001b[39m     \u001b[38;5;66;03m# wrong, we set a timeout and if the workers fail to join,\u001b[39;00m\n\u001b[32m   1581\u001b[39m     \u001b[38;5;66;03m# they are killed in the `finally` block.\u001b[39;00m\n\u001b[32m-> \u001b[39m\u001b[32m1582\u001b[39m     \u001b[43mw\u001b[49m\u001b[43m.\u001b[49m\u001b[43mjoin\u001b[49m\u001b[43m(\u001b[49m\u001b[43mtimeout\u001b[49m\u001b[43m=\u001b[49m\u001b[43m_utils\u001b[49m\u001b[43m.\u001b[49m\u001b[43mMP_STATUS_CHECK_INTERVAL\u001b[49m\u001b[43m)\u001b[49m\n\u001b[32m   1583\u001b[39m \u001b[38;5;28;01mfor\u001b[39;00m q \u001b[38;5;129;01min\u001b[39;00m \u001b[38;5;28mself\u001b[39m._index_queues:\n\u001b[32m   1584\u001b[39m     q.cancel_join_thread()\n",
      "\u001b[36mFile \u001b[39m\u001b[32m/opt/homebrew/Cellar/python@3.13/3.13.3/Frameworks/Python.framework/Versions/3.13/lib/python3.13/multiprocessing/process.py:149\u001b[39m, in \u001b[36mBaseProcess.join\u001b[39m\u001b[34m(self, timeout)\u001b[39m\n\u001b[32m    147\u001b[39m \u001b[38;5;28;01massert\u001b[39;00m \u001b[38;5;28mself\u001b[39m._parent_pid == os.getpid(), \u001b[33m'\u001b[39m\u001b[33mcan only join a child process\u001b[39m\u001b[33m'\u001b[39m\n\u001b[32m    148\u001b[39m \u001b[38;5;28;01massert\u001b[39;00m \u001b[38;5;28mself\u001b[39m._popen \u001b[38;5;129;01mis\u001b[39;00m \u001b[38;5;129;01mnot\u001b[39;00m \u001b[38;5;28;01mNone\u001b[39;00m, \u001b[33m'\u001b[39m\u001b[33mcan only join a started process\u001b[39m\u001b[33m'\u001b[39m\n\u001b[32m--> \u001b[39m\u001b[32m149\u001b[39m res = \u001b[38;5;28;43mself\u001b[39;49m\u001b[43m.\u001b[49m\u001b[43m_popen\u001b[49m\u001b[43m.\u001b[49m\u001b[43mwait\u001b[49m\u001b[43m(\u001b[49m\u001b[43mtimeout\u001b[49m\u001b[43m)\u001b[49m\n\u001b[32m    150\u001b[39m \u001b[38;5;28;01mif\u001b[39;00m res \u001b[38;5;129;01mis\u001b[39;00m \u001b[38;5;129;01mnot\u001b[39;00m \u001b[38;5;28;01mNone\u001b[39;00m:\n\u001b[32m    151\u001b[39m     _children.discard(\u001b[38;5;28mself\u001b[39m)\n",
      "\u001b[36mFile \u001b[39m\u001b[32m/opt/homebrew/Cellar/python@3.13/3.13.3/Frameworks/Python.framework/Versions/3.13/lib/python3.13/multiprocessing/popen_fork.py:41\u001b[39m, in \u001b[36mPopen.wait\u001b[39m\u001b[34m(self, timeout)\u001b[39m\n\u001b[32m     39\u001b[39m \u001b[38;5;28;01mif\u001b[39;00m timeout \u001b[38;5;129;01mis\u001b[39;00m \u001b[38;5;129;01mnot\u001b[39;00m \u001b[38;5;28;01mNone\u001b[39;00m:\n\u001b[32m     40\u001b[39m     \u001b[38;5;28;01mfrom\u001b[39;00m\u001b[38;5;250m \u001b[39m\u001b[34;01mmultiprocessing\u001b[39;00m\u001b[34;01m.\u001b[39;00m\u001b[34;01mconnection\u001b[39;00m\u001b[38;5;250m \u001b[39m\u001b[38;5;28;01mimport\u001b[39;00m wait\n\u001b[32m---> \u001b[39m\u001b[32m41\u001b[39m     \u001b[38;5;28;01mif\u001b[39;00m \u001b[38;5;129;01mnot\u001b[39;00m \u001b[43mwait\u001b[49m\u001b[43m(\u001b[49m\u001b[43m[\u001b[49m\u001b[38;5;28;43mself\u001b[39;49m\u001b[43m.\u001b[49m\u001b[43msentinel\u001b[49m\u001b[43m]\u001b[49m\u001b[43m,\u001b[49m\u001b[43m \u001b[49m\u001b[43mtimeout\u001b[49m\u001b[43m)\u001b[49m:\n\u001b[32m     42\u001b[39m         \u001b[38;5;28;01mreturn\u001b[39;00m \u001b[38;5;28;01mNone\u001b[39;00m\n\u001b[32m     43\u001b[39m \u001b[38;5;66;03m# This shouldn't block if wait() returned successfully.\u001b[39;00m\n",
      "\u001b[36mFile \u001b[39m\u001b[32m/opt/homebrew/Cellar/python@3.13/3.13.3/Frameworks/Python.framework/Versions/3.13/lib/python3.13/multiprocessing/connection.py:1148\u001b[39m, in \u001b[36mwait\u001b[39m\u001b[34m(object_list, timeout)\u001b[39m\n\u001b[32m   1145\u001b[39m     deadline = time.monotonic() + timeout\n\u001b[32m   1147\u001b[39m \u001b[38;5;28;01mwhile\u001b[39;00m \u001b[38;5;28;01mTrue\u001b[39;00m:\n\u001b[32m-> \u001b[39m\u001b[32m1148\u001b[39m     ready = \u001b[43mselector\u001b[49m\u001b[43m.\u001b[49m\u001b[43mselect\u001b[49m\u001b[43m(\u001b[49m\u001b[43mtimeout\u001b[49m\u001b[43m)\u001b[49m\n\u001b[32m   1149\u001b[39m     \u001b[38;5;28;01mif\u001b[39;00m ready:\n\u001b[32m   1150\u001b[39m         \u001b[38;5;28;01mreturn\u001b[39;00m [key.fileobj \u001b[38;5;28;01mfor\u001b[39;00m (key, events) \u001b[38;5;129;01min\u001b[39;00m ready]\n",
      "\u001b[36mFile \u001b[39m\u001b[32m/opt/homebrew/Cellar/python@3.13/3.13.3/Frameworks/Python.framework/Versions/3.13/lib/python3.13/selectors.py:398\u001b[39m, in \u001b[36m_PollLikeSelector.select\u001b[39m\u001b[34m(self, timeout)\u001b[39m\n\u001b[32m    396\u001b[39m ready = []\n\u001b[32m    397\u001b[39m \u001b[38;5;28;01mtry\u001b[39;00m:\n\u001b[32m--> \u001b[39m\u001b[32m398\u001b[39m     fd_event_list = \u001b[38;5;28;43mself\u001b[39;49m\u001b[43m.\u001b[49m\u001b[43m_selector\u001b[49m\u001b[43m.\u001b[49m\u001b[43mpoll\u001b[49m\u001b[43m(\u001b[49m\u001b[43mtimeout\u001b[49m\u001b[43m)\u001b[49m\n\u001b[32m    399\u001b[39m \u001b[38;5;28;01mexcept\u001b[39;00m \u001b[38;5;167;01mInterruptedError\u001b[39;00m:\n\u001b[32m    400\u001b[39m     \u001b[38;5;28;01mreturn\u001b[39;00m ready\n",
      "\u001b[31mKeyboardInterrupt\u001b[39m: "
     ]
    }
   ],
   "source": [
    "LSTM_SAVE_PATH = CHECKPOINT_ROOT / \"lstm_features_oversampling_best_model.pt\"\n",
    "LSTM_SUBMISSION_PATH = SUBMISSION_ROOT / \"lstm_features_oversampling_submission.csv\"\n",
    "\n",
    "# train model on training set (or load existing)\n",
    "train_history, val_history = train_model(\n",
    "        lstm_model, timeseries_loader_tr[\"feature\"], timeseries_loader_val[\"feature\"],\n",
    "        criterion, optimizer, device,\n",
    "        save_path=LSTM_SAVE_PATH,\n",
    "        num_epochs=300,\n",
    "        patience=10,\n",
    "        scheduler=scheduler,\n",
    "        overwrite=True,\n",
    "        use_gnn=False,\n",
    "        use_oversampling=True,\n",
    "    )"
   ]
  },
  {
   "cell_type": "markdown",
   "metadata": {},
   "source": [
    "**Signal**"
   ]
  },
  {
   "cell_type": "code",
   "execution_count": 27,
   "metadata": {},
   "outputs": [],
   "source": [
    "%aimport src.layers.lstm\n",
    "from src.layers.lstm import LSTM\n",
    "\n",
    "# build model with current parameters\n",
    "lstm_model = LSTM(input_dim=19,\n",
    "                hidden_dim=64,\n",
    "                num_layers=4,\n",
    "                dropout=0.3)\n",
    "if torch.cuda.device_count() > 1:\n",
    "    print(f\"Using {torch.cuda.device_count()} GPUs for this combination.\")\n",
    "    lstm_model = nn.DataParallel(lstm_model)\n",
    "lstm_model = lstm_model.to(device)\n",
    "\n",
    "criterion = nn.BCEWithLogitsLoss()  # Assuming this remains constant\n",
    "optimizer = optim.Adam(lstm_model.parameters(), lr=3e-4)\n",
    "scheduler = optim.lr_scheduler.ReduceLROnPlateau(optimizer, mode='min', patience=5, factor=0.5)"
   ]
  },
  {
   "cell_type": "code",
   "execution_count": null,
   "metadata": {},
   "outputs": [],
   "source": [
    "LSTM_SAVE_PATH = CHECKPOINT_ROOT / \"lstm_signal_best_model.pt\"\n",
    "LSTM_SUBMISSION_PATH = SUBMISSION_ROOT / \"lstm_signal_submission.csv\"\n",
    "\n",
    "# train model on training set (or load existing)\n",
    "train_history, val_history = train_model(\n",
    "        lstm_model, timeseries_loader_tr[\"signal\"], timeseries_loader_val[\"signal\"],\n",
    "        criterion, optimizer, device,\n",
    "        save_path=LSTM_SAVE_PATH,\n",
    "        num_epochs=300,\n",
    "        patience=10,\n",
    "        monitor=\"val_loss\",\n",
    "        scheduler=scheduler,\n",
    "        overwrite=True,\n",
    "        use_gnn=False\n",
    "    )"
   ]
  },
  {
   "cell_type": "markdown",
   "metadata": {},
   "source": [
    "### 2. Bidirectional LSTM with early stopping"
   ]
  },
  {
   "cell_type": "markdown",
   "metadata": {},
   "source": [
    "**Features**"
   ]
  },
  {
   "cell_type": "code",
   "execution_count": 13,
   "metadata": {},
   "outputs": [],
   "source": [
    "%aimport src.layers.lstm\n",
    "from src.layers.lstm import LSTM\n",
    "\n",
    "# build model with current parameters\n",
    "lstm_model = LSTM(input_dim=228,\n",
    "                hidden_dim=64,\n",
    "                num_layers=4,\n",
    "                dropout=0.1,\n",
    "                bidirectional=True)\n",
    "if torch.cuda.device_count() > 1:\n",
    "    print(f\"Using {torch.cuda.device_count()} GPUs for this combination.\")\n",
    "    lstm_model = nn.DataParallel(lstm_model)\n",
    "lstm_model = lstm_model.to(device)\n",
    "\n",
    "criterion = nn.BCEWithLogitsLoss()  # Assuming this remains constant\n",
    "optimizer = optim.Adam(lstm_model.parameters(), lr=3e-4)\n",
    "scheduler = optim.lr_scheduler.ReduceLROnPlateau(optimizer, mode='min', patience=5, factor=0.5)"
   ]
  },
  {
   "cell_type": "code",
   "execution_count": 14,
   "metadata": {},
   "outputs": [
    {
     "name": "stdout",
     "output_type": "stream",
     "text": [
      "💪 Starting training from epoch 1 to 300...\n"
     ]
    },
    {
     "name": "stderr",
     "output_type": "stream",
     "text": [
      "Epochs:  86%|▊| 258/300 [02:49<00:27,  1.52it/s, train_loss=0.4566, val_loss=0.4319, best_val_loss=0.4319, lr=1.46e-07, "
     ]
    },
    {
     "name": "stdout",
     "output_type": "stream",
     "text": [
      "🛑 Early stopping: no 'val_loss' improvement in 10 epochs.\n",
      "\n",
      "✅ Training complete.\n",
      "↩️ Loading best model state from .checkpoints/bi_lstm_feature_best_model.pt for return.\n",
      "   - Loading checkpoint from: .checkpoints/bi_lstm_feature_best_model.pt\n",
      "   - Detected full checkpoint dictionary.\n",
      "   - Model state successfully loaded.\n"
     ]
    },
    {
     "name": "stderr",
     "output_type": "stream",
     "text": [
      "\n"
     ]
    }
   ],
   "source": [
    "BI_LSTM_SAVE_PATH = CHECKPOINT_ROOT / \"bi_lstm_feature_best_model.pt\"\n",
    "BI_LSTM_SUBMISSION_PATH = SUBMISSION_ROOT / \"bi_lstm_feature_submission.csv\"\n",
    "\n",
    "# train model on training set (or load existing)\n",
    "train_history, val_history = train_model(\n",
    "        lstm_model, timeseries_loader_tr[\"feature\"], timeseries_loader_val[\"feature\"],\n",
    "        criterion, optimizer, device,\n",
    "        save_path=BI_LSTM_SAVE_PATH,\n",
    "        num_epochs=300,\n",
    "        patience=10,\n",
    "        monitor=\"val_loss\",\n",
    "        scheduler=scheduler,\n",
    "        overwrite=False,\n",
    "        use_gnn=False\n",
    "    )"
   ]
  },
  {
   "cell_type": "code",
   "execution_count": 15,
   "metadata": {},
   "outputs": [
    {
     "data": {
      "image/png": "[encoded data removed]",
      "text/plain": [
       "<Figure size 800x500 with 1 Axes>"
      ]
     },
     "metadata": {},
     "output_type": "display_data"
    }
   ],
   "source": [
    "plot_training_loss(train_history[\"loss\"], val_history[\"loss\"], \"BiLSTM [Features]\")"
   ]
  },
  {
   "cell_type": "code",
   "execution_count": 16,
   "metadata": {},
   "outputs": [
    {
     "name": "stdout",
     "output_type": "stream",
     "text": [
      "⚙️ Evaluating model. Loading model from: .checkpoints/bi_lstm_feature_best_model.pt\n",
      "   - Loading checkpoint from: .checkpoints/bi_lstm_feature_best_model.pt\n",
      "   - Detected full checkpoint dictionary.\n",
      "   - Model state successfully loaded.\n",
      "🧪 Performing inference on the test set...\n"
     ]
    },
    {
     "name": "stderr",
     "output_type": "stream",
     "text": [
      "/Users/lucadibello/Developer/NeuroGraphNet/.venv/lib/python3.13/site-packages/torch/utils/data/dataloader.py:624: UserWarning: This DataLoader will create 16 worker processes in total. Our suggested max number of worker in current system is 12 (`cpuset` is not taken into account), which is smaller than what this DataLoader is going to create. Please be aware that excessive worker creation might get DataLoader running slow or even freeze, lower the worker number to avoid potential slowness/freeze if necessary.\n",
      "  warnings.warn(\n"
     ]
    },
    {
     "ename": "TypeError",
     "evalue": "Caught TypeError in DataLoader worker process 0.\nOriginal Traceback (most recent call last):\n  File \"/Users/lucadibello/Developer/NeuroGraphNet/.venv/lib/python3.13/site-packages/torch/utils/data/_utils/worker.py\", line 349, in _worker_loop\n    data = fetcher.fetch(index)  # type: ignore[possibly-undefined]\n  File \"/Users/lucadibello/Developer/NeuroGraphNet/.venv/lib/python3.13/site-packages/torch/utils/data/_utils/fetch.py\", line 55, in fetch\n    return self.collate_fn(data)\n           ~~~~~~~~~~~~~~~^^^^^^\n  File \"/Users/lucadibello/Developer/NeuroGraphNet/.venv/lib/python3.13/site-packages/torch/utils/data/_utils/collate.py\", line 398, in default_collate\n    return collate(batch, collate_fn_map=default_collate_fn_map)\n  File \"/Users/lucadibello/Developer/NeuroGraphNet/.venv/lib/python3.13/site-packages/torch/utils/data/_utils/collate.py\", line 212, in collate\n    collate(samples, collate_fn_map=collate_fn_map)\n    ~~~~~~~^^^^^^^^^^^^^^^^^^^^^^^^^^^^^^^^^^^^^^^^\n  File \"/Users/lucadibello/Developer/NeuroGraphNet/.venv/lib/python3.13/site-packages/torch/utils/data/_utils/collate.py\", line 240, in collate\n    raise TypeError(default_collate_err_msg_format.format(elem_type))\nTypeError: default_collate: batch must contain tensors, numpy arrays, numbers, dicts or lists; found <class 'NoneType'>\n",
     "output_type": "error",
     "traceback": [
      "\u001b[31m---------------------------------------------------------------------------\u001b[39m",
      "\u001b[31mTypeError\u001b[39m                                 Traceback (most recent call last)",
      "\u001b[36mCell\u001b[39m\u001b[36m \u001b[39m\u001b[32mIn[16]\u001b[39m\u001b[32m, line 4\u001b[39m\n\u001b[32m      2\u001b[39m \u001b[38;5;28;01mfrom\u001b[39;00m\u001b[38;5;250m \u001b[39m\u001b[34;01msrc\u001b[39;00m\u001b[34;01m.\u001b[39;00m\u001b[34;01mutils\u001b[39;00m\u001b[34;01m.\u001b[39;00m\u001b[34;01mtrain\u001b[39;00m\u001b[38;5;250m \u001b[39m\u001b[38;5;28;01mimport\u001b[39;00m evaluate_model\n\u001b[32m      3\u001b[39m \u001b[38;5;66;03m# evaluate model on test set and generate submission file\u001b[39;00m\n\u001b[32m----> \u001b[39m\u001b[32m4\u001b[39m \u001b[43mevaluate_model\u001b[49m\u001b[43m(\u001b[49m\n\u001b[32m      5\u001b[39m \u001b[43m    \u001b[49m\u001b[43mlstm_model\u001b[49m\u001b[43m,\u001b[49m\u001b[43m \u001b[49m\u001b[43mtimeseries_loader_te\u001b[49m\u001b[43m[\u001b[49m\u001b[33;43m\"\u001b[39;49m\u001b[33;43mfeature\u001b[39;49m\u001b[33;43m\"\u001b[39;49m\u001b[43m]\u001b[49m\u001b[43m,\u001b[49m\u001b[43m \u001b[49m\u001b[43mdevice\u001b[49m\u001b[43m,\u001b[49m\n\u001b[32m      6\u001b[39m \u001b[43m    \u001b[49m\u001b[43mcheckpoint_path\u001b[49m\u001b[43m=\u001b[49m\u001b[43mBI_LSTM_SAVE_PATH\u001b[49m\u001b[43m,\u001b[49m\n\u001b[32m      7\u001b[39m \u001b[43m    \u001b[49m\u001b[43msubmission_path\u001b[49m\u001b[43m=\u001b[49m\u001b[43mBI_LSTM_SUBMISSION_PATH\u001b[49m\u001b[43m,\u001b[49m\n\u001b[32m      8\u001b[39m \u001b[43m    \u001b[49m\u001b[43muse_gnn\u001b[49m\u001b[43m=\u001b[49m\u001b[38;5;28;43;01mFalse\u001b[39;49;00m\u001b[43m,\u001b[49m\n\u001b[32m      9\u001b[39m \u001b[43m    \u001b[49m\u001b[43minput_type\u001b[49m\u001b[43m=\u001b[49m\u001b[33;43m\"\u001b[39;49m\u001b[33;43mfeature\u001b[39;49m\u001b[33;43m\"\u001b[39;49m\u001b[43m,\u001b[49m\n\u001b[32m     10\u001b[39m \u001b[43m)\u001b[49m\n",
      "\u001b[36mFile \u001b[39m\u001b[32m~/Developer/NeuroGraphNet/src/utils/train.py:462\u001b[39m, in \u001b[36mevaluate_model\u001b[39m\u001b[34m(model, test_loader, device, checkpoint_path, submission_path, id_attribute, threshold, use_gnn, input_type)\u001b[39m\n\u001b[32m    459\u001b[39m \u001b[38;5;28mprint\u001b[39m(\u001b[33m\"\u001b[39m\u001b[33m🧪 Performing inference on the test set...\u001b[39m\u001b[33m\"\u001b[39m)\n\u001b[32m    460\u001b[39m \u001b[38;5;28;01mwith\u001b[39;00m torch.no_grad():\n\u001b[32m    461\u001b[39m     \u001b[38;5;66;03m# for batch_data in tqdm(test_loader, desc=\"Evaluating\"):\u001b[39;00m\n\u001b[32m--> \u001b[39m\u001b[32m462\u001b[39m \u001b[43m    \u001b[49m\u001b[38;5;28;43;01mfor\u001b[39;49;00m\u001b[43m \u001b[49m\u001b[43mbatch_data\u001b[49m\u001b[43m \u001b[49m\u001b[38;5;129;43;01min\u001b[39;49;00m\u001b[43m \u001b[49m\u001b[43mtest_loader\u001b[49m\u001b[43m:\u001b[49m\n\u001b[32m    463\u001b[39m \u001b[43m        \u001b[49m\u001b[38;5;28;43mprint\u001b[39;49m\u001b[43m(\u001b[49m\u001b[33;43mf\u001b[39;49m\u001b[33;43m\"\u001b[39;49m\u001b[33;43mBATCH: \u001b[39;49m\u001b[38;5;132;43;01m{\u001b[39;49;00m\u001b[43mbatch_data\u001b[49m\u001b[38;5;132;43;01m}\u001b[39;49;00m\u001b[33;43m, feature: \u001b[39;49m\u001b[38;5;132;43;01m{\u001b[39;49;00m\u001b[43mbatch_data\u001b[49m\u001b[43m.\u001b[49m\u001b[43mx\u001b[49m\u001b[38;5;132;43;01m}\u001b[39;49;00m\u001b[33;43m\"\u001b[39;49m\u001b[43m)\u001b[49m\n\u001b[32m    464\u001b[39m \u001b[43m        \u001b[49m\u001b[38;5;66;43;03m# Handle different batch formats for device transfer\u001b[39;49;00m\n",
      "\u001b[36mFile \u001b[39m\u001b[32m~/Developer/NeuroGraphNet/.venv/lib/python3.13/site-packages/torch/utils/data/dataloader.py:708\u001b[39m, in \u001b[36m_BaseDataLoaderIter.__next__\u001b[39m\u001b[34m(self)\u001b[39m\n\u001b[32m    705\u001b[39m \u001b[38;5;28;01mif\u001b[39;00m \u001b[38;5;28mself\u001b[39m._sampler_iter \u001b[38;5;129;01mis\u001b[39;00m \u001b[38;5;28;01mNone\u001b[39;00m:\n\u001b[32m    706\u001b[39m     \u001b[38;5;66;03m# TODO(https://github.com/pytorch/pytorch/issues/76750)\u001b[39;00m\n\u001b[32m    707\u001b[39m     \u001b[38;5;28mself\u001b[39m._reset()  \u001b[38;5;66;03m# type: ignore[call-arg]\u001b[39;00m\n\u001b[32m--> \u001b[39m\u001b[32m708\u001b[39m data = \u001b[38;5;28;43mself\u001b[39;49m\u001b[43m.\u001b[49m\u001b[43m_next_data\u001b[49m\u001b[43m(\u001b[49m\u001b[43m)\u001b[49m\n\u001b[32m    709\u001b[39m \u001b[38;5;28mself\u001b[39m._num_yielded += \u001b[32m1\u001b[39m\n\u001b[32m    710\u001b[39m \u001b[38;5;28;01mif\u001b[39;00m (\n\u001b[32m    711\u001b[39m     \u001b[38;5;28mself\u001b[39m._dataset_kind == _DatasetKind.Iterable\n\u001b[32m    712\u001b[39m     \u001b[38;5;129;01mand\u001b[39;00m \u001b[38;5;28mself\u001b[39m._IterableDataset_len_called \u001b[38;5;129;01mis\u001b[39;00m \u001b[38;5;129;01mnot\u001b[39;00m \u001b[38;5;28;01mNone\u001b[39;00m\n\u001b[32m    713\u001b[39m     \u001b[38;5;129;01mand\u001b[39;00m \u001b[38;5;28mself\u001b[39m._num_yielded > \u001b[38;5;28mself\u001b[39m._IterableDataset_len_called\n\u001b[32m    714\u001b[39m ):\n",
      "\u001b[36mFile \u001b[39m\u001b[32m~/Developer/NeuroGraphNet/.venv/lib/python3.13/site-packages/torch/utils/data/dataloader.py:1480\u001b[39m, in \u001b[36m_MultiProcessingDataLoaderIter._next_data\u001b[39m\u001b[34m(self)\u001b[39m\n\u001b[32m   1478\u001b[39m \u001b[38;5;28;01mdel\u001b[39;00m \u001b[38;5;28mself\u001b[39m._task_info[idx]\n\u001b[32m   1479\u001b[39m \u001b[38;5;28mself\u001b[39m._rcvd_idx += \u001b[32m1\u001b[39m\n\u001b[32m-> \u001b[39m\u001b[32m1480\u001b[39m \u001b[38;5;28;01mreturn\u001b[39;00m \u001b[38;5;28;43mself\u001b[39;49m\u001b[43m.\u001b[49m\u001b[43m_process_data\u001b[49m\u001b[43m(\u001b[49m\u001b[43mdata\u001b[49m\u001b[43m)\u001b[49m\n",
      "\u001b[36mFile \u001b[39m\u001b[32m~/Developer/NeuroGraphNet/.venv/lib/python3.13/site-packages/torch/utils/data/dataloader.py:1505\u001b[39m, in \u001b[36m_MultiProcessingDataLoaderIter._process_data\u001b[39m\u001b[34m(self, data)\u001b[39m\n\u001b[32m   1503\u001b[39m \u001b[38;5;28mself\u001b[39m._try_put_index()\n\u001b[32m   1504\u001b[39m \u001b[38;5;28;01mif\u001b[39;00m \u001b[38;5;28misinstance\u001b[39m(data, ExceptionWrapper):\n\u001b[32m-> \u001b[39m\u001b[32m1505\u001b[39m     \u001b[43mdata\u001b[49m\u001b[43m.\u001b[49m\u001b[43mreraise\u001b[49m\u001b[43m(\u001b[49m\u001b[43m)\u001b[49m\n\u001b[32m   1506\u001b[39m \u001b[38;5;28;01mreturn\u001b[39;00m data\n",
      "\u001b[36mFile \u001b[39m\u001b[32m~/Developer/NeuroGraphNet/.venv/lib/python3.13/site-packages/torch/_utils.py:733\u001b[39m, in \u001b[36mExceptionWrapper.reraise\u001b[39m\u001b[34m(self)\u001b[39m\n\u001b[32m    729\u001b[39m \u001b[38;5;28;01mexcept\u001b[39;00m \u001b[38;5;167;01mTypeError\u001b[39;00m:\n\u001b[32m    730\u001b[39m     \u001b[38;5;66;03m# If the exception takes multiple arguments, don't try to\u001b[39;00m\n\u001b[32m    731\u001b[39m     \u001b[38;5;66;03m# instantiate since we don't know how to\u001b[39;00m\n\u001b[32m    732\u001b[39m     \u001b[38;5;28;01mraise\u001b[39;00m \u001b[38;5;167;01mRuntimeError\u001b[39;00m(msg) \u001b[38;5;28;01mfrom\u001b[39;00m\u001b[38;5;250m \u001b[39m\u001b[38;5;28;01mNone\u001b[39;00m\n\u001b[32m--> \u001b[39m\u001b[32m733\u001b[39m \u001b[38;5;28;01mraise\u001b[39;00m exception\n",
      "\u001b[31mTypeError\u001b[39m: Caught TypeError in DataLoader worker process 0.\nOriginal Traceback (most recent call last):\n  File \"/Users/lucadibello/Developer/NeuroGraphNet/.venv/lib/python3.13/site-packages/torch/utils/data/_utils/worker.py\", line 349, in _worker_loop\n    data = fetcher.fetch(index)  # type: ignore[possibly-undefined]\n  File \"/Users/lucadibello/Developer/NeuroGraphNet/.venv/lib/python3.13/site-packages/torch/utils/data/_utils/fetch.py\", line 55, in fetch\n    return self.collate_fn(data)\n           ~~~~~~~~~~~~~~~^^^^^^\n  File \"/Users/lucadibello/Developer/NeuroGraphNet/.venv/lib/python3.13/site-packages/torch/utils/data/_utils/collate.py\", line 398, in default_collate\n    return collate(batch, collate_fn_map=default_collate_fn_map)\n  File \"/Users/lucadibello/Developer/NeuroGraphNet/.venv/lib/python3.13/site-packages/torch/utils/data/_utils/collate.py\", line 212, in collate\n    collate(samples, collate_fn_map=collate_fn_map)\n    ~~~~~~~^^^^^^^^^^^^^^^^^^^^^^^^^^^^^^^^^^^^^^^^\n  File \"/Users/lucadibello/Developer/NeuroGraphNet/.venv/lib/python3.13/site-packages/torch/utils/data/_utils/collate.py\", line 240, in collate\n    raise TypeError(default_collate_err_msg_format.format(elem_type))\nTypeError: default_collate: batch must contain tensors, numpy arrays, numbers, dicts or lists; found <class 'NoneType'>\n"
     ]
    }
   ],
   "source": [
    "%aimport src.utils.train\n",
    "from src.utils.train import evaluate_model\n",
    "# evaluate model on test set and generate submission file\n",
    "evaluate_model(\n",
    "    lstm_model, timeseries_loader_te[\"feature\"], device,\n",
    "    checkpoint_path=BI_LSTM_SAVE_PATH,\n",
    "    submission_path=BI_LSTM_SUBMISSION_PATH,\n",
    "    use_gnn=False,\n",
    "    input_type=\"feature\",\n",
    ")"
   ]
  },
  {
   "cell_type": "markdown",
   "metadata": {},
   "source": [
    "**Features + Oversampling**"
   ]
  },
  {
   "cell_type": "code",
   "execution_count": 25,
   "metadata": {},
   "outputs": [
    {
     "name": "stdout",
     "output_type": "stream",
     "text": [
      "🚀 Attempting to load checkpoint from .checkpoints/bi_lstm_feature_best_model.pt...\n",
      "   - Loading checkpoint from: .checkpoints/bi_lstm_feature_best_model.pt\n",
      "   - Detected full checkpoint dictionary.\n",
      "   - Warning: Could not load optimizer state from checkpoint: loaded state dict contains a parameter group that doesn't match the size of optimizer's group\n",
      " ⚠️ Could not load checkpoint: Error(s) in loading state_dict for LSTM:\n",
      "\tUnexpected key(s) in state_dict: \"lstm.weight_ih_l0_reverse\", \"lstm.weight_hh_l0_reverse\", \"lstm.bias_ih_l0_reverse\", \"lstm.bias_hh_l0_reverse\", \"lstm.weight_ih_l1_reverse\", \"lstm.weight_hh_l1_reverse\", \"lstm.bias_ih_l1_reverse\", \"lstm.bias_hh_l1_reverse\", \"lstm.weight_ih_l2_reverse\", \"lstm.weight_hh_l2_reverse\", \"lstm.bias_ih_l2_reverse\", \"lstm.bias_hh_l2_reverse\", \"lstm.weight_ih_l3_reverse\", \"lstm.weight_hh_l3_reverse\", \"lstm.bias_ih_l3_reverse\", \"lstm.bias_hh_l3_reverse\". \n",
      "\tsize mismatch for lstm.weight_ih_l1: copying a param with shape torch.Size([256, 128]) from checkpoint, the shape in current model is torch.Size([256, 64]).\n",
      "\tsize mismatch for lstm.weight_ih_l2: copying a param with shape torch.Size([256, 128]) from checkpoint, the shape in current model is torch.Size([256, 64]).\n",
      "\tsize mismatch for lstm.weight_ih_l3: copying a param with shape torch.Size([256, 128]) from checkpoint, the shape in current model is torch.Size([256, 64]).\n",
      "\tsize mismatch for fc.weight: copying a param with shape torch.Size([1, 128]) from checkpoint, the shape in current model is torch.Size([1, 64]).. Starting training from scratch.\n",
      "🔍 Applying oversampling to the training data...\n",
      "  Attribute-based label extraction not applicable or failed. Iterating through 10394 dataset samples...\n"
     ]
    },
    {
     "name": "stderr",
     "output_type": "stream",
     "text": [
      "/Users/lucadibello/Developer/NeuroGraphNet/.venv/lib/python3.13/site-packages/torch/utils/data/dataloader.py:624: UserWarning: This DataLoader will create 16 worker processes in total. Our suggested max number of worker in current system is 12 (`cpuset` is not taken into account), which is smaller than what this DataLoader is going to create. Please be aware that excessive worker creation might get DataLoader running slow or even freeze, lower the worker number to avoid potential slowness/freeze if necessary.\n",
      "  warnings.warn(\n"
     ]
    },
    {
     "name": "stdout",
     "output_type": "stream",
     "text": [
      "  Finished iterating. Collected 10394 labels.\n",
      "  Class counts before oversampling: [8375, 2019]\n",
      "  Successfully created an oversampled DataLoader.\n",
      "💪 Starting training from epoch 1 to 300...\n"
     ]
    },
    {
     "name": "stderr",
     "output_type": "stream",
     "text": [
      "Epochs:   0%|▎                                                                                  | 1/300 [01:43<?, ?it/s]\n"
     ]
    },
    {
     "ename": "RuntimeError",
     "evalue": "DataLoader worker (pid(s) 23137, 23165, 23182, 23190, 23198, 23206, 23214, 23223, 23234, 23249, 23262, 23271, 23279, 23287, 23302, 23311) exited unexpectedly",
     "output_type": "error",
     "traceback": [
      "\u001b[31m---------------------------------------------------------------------------\u001b[39m",
      "\u001b[31mEmpty\u001b[39m                                     Traceback (most recent call last)",
      "\u001b[36mFile \u001b[39m\u001b[32m~/Developer/NeuroGraphNet/.venv/lib/python3.13/site-packages/torch/utils/data/dataloader.py:1251\u001b[39m, in \u001b[36m_MultiProcessingDataLoaderIter._try_get_data\u001b[39m\u001b[34m(self, timeout)\u001b[39m\n\u001b[32m   1250\u001b[39m \u001b[38;5;28;01mtry\u001b[39;00m:\n\u001b[32m-> \u001b[39m\u001b[32m1251\u001b[39m     data = \u001b[38;5;28;43mself\u001b[39;49m\u001b[43m.\u001b[49m\u001b[43m_data_queue\u001b[49m\u001b[43m.\u001b[49m\u001b[43mget\u001b[49m\u001b[43m(\u001b[49m\u001b[43mtimeout\u001b[49m\u001b[43m=\u001b[49m\u001b[43mtimeout\u001b[49m\u001b[43m)\u001b[49m\n\u001b[32m   1252\u001b[39m     \u001b[38;5;28;01mreturn\u001b[39;00m (\u001b[38;5;28;01mTrue\u001b[39;00m, data)\n",
      "\u001b[36mFile \u001b[39m\u001b[32m/opt/homebrew/Cellar/python@3.13/3.13.3/Frameworks/Python.framework/Versions/3.13/lib/python3.13/multiprocessing/queues.py:112\u001b[39m, in \u001b[36mQueue.get\u001b[39m\u001b[34m(self, block, timeout)\u001b[39m\n\u001b[32m    111\u001b[39m     \u001b[38;5;28;01mif\u001b[39;00m \u001b[38;5;129;01mnot\u001b[39;00m \u001b[38;5;28mself\u001b[39m._poll(timeout):\n\u001b[32m--> \u001b[39m\u001b[32m112\u001b[39m         \u001b[38;5;28;01mraise\u001b[39;00m Empty\n\u001b[32m    113\u001b[39m \u001b[38;5;28;01melif\u001b[39;00m \u001b[38;5;129;01mnot\u001b[39;00m \u001b[38;5;28mself\u001b[39m._poll():\n",
      "\u001b[31mEmpty\u001b[39m: ",
      "\nThe above exception was the direct cause of the following exception:\n",
      "\u001b[31mRuntimeError\u001b[39m                              Traceback (most recent call last)",
      "\u001b[36mCell\u001b[39m\u001b[36m \u001b[39m\u001b[32mIn[25]\u001b[39m\u001b[32m, line 5\u001b[39m\n\u001b[32m      2\u001b[39m BI_LSTM_SUBMISSION_PATH = SUBMISSION_ROOT / \u001b[33m\"\u001b[39m\u001b[33mbi_lstm_feature_submission.csv\u001b[39m\u001b[33m\"\u001b[39m\n\u001b[32m      4\u001b[39m \u001b[38;5;66;03m# train model on training set (or load existing)\u001b[39;00m\n\u001b[32m----> \u001b[39m\u001b[32m5\u001b[39m train_history, val_history = \u001b[43mtrain_model\u001b[49m\u001b[43m(\u001b[49m\n\u001b[32m      6\u001b[39m \u001b[43m    \u001b[49m\u001b[43mlstm_model\u001b[49m\u001b[43m,\u001b[49m\u001b[43m \u001b[49m\u001b[43mtimeseries_loader_tr\u001b[49m\u001b[43m[\u001b[49m\u001b[33;43m\"\u001b[39;49m\u001b[33;43mfeature\u001b[39;49m\u001b[33;43m\"\u001b[39;49m\u001b[43m]\u001b[49m\u001b[43m,\u001b[49m\u001b[43m \u001b[49m\u001b[43mtimeseries_loader_val\u001b[49m\u001b[43m[\u001b[49m\u001b[33;43m\"\u001b[39;49m\u001b[33;43mfeature\u001b[39;49m\u001b[33;43m\"\u001b[39;49m\u001b[43m]\u001b[49m\u001b[43m,\u001b[49m\n\u001b[32m      7\u001b[39m \u001b[43m    \u001b[49m\u001b[43mcriterion\u001b[49m\u001b[43m,\u001b[49m\u001b[43m \u001b[49m\u001b[43moptimizer\u001b[49m\u001b[43m,\u001b[49m\u001b[43m \u001b[49m\u001b[43mdevice\u001b[49m\u001b[43m,\u001b[49m\n\u001b[32m      8\u001b[39m \u001b[43m    \u001b[49m\u001b[43msave_path\u001b[49m\u001b[43m=\u001b[49m\u001b[43mBI_LSTM_SAVE_PATH\u001b[49m\u001b[43m,\u001b[49m\n\u001b[32m      9\u001b[39m \u001b[43m    \u001b[49m\u001b[43mnum_epochs\u001b[49m\u001b[43m=\u001b[49m\u001b[32;43m300\u001b[39;49m\u001b[43m,\u001b[49m\n\u001b[32m     10\u001b[39m \u001b[43m    \u001b[49m\u001b[43mpatience\u001b[49m\u001b[43m=\u001b[49m\u001b[32;43m10\u001b[39;49m\u001b[43m,\u001b[49m\n\u001b[32m     11\u001b[39m \u001b[43m    \u001b[49m\u001b[43mmonitor\u001b[49m\u001b[43m=\u001b[49m\u001b[33;43m\"\u001b[39;49m\u001b[33;43mval_loss\u001b[39;49m\u001b[33;43m\"\u001b[39;49m\u001b[43m,\u001b[49m\n\u001b[32m     12\u001b[39m \u001b[43m    \u001b[49m\u001b[43mscheduler\u001b[49m\u001b[43m=\u001b[49m\u001b[43mscheduler\u001b[49m\u001b[43m,\u001b[49m\n\u001b[32m     13\u001b[39m \u001b[43m    \u001b[49m\u001b[43moverwrite\u001b[49m\u001b[43m=\u001b[49m\u001b[38;5;28;43;01mFalse\u001b[39;49;00m\u001b[43m,\u001b[49m\n\u001b[32m     14\u001b[39m \u001b[43m    \u001b[49m\u001b[43muse_gnn\u001b[49m\u001b[43m=\u001b[49m\u001b[38;5;28;43;01mFalse\u001b[39;49;00m\u001b[43m,\u001b[49m\n\u001b[32m     15\u001b[39m \u001b[43m    \u001b[49m\u001b[43muse_oversampling\u001b[49m\u001b[43m=\u001b[49m\u001b[38;5;28;43;01mTrue\u001b[39;49;00m\u001b[43m,\u001b[49m\n\u001b[32m     16\u001b[39m \u001b[43m)\u001b[49m\n",
      "\u001b[36mFile \u001b[39m\u001b[32m<string>:185\u001b[39m, in \u001b[36mtrain_model\u001b[39m\u001b[34m(model, train_loader, val_loader, criterion, optimizer, device, save_path, scheduler, monitor, patience, num_epochs, grad_clip, overwrite, use_gnn, use_oversampling)\u001b[39m\n",
      "\u001b[36mFile \u001b[39m\u001b[32m~/Developer/NeuroGraphNet/.venv/lib/python3.13/site-packages/torch/utils/data/dataloader.py:488\u001b[39m, in \u001b[36mDataLoader.__iter__\u001b[39m\u001b[34m(self)\u001b[39m\n\u001b[32m    486\u001b[39m         \u001b[38;5;28mself\u001b[39m._iterator = \u001b[38;5;28mself\u001b[39m._get_iterator()\n\u001b[32m    487\u001b[39m     \u001b[38;5;28;01melse\u001b[39;00m:\n\u001b[32m--> \u001b[39m\u001b[32m488\u001b[39m         \u001b[38;5;28;43mself\u001b[39;49m\u001b[43m.\u001b[49m\u001b[43m_iterator\u001b[49m\u001b[43m.\u001b[49m\u001b[43m_reset\u001b[49m\u001b[43m(\u001b[49m\u001b[38;5;28;43mself\u001b[39;49m\u001b[43m)\u001b[49m\n\u001b[32m    489\u001b[39m     \u001b[38;5;28;01mreturn\u001b[39;00m \u001b[38;5;28mself\u001b[39m._iterator\n\u001b[32m    490\u001b[39m \u001b[38;5;28;01melse\u001b[39;00m:\n",
      "\u001b[36mFile \u001b[39m\u001b[32m~/Developer/NeuroGraphNet/.venv/lib/python3.13/site-packages/torch/utils/data/dataloader.py:1230\u001b[39m, in \u001b[36m_MultiProcessingDataLoaderIter._reset\u001b[39m\u001b[34m(self, loader, first_iter)\u001b[39m\n\u001b[32m   1228\u001b[39m resume_iteration_cnt = \u001b[38;5;28mself\u001b[39m._num_workers\n\u001b[32m   1229\u001b[39m \u001b[38;5;28;01mwhile\u001b[39;00m resume_iteration_cnt > \u001b[32m0\u001b[39m:\n\u001b[32m-> \u001b[39m\u001b[32m1230\u001b[39m     return_idx, return_data = \u001b[38;5;28;43mself\u001b[39;49m\u001b[43m.\u001b[49m\u001b[43m_get_data\u001b[49m\u001b[43m(\u001b[49m\u001b[43m)\u001b[49m\n\u001b[32m   1231\u001b[39m     \u001b[38;5;28;01mif\u001b[39;00m \u001b[38;5;28misinstance\u001b[39m(return_idx, _utils.worker._ResumeIteration):\n\u001b[32m   1232\u001b[39m         \u001b[38;5;28;01massert\u001b[39;00m return_data \u001b[38;5;129;01mis\u001b[39;00m \u001b[38;5;28;01mNone\u001b[39;00m\n",
      "\u001b[36mFile \u001b[39m\u001b[32m~/Developer/NeuroGraphNet/.venv/lib/python3.13/site-packages/torch/utils/data/dataloader.py:1420\u001b[39m, in \u001b[36m_MultiProcessingDataLoaderIter._get_data\u001b[39m\u001b[34m(self)\u001b[39m\n\u001b[32m   1416\u001b[39m     \u001b[38;5;66;03m# In this case, `self._data_queue` is a `queue.Queue`,. But we don't\u001b[39;00m\n\u001b[32m   1417\u001b[39m     \u001b[38;5;66;03m# need to call `.task_done()` because we don't use `.join()`.\u001b[39;00m\n\u001b[32m   1418\u001b[39m \u001b[38;5;28;01melse\u001b[39;00m:\n\u001b[32m   1419\u001b[39m     \u001b[38;5;28;01mwhile\u001b[39;00m \u001b[38;5;28;01mTrue\u001b[39;00m:\n\u001b[32m-> \u001b[39m\u001b[32m1420\u001b[39m         success, data = \u001b[38;5;28;43mself\u001b[39;49m\u001b[43m.\u001b[49m\u001b[43m_try_get_data\u001b[49m\u001b[43m(\u001b[49m\u001b[43m)\u001b[49m\n\u001b[32m   1421\u001b[39m         \u001b[38;5;28;01mif\u001b[39;00m success:\n\u001b[32m   1422\u001b[39m             \u001b[38;5;28;01mreturn\u001b[39;00m data\n",
      "\u001b[36mFile \u001b[39m\u001b[32m~/Developer/NeuroGraphNet/.venv/lib/python3.13/site-packages/torch/utils/data/dataloader.py:1264\u001b[39m, in \u001b[36m_MultiProcessingDataLoaderIter._try_get_data\u001b[39m\u001b[34m(self, timeout)\u001b[39m\n\u001b[32m   1262\u001b[39m \u001b[38;5;28;01mif\u001b[39;00m \u001b[38;5;28mlen\u001b[39m(failed_workers) > \u001b[32m0\u001b[39m:\n\u001b[32m   1263\u001b[39m     pids_str = \u001b[33m\"\u001b[39m\u001b[33m, \u001b[39m\u001b[33m\"\u001b[39m.join(\u001b[38;5;28mstr\u001b[39m(w.pid) \u001b[38;5;28;01mfor\u001b[39;00m w \u001b[38;5;129;01min\u001b[39;00m failed_workers)\n\u001b[32m-> \u001b[39m\u001b[32m1264\u001b[39m     \u001b[38;5;28;01mraise\u001b[39;00m \u001b[38;5;167;01mRuntimeError\u001b[39;00m(\n\u001b[32m   1265\u001b[39m         \u001b[33mf\u001b[39m\u001b[33m\"\u001b[39m\u001b[33mDataLoader worker (pid(s) \u001b[39m\u001b[38;5;132;01m{\u001b[39;00mpids_str\u001b[38;5;132;01m}\u001b[39;00m\u001b[33m) exited unexpectedly\u001b[39m\u001b[33m\"\u001b[39m\n\u001b[32m   1266\u001b[39m     ) \u001b[38;5;28;01mfrom\u001b[39;00m\u001b[38;5;250m \u001b[39m\u001b[34;01me\u001b[39;00m\n\u001b[32m   1267\u001b[39m \u001b[38;5;28;01mif\u001b[39;00m \u001b[38;5;28misinstance\u001b[39m(e, queue.Empty):\n\u001b[32m   1268\u001b[39m     \u001b[38;5;28;01mreturn\u001b[39;00m (\u001b[38;5;28;01mFalse\u001b[39;00m, \u001b[38;5;28;01mNone\u001b[39;00m)\n",
      "\u001b[31mRuntimeError\u001b[39m: DataLoader worker (pid(s) 23137, 23165, 23182, 23190, 23198, 23206, 23214, 23223, 23234, 23249, 23262, 23271, 23279, 23287, 23302, 23311) exited unexpectedly"
     ]
    }
   ],
   "source": [
    "BI_LSTM_SAVE_PATH = CHECKPOINT_ROOT / \"bi_lstm_feature_best_model.pt\"\n",
    "BI_LSTM_SUBMISSION_PATH = SUBMISSION_ROOT / \"bi_lstm_feature_submission.csv\"\n",
    "\n",
    "# train model on training set (or load existing)\n",
    "train_history, val_history = train_model(\n",
    "    lstm_model, timeseries_loader_tr[\"feature\"], timeseries_loader_val[\"feature\"],\n",
    "    criterion, optimizer, device,\n",
    "    save_path=BI_LSTM_SAVE_PATH,\n",
    "    num_epochs=300,\n",
    "    patience=10,\n",
    "    monitor=\"val_loss\",\n",
    "    scheduler=scheduler,\n",
    "    overwrite=False,\n",
    "    use_gnn=False,\n",
    "    use_oversampling=True,\n",
    ")"
   ]
  },
  {
   "cell_type": "markdown",
   "metadata": {},
   "source": [
    "### 3. LSTM with Attention and early stopping"
   ]
  },
  {
   "cell_type": "markdown",
   "metadata": {},
   "source": [
    "**Features**"
   ]
  },
  {
   "cell_type": "code",
   "execution_count": 34,
   "metadata": {},
   "outputs": [],
   "source": [
    "%aimport src.layers.lstm\n",
    "from src.layers.lstm import LSTMAttention\n",
    "\n",
    "# Create model and fit it\n",
    "attention_lstm_model = LSTMAttention(input_dim=228, hidden_dim=64, num_layers=3, dropout=0.2, input_type=\"feature\")\n",
    "if torch.cuda.device_count() > 1:\n",
    "    print(f\"Using {torch.cuda.device_count()} GPUs\")\n",
    "    attention_lstm_model = nn.DataParallel(attention_lstm_model)\n",
    "attention_lstm_model = attention_lstm_model.to(device)\n",
    "\n",
    "criterion = nn.BCEWithLogitsLoss()\n",
    "optimizer = optim.Adam(attention_lstm_model.parameters(), lr=1e-3, weight_decay=1e-5)\n",
    "scheduler = optim.lr_scheduler.ReduceLROnPlateau(optimizer, mode='min', patience=5, factor=0.5)"
   ]
  },
  {
   "cell_type": "code",
   "execution_count": 36,
   "metadata": {},
   "outputs": [
    {
     "name": "stdout",
     "output_type": "stream",
     "text": [
      "💪 Starting training from epoch 1 to 300...\n"
     ]
    },
    {
     "name": "stderr",
     "output_type": "stream",
     "text": [
      "Epochs:   0%|▎                                                                                  | 1/300 [00:00<?, ?it/s]"
     ]
    },
    {
     "name": "stdout",
     "output_type": "stream",
     "text": [
      "LSTMAttention forward pass with input_type: feature, input shape: torch.Size([512, 228])\n",
      "LSTMAttention forward pass with input_type: feature, input shape: torch.Size([512, 228])\n",
      "LSTMAttention forward pass with input_type: feature, input shape: torch.Size([512, 228])\n",
      "LSTMAttention forward pass with input_type: feature, input shape: torch.Size([512, 228])\n",
      "LSTMAttention forward pass with input_type: feature, input shape: torch.Size([512, 228])\n",
      "LSTMAttention forward pass with input_type: feature, input shape: torch.Size([512, 228])\n",
      "LSTMAttention forward pass with input_type: feature, input shape: torch.Size([512, 228])\n",
      "LSTMAttention forward pass with input_type: feature, input shape: torch.Size([512, 228])\n",
      "LSTMAttention forward pass with input_type: feature, input shape: torch.Size([512, 228])\n",
      "LSTMAttention forward pass with input_type: feature, input shape: torch.Size([512, 228])\n",
      "LSTMAttention forward pass with input_type: feature, input shape: torch.Size([512, 228])\n",
      "LSTMAttention forward pass with input_type: feature, input shape: torch.Size([512, 228])\n",
      "LSTMAttention forward pass with input_type: feature, input shape: torch.Size([512, 228])\n",
      "LSTMAttention forward pass with input_type: feature, input shape: torch.Size([512, 228])\n",
      "LSTMAttention forward pass with input_type: feature, input shape: torch.Size([512, 228])\n",
      "LSTMAttention forward pass with input_type: feature, input shape: torch.Size([512, 228])\n",
      "LSTMAttention forward pass with input_type: feature, input shape: torch.Size([512, 228])\n",
      "LSTMAttention forward pass with input_type: feature, input shape: torch.Size([512, 228])\n",
      "LSTMAttention forward pass with input_type: feature, input shape: torch.Size([512, 228])\n",
      "LSTMAttention forward pass with input_type: feature, input shape: torch.Size([512, 228])\n",
      "LSTMAttention forward pass with input_type: feature, input shape: torch.Size([154, 228])\n"
     ]
    },
    {
     "name": "stderr",
     "output_type": "stream",
     "text": [
      "Epochs:   1%| | 2/300 [00:01<05:00,  1.01s/it, train_loss=0.6008, val_loss=0.5081, best_val_loss=0.5081, lr=1.00e-03, ba"
     ]
    },
    {
     "name": "stdout",
     "output_type": "stream",
     "text": [
      "LSTMAttention forward pass with input_type: feature, input shape: torch.Size([512, 228])\n",
      "LSTMAttention forward pass with input_type: feature, input shape: torch.Size([512, 228])\n",
      "LSTMAttention forward pass with input_type: feature, input shape: torch.Size([512, 228])\n",
      "LSTMAttention forward pass with input_type: feature, input shape: torch.Size([512, 228])\n",
      "LSTMAttention forward pass with input_type: feature, input shape: torch.Size([512, 228])\n",
      "LSTMAttention forward pass with input_type: feature, input shape: torch.Size([39, 228])\n",
      "LSTMAttention forward pass with input_type: feature, input shape: torch.Size([512, 228])\n",
      "LSTMAttention forward pass with input_type: feature, input shape: torch.Size([512, 228])\n",
      "LSTMAttention forward pass with input_type: feature, input shape: torch.Size([512, 228])\n",
      "LSTMAttention forward pass with input_type: feature, input shape: torch.Size([512, 228])\n",
      "LSTMAttention forward pass with input_type: feature, input shape: torch.Size([512, 228])\n",
      "LSTMAttention forward pass with input_type: feature, input shape: torch.Size([512, 228])\n",
      "LSTMAttention forward pass with input_type: feature, input shape: torch.Size([512, 228])\n",
      "LSTMAttention forward pass with input_type: feature, input shape: torch.Size([512, 228])\n",
      "LSTMAttention forward pass with input_type: feature, input shape: torch.Size([512, 228])\n",
      "LSTMAttention forward pass with input_type: feature, input shape: torch.Size([512, 228])\n",
      "LSTMAttention forward pass with input_type: feature, input shape: torch.Size([512, 228])\n",
      "LSTMAttention forward pass with input_type: feature, input shape: torch.Size([512, 228])\n",
      "LSTMAttention forward pass with input_type: feature, input shape: torch.Size([512, 228])\n",
      "LSTMAttention forward pass with input_type: feature, input shape: torch.Size([512, 228])\n",
      "LSTMAttention forward pass with input_type: feature, input shape: torch.Size([512, 228])\n",
      "LSTMAttention forward pass with input_type: feature, input shape: torch.Size([512, 228])\n"
     ]
    },
    {
     "name": "stderr",
     "output_type": "stream",
     "text": [
      "Epochs:   1%| | 3/300 [00:01<03:41,  1.34it/s, train_loss=0.5076, val_loss=0.4942, best_val_loss=0.4942, lr=1.00e-03, ba"
     ]
    },
    {
     "name": "stdout",
     "output_type": "stream",
     "text": [
      "LSTMAttention forward pass with input_type: feature, input shape: torch.Size([512, 228])\n",
      "LSTMAttention forward pass with input_type: feature, input shape: torch.Size([512, 228])\n",
      "LSTMAttention forward pass with input_type: feature, input shape: torch.Size([512, 228])\n",
      "LSTMAttention forward pass with input_type: feature, input shape: torch.Size([512, 228])\n",
      "LSTMAttention forward pass with input_type: feature, input shape: torch.Size([154, 228])\n",
      "LSTMAttention forward pass with input_type: feature, input shape: torch.Size([512, 228])\n",
      "LSTMAttention forward pass with input_type: feature, input shape: torch.Size([512, 228])\n",
      "LSTMAttention forward pass with input_type: feature, input shape: torch.Size([512, 228])\n",
      "LSTMAttention forward pass with input_type: feature, input shape: torch.Size([512, 228])\n",
      "LSTMAttention forward pass with input_type: feature, input shape: torch.Size([512, 228])\n",
      "LSTMAttention forward pass with input_type: feature, input shape: torch.Size([39, 228])\n",
      "LSTMAttention forward pass with input_type: feature, input shape: torch.Size([512, 228])\n",
      "LSTMAttention forward pass with input_type: feature, input shape: torch.Size([512, 228])\n",
      "LSTMAttention forward pass with input_type: feature, input shape: torch.Size([512, 228])\n",
      "LSTMAttention forward pass with input_type: feature, input shape: torch.Size([512, 228])\n",
      "LSTMAttention forward pass with input_type: feature, input shape: torch.Size([512, 228])\n",
      "LSTMAttention forward pass with input_type: feature, input shape: torch.Size([512, 228])\n",
      "LSTMAttention forward pass with input_type: feature, input shape: torch.Size([512, 228])\n",
      "LSTMAttention forward pass with input_type: feature, input shape: torch.Size([512, 228])\n",
      "LSTMAttention forward pass with input_type: feature, input shape: torch.Size([512, 228])\n",
      "LSTMAttention forward pass with input_type: feature, input shape: torch.Size([512, 228])\n",
      "LSTMAttention forward pass with input_type: feature, input shape: torch.Size([512, 228])\n",
      "LSTMAttention forward pass with input_type: feature, input shape: torch.Size([512, 228])\n",
      "LSTMAttention forward pass with input_type: feature, input shape: torch.Size([512, 228])\n",
      "LSTMAttention forward pass with input_type: feature, input shape: torch.Size([512, 228])\n",
      "LSTMAttention forward pass with input_type: feature, input shape: torch.Size([512, 228])\n",
      "LSTMAttention forward pass with input_type: feature, input shape: torch.Size([512, 228])\n",
      "LSTMAttention forward pass with input_type: feature, input shape: torch.Size([512, 228])\n"
     ]
    },
    {
     "name": "stderr",
     "output_type": "stream",
     "text": [
      "Epochs:   1%| | 4/300 [00:02<03:13,  1.53it/s, train_loss=0.5047, val_loss=0.4909, best_val_loss=0.4909, lr=1.00e-03, ba"
     ]
    },
    {
     "name": "stdout",
     "output_type": "stream",
     "text": [
      "LSTMAttention forward pass with input_type: feature, input shape: torch.Size([512, 228])\n",
      "LSTMAttention forward pass with input_type: feature, input shape: torch.Size([512, 228])\n",
      "LSTMAttention forward pass with input_type: feature, input shape: torch.Size([512, 228])\n",
      "LSTMAttention forward pass with input_type: feature, input shape: torch.Size([154, 228])\n",
      "LSTMAttention forward pass with input_type: feature, input shape: torch.Size([512, 228])\n",
      "LSTMAttention forward pass with input_type: feature, input shape: torch.Size([512, 228])\n",
      "LSTMAttention forward pass with input_type: feature, input shape: torch.Size([512, 228])\n",
      "LSTMAttention forward pass with input_type: feature, input shape: torch.Size([512, 228])\n",
      "LSTMAttention forward pass with input_type: feature, input shape: torch.Size([512, 228])\n",
      "LSTMAttention forward pass with input_type: feature, input shape: torch.Size([39, 228])\n",
      "LSTMAttention forward pass with input_type: feature, input shape: torch.Size([512, 228])\n",
      "LSTMAttention forward pass with input_type: feature, input shape: torch.Size([512, 228])\n",
      "LSTMAttention forward pass with input_type: feature, input shape: torch.Size([512, 228])\n",
      "LSTMAttention forward pass with input_type: feature, input shape: torch.Size([512, 228])\n",
      "LSTMAttention forward pass with input_type: feature, input shape: torch.Size([512, 228])\n",
      "LSTMAttention forward pass with input_type: feature, input shape: torch.Size([512, 228])\n",
      "LSTMAttention forward pass with input_type: feature, input shape: torch.Size([512, 228])\n",
      "LSTMAttention forward pass with input_type: feature, input shape: torch.Size([512, 228])\n",
      "LSTMAttention forward pass with input_type: feature, input shape: torch.Size([512, 228])\n",
      "LSTMAttention forward pass with input_type: feature, input shape: torch.Size([512, 228])\n",
      "LSTMAttention forward pass with input_type: feature, input shape: torch.Size([512, 228])\n",
      "LSTMAttention forward pass with input_type: feature, input shape: torch.Size([512, 228])\n",
      "LSTMAttention forward pass with input_type: feature, input shape: torch.Size([512, 228])\n",
      "LSTMAttention forward pass with input_type: feature, input shape: torch.Size([512, 228])\n",
      "LSTMAttention forward pass with input_type: feature, input shape: torch.Size([512, 228])\n",
      "LSTMAttention forward pass with input_type: feature, input shape: torch.Size([512, 228])\n",
      "LSTMAttention forward pass with input_type: feature, input shape: torch.Size([512, 228])\n",
      "LSTMAttention forward pass with input_type: feature, input shape: torch.Size([512, 228])\n"
     ]
    },
    {
     "name": "stderr",
     "output_type": "stream",
     "text": [
      "Epochs:   2%| | 5/300 [00:02<02:53,  1.70it/s, train_loss=0.5030, val_loss=0.4883, best_val_loss=0.4883, lr=1.00e-03, ba"
     ]
    },
    {
     "name": "stdout",
     "output_type": "stream",
     "text": [
      "LSTMAttention forward pass with input_type: feature, input shape: torch.Size([512, 228])\n",
      "LSTMAttention forward pass with input_type: feature, input shape: torch.Size([512, 228])\n",
      "LSTMAttention forward pass with input_type: feature, input shape: torch.Size([154, 228])\n",
      "LSTMAttention forward pass with input_type: feature, input shape: torch.Size([512, 228])\n",
      "LSTMAttention forward pass with input_type: feature, input shape: torch.Size([512, 228])\n",
      "LSTMAttention forward pass with input_type: feature, input shape: torch.Size([512, 228])\n",
      "LSTMAttention forward pass with input_type: feature, input shape: torch.Size([512, 228])\n",
      "LSTMAttention forward pass with input_type: feature, input shape: torch.Size([512, 228])\n",
      "LSTMAttention forward pass with input_type: feature, input shape: torch.Size([39, 228])\n",
      "LSTMAttention forward pass with input_type: feature, input shape: torch.Size([512, 228])\n",
      "LSTMAttention forward pass with input_type: feature, input shape: torch.Size([512, 228])\n",
      "LSTMAttention forward pass with input_type: feature, input shape: torch.Size([512, 228])\n",
      "LSTMAttention forward pass with input_type: feature, input shape: torch.Size([512, 228])\n",
      "LSTMAttention forward pass with input_type: feature, input shape: torch.Size([512, 228])\n",
      "LSTMAttention forward pass with input_type: feature, input shape: torch.Size([512, 228])\n",
      "LSTMAttention forward pass with input_type: feature, input shape: torch.Size([512, 228])\n",
      "LSTMAttention forward pass with input_type: feature, input shape: torch.Size([512, 228])\n",
      "LSTMAttention forward pass with input_type: feature, input shape: torch.Size([512, 228])\n",
      "LSTMAttention forward pass with input_type: feature, input shape: torch.Size([512, 228])\n",
      "LSTMAttention forward pass with input_type: feature, input shape: torch.Size([512, 228])\n",
      "LSTMAttention forward pass with input_type: feature, input shape: torch.Size([512, 228])\n",
      "LSTMAttention forward pass with input_type: feature, input shape: torch.Size([512, 228])\n"
     ]
    },
    {
     "name": "stderr",
     "output_type": "stream",
     "text": [
      "Epochs:   2%| | 6/300 [00:03<02:51,  1.71it/s, train_loss=0.4983, val_loss=0.4855, best_val_loss=0.4855, lr=1.00e-03, ba"
     ]
    },
    {
     "name": "stdout",
     "output_type": "stream",
     "text": [
      "LSTMAttention forward pass with input_type: feature, input shape: torch.Size([512, 228])\n",
      "LSTMAttention forward pass with input_type: feature, input shape: torch.Size([512, 228])\n",
      "LSTMAttention forward pass with input_type: feature, input shape: torch.Size([512, 228])\n",
      "LSTMAttention forward pass with input_type: feature, input shape: torch.Size([512, 228])\n",
      "LSTMAttention forward pass with input_type: feature, input shape: torch.Size([512, 228])\n",
      "LSTMAttention forward pass with input_type: feature, input shape: torch.Size([512, 228])\n",
      "LSTMAttention forward pass with input_type: feature, input shape: torch.Size([512, 228])\n",
      "LSTMAttention forward pass with input_type: feature, input shape: torch.Size([154, 228])\n",
      "LSTMAttention forward pass with input_type: feature, input shape: torch.Size([512, 228])\n",
      "LSTMAttention forward pass with input_type: feature, input shape: torch.Size([512, 228])\n",
      "LSTMAttention forward pass with input_type: feature, input shape: torch.Size([512, 228])\n",
      "LSTMAttention forward pass with input_type: feature, input shape: torch.Size([512, 228])\n",
      "LSTMAttention forward pass with input_type: feature, input shape: torch.Size([512, 228])\n",
      "LSTMAttention forward pass with input_type: feature, input shape: torch.Size([39, 228])\n",
      "LSTMAttention forward pass with input_type: feature, input shape: torch.Size([512, 228])\n",
      "LSTMAttention forward pass with input_type: feature, input shape: torch.Size([512, 228])\n",
      "LSTMAttention forward pass with input_type: feature, input shape: torch.Size([512, 228])\n",
      "LSTMAttention forward pass with input_type: feature, input shape: torch.Size([512, 228])\n",
      "LSTMAttention forward pass with input_type: feature, input shape: torch.Size([512, 228])\n",
      "LSTMAttention forward pass with input_type: feature, input shape: torch.Size([512, 228])\n",
      "LSTMAttention forward pass with input_type: feature, input shape: torch.Size([512, 228])\n",
      "LSTMAttention forward pass with input_type: feature, input shape: torch.Size([512, 228])\n",
      "LSTMAttention forward pass with input_type: feature, input shape: torch.Size([512, 228])\n",
      "LSTMAttention forward pass with input_type: feature, input shape: torch.Size([512, 228])\n",
      "LSTMAttention forward pass with input_type: feature, input shape: torch.Size([512, 228])\n",
      "LSTMAttention forward pass with input_type: feature, input shape: torch.Size([512, 228])\n",
      "LSTMAttention forward pass with input_type: feature, input shape: torch.Size([512, 228])\n",
      "LSTMAttention forward pass with input_type: feature, input shape: torch.Size([512, 228])\n",
      "LSTMAttention forward pass with input_type: feature, input shape: torch.Size([512, 228])\n",
      "LSTMAttention forward pass with input_type: feature, input shape: torch.Size([512, 228])\n",
      "LSTMAttention forward pass with input_type: feature, input shape: torch.Size([512, 228])\n"
     ]
    },
    {
     "name": "stderr",
     "output_type": "stream",
     "text": [
      "Epochs:   2%| | 7/300 [00:03<02:48,  1.73it/s, train_loss=0.4941, val_loss=0.4828, best_val_loss=0.4828, lr=1.00e-03, ba"
     ]
    },
    {
     "name": "stdout",
     "output_type": "stream",
     "text": [
      "LSTMAttention forward pass with input_type: feature, input shape: torch.Size([512, 228])\n",
      "LSTMAttention forward pass with input_type: feature, input shape: torch.Size([512, 228])\n",
      "LSTMAttention forward pass with input_type: feature, input shape: torch.Size([512, 228])\n",
      "LSTMAttention forward pass with input_type: feature, input shape: torch.Size([154, 228])\n",
      "LSTMAttention forward pass with input_type: feature, input shape: torch.Size([512, 228])\n",
      "LSTMAttention forward pass with input_type: feature, input shape: torch.Size([512, 228])\n",
      "LSTMAttention forward pass with input_type: feature, input shape: torch.Size([512, 228])\n",
      "LSTMAttention forward pass with input_type: feature, input shape: torch.Size([512, 228])\n",
      "LSTMAttention forward pass with input_type: feature, input shape: torch.Size([512, 228])\n",
      "LSTMAttention forward pass with input_type: feature, input shape: torch.Size([39, 228])\n",
      "LSTMAttention forward pass with input_type: feature, input shape: torch.Size([512, 228])\n",
      "LSTMAttention forward pass with input_type: feature, input shape: torch.Size([512, 228])\n",
      "LSTMAttention forward pass with input_type: feature, input shape: torch.Size([512, 228])\n",
      "LSTMAttention forward pass with input_type: feature, input shape: torch.Size([512, 228])\n",
      "LSTMAttention forward pass with input_type: feature, input shape: torch.Size([512, 228])\n",
      "LSTMAttention forward pass with input_type: feature, input shape: torch.Size([512, 228])\n",
      "LSTMAttention forward pass with input_type: feature, input shape: torch.Size([512, 228])\n",
      "LSTMAttention forward pass with input_type: feature, input shape: torch.Size([512, 228])\n",
      "LSTMAttention forward pass with input_type: feature, input shape: torch.Size([512, 228])\n",
      "LSTMAttention forward pass with input_type: feature, input shape: torch.Size([512, 228])\n",
      "LSTMAttention forward pass with input_type: feature, input shape: torch.Size([512, 228])\n",
      "LSTMAttention forward pass with input_type: feature, input shape: torch.Size([512, 228])\n",
      "LSTMAttention forward pass with input_type: feature, input shape: torch.Size([512, 228])\n",
      "LSTMAttention forward pass with input_type: feature, input shape: torch.Size([512, 228])\n",
      "LSTMAttention forward pass with input_type: feature, input shape: torch.Size([512, 228])\n",
      "LSTMAttention forward pass with input_type: feature, input shape: torch.Size([512, 228])\n",
      "LSTMAttention forward pass with input_type: feature, input shape: torch.Size([512, 228])\n",
      "LSTMAttention forward pass with input_type: feature, input shape: torch.Size([512, 228])\n",
      "LSTMAttention forward pass with input_type: feature, input shape: torch.Size([512, 228])\n"
     ]
    },
    {
     "name": "stderr",
     "output_type": "stream",
     "text": [
      "Epochs:   3%| | 8/300 [00:04<02:37,  1.85it/s, train_loss=0.4931, val_loss=0.4777, best_val_loss=0.4777, lr=1.00e-03, ba"
     ]
    },
    {
     "name": "stdout",
     "output_type": "stream",
     "text": [
      "LSTMAttention forward pass with input_type: feature, input shape: torch.Size([512, 228])\n",
      "LSTMAttention forward pass with input_type: feature, input shape: torch.Size([154, 228])\n",
      "LSTMAttention forward pass with input_type: feature, input shape: torch.Size([512, 228])\n",
      "LSTMAttention forward pass with input_type: feature, input shape: torch.Size([512, 228])\n",
      "LSTMAttention forward pass with input_type: feature, input shape: torch.Size([512, 228])\n",
      "LSTMAttention forward pass with input_type: feature, input shape: torch.Size([512, 228])\n",
      "LSTMAttention forward pass with input_type: feature, input shape: torch.Size([512, 228])\n",
      "LSTMAttention forward pass with input_type: feature, input shape: torch.Size([39, 228])\n",
      "LSTMAttention forward pass with input_type: feature, input shape: torch.Size([512, 228])\n",
      "LSTMAttention forward pass with input_type: feature, input shape: torch.Size([512, 228])\n",
      "LSTMAttention forward pass with input_type: feature, input shape: torch.Size([512, 228])\n",
      "LSTMAttention forward pass with input_type: feature, input shape: torch.Size([512, 228])\n",
      "LSTMAttention forward pass with input_type: feature, input shape: torch.Size([512, 228])\n",
      "LSTMAttention forward pass with input_type: feature, input shape: torch.Size([512, 228])\n",
      "LSTMAttention forward pass with input_type: feature, input shape: torch.Size([512, 228])\n",
      "LSTMAttention forward pass with input_type: feature, input shape: torch.Size([512, 228])\n",
      "LSTMAttention forward pass with input_type: feature, input shape: torch.Size([512, 228])\n",
      "LSTMAttention forward pass with input_type: feature, input shape: torch.Size([512, 228])\n",
      "LSTMAttention forward pass with input_type: feature, input shape: torch.Size([512, 228])\n",
      "LSTMAttention forward pass with input_type: feature, input shape: torch.Size([512, 228])\n",
      "LSTMAttention forward pass with input_type: feature, input shape: torch.Size([512, 228])\n",
      "LSTMAttention forward pass with input_type: feature, input shape: torch.Size([512, 228])\n",
      "LSTMAttention forward pass with input_type: feature, input shape: torch.Size([512, 228])\n"
     ]
    },
    {
     "name": "stderr",
     "output_type": "stream",
     "text": [
      "Epochs:   3%| | 9/300 [00:04<02:40,  1.81it/s, train_loss=0.4915, val_loss=0.4722, best_val_loss=0.4722, lr=1.00e-03, ba"
     ]
    },
    {
     "name": "stdout",
     "output_type": "stream",
     "text": [
      "LSTMAttention forward pass with input_type: feature, input shape: torch.Size([512, 228])\n",
      "LSTMAttention forward pass with input_type: feature, input shape: torch.Size([512, 228])\n",
      "LSTMAttention forward pass with input_type: feature, input shape: torch.Size([512, 228])\n",
      "LSTMAttention forward pass with input_type: feature, input shape: torch.Size([512, 228])\n",
      "LSTMAttention forward pass with input_type: feature, input shape: torch.Size([512, 228])\n",
      "LSTMAttention forward pass with input_type: feature, input shape: torch.Size([154, 228])\n",
      "LSTMAttention forward pass with input_type: feature, input shape: torch.Size([512, 228])\n",
      "LSTMAttention forward pass with input_type: feature, input shape: torch.Size([512, 228])\n",
      "LSTMAttention forward pass with input_type: feature, input shape: torch.Size([512, 228])\n",
      "LSTMAttention forward pass with input_type: feature, input shape: torch.Size([512, 228])\n",
      "LSTMAttention forward pass with input_type: feature, input shape: torch.Size([512, 228])\n",
      "LSTMAttention forward pass with input_type: feature, input shape: torch.Size([39, 228])\n",
      "LSTMAttention forward pass with input_type: feature, input shape: torch.Size([512, 228])\n",
      "LSTMAttention forward pass with input_type: feature, input shape: torch.Size([512, 228])\n",
      "LSTMAttention forward pass with input_type: feature, input shape: torch.Size([512, 228])\n",
      "LSTMAttention forward pass with input_type: feature, input shape: torch.Size([512, 228])\n",
      "LSTMAttention forward pass with input_type: feature, input shape: torch.Size([512, 228])\n",
      "LSTMAttention forward pass with input_type: feature, input shape: torch.Size([512, 228])\n",
      "LSTMAttention forward pass with input_type: feature, input shape: torch.Size([512, 228])\n",
      "LSTMAttention forward pass with input_type: feature, input shape: torch.Size([512, 228])\n",
      "LSTMAttention forward pass with input_type: feature, input shape: torch.Size([512, 228])\n",
      "LSTMAttention forward pass with input_type: feature, input shape: torch.Size([512, 228])\n",
      "LSTMAttention forward pass with input_type: feature, input shape: torch.Size([512, 228])\n",
      "LSTMAttention forward pass with input_type: feature, input shape: torch.Size([512, 228])\n",
      "LSTMAttention forward pass with input_type: feature, input shape: torch.Size([512, 228])\n",
      "LSTMAttention forward pass with input_type: feature, input shape: torch.Size([512, 228])\n",
      "LSTMAttention forward pass with input_type: feature, input shape: torch.Size([512, 228])\n",
      "LSTMAttention forward pass with input_type: feature, input shape: torch.Size([512, 228])\n",
      "LSTMAttention forward pass with input_type: feature, input shape: torch.Size([512, 228])\n",
      "LSTMAttention forward pass with input_type: feature, input shape: torch.Size([512, 228])\n",
      "LSTMAttention forward pass with input_type: feature, input shape: torch.Size([512, 228])\n"
     ]
    },
    {
     "name": "stderr",
     "output_type": "stream",
     "text": [
      "Epochs:   3%| | 10/300 [00:05<02:36,  1.85it/s, train_loss=0.4891, val_loss=0.4672, best_val_loss=0.4672, lr=1.00e-03, b"
     ]
    },
    {
     "name": "stdout",
     "output_type": "stream",
     "text": [
      "LSTMAttention forward pass with input_type: feature, input shape: torch.Size([512, 228])\n",
      "LSTMAttention forward pass with input_type: feature, input shape: torch.Size([154, 228])\n",
      "LSTMAttention forward pass with input_type: feature, input shape: torch.Size([512, 228])\n",
      "LSTMAttention forward pass with input_type: feature, input shape: torch.Size([512, 228])\n",
      "LSTMAttention forward pass with input_type: feature, input shape: torch.Size([512, 228])\n",
      "LSTMAttention forward pass with input_type: feature, input shape: torch.Size([512, 228])\n",
      "LSTMAttention forward pass with input_type: feature, input shape: torch.Size([512, 228])\n",
      "LSTMAttention forward pass with input_type: feature, input shape: torch.Size([39, 228])\n",
      "LSTMAttention forward pass with input_type: feature, input shape: torch.Size([512, 228])\n",
      "LSTMAttention forward pass with input_type: feature, input shape: torch.Size([512, 228])\n",
      "LSTMAttention forward pass with input_type: feature, input shape: torch.Size([512, 228])\n",
      "LSTMAttention forward pass with input_type: feature, input shape: torch.Size([512, 228])\n",
      "LSTMAttention forward pass with input_type: feature, input shape: torch.Size([512, 228])\n",
      "LSTMAttention forward pass with input_type: feature, input shape: torch.Size([512, 228])\n",
      "LSTMAttention forward pass with input_type: feature, input shape: torch.Size([512, 228])\n",
      "LSTMAttention forward pass with input_type: feature, input shape: torch.Size([512, 228])\n",
      "LSTMAttention forward pass with input_type: feature, input shape: torch.Size([512, 228])\n",
      "LSTMAttention forward pass with input_type: feature, input shape: torch.Size([512, 228])\n",
      "LSTMAttention forward pass with input_type: feature, input shape: torch.Size([512, 228])\n",
      "LSTMAttention forward pass with input_type: feature, input shape: torch.Size([512, 228])\n",
      "LSTMAttention forward pass with input_type: feature, input shape: torch.Size([512, 228])\n",
      "LSTMAttention forward pass with input_type: feature, input shape: torch.Size([512, 228])\n",
      "LSTMAttention forward pass with input_type: feature, input shape: torch.Size([512, 228])\n"
     ]
    },
    {
     "name": "stderr",
     "output_type": "stream",
     "text": [
      "Epochs:   4%| | 11/300 [00:05<02:32,  1.89it/s, train_loss=0.4833, val_loss=0.4669, best_val_loss=0.4669, lr=1.00e-03, b"
     ]
    },
    {
     "name": "stdout",
     "output_type": "stream",
     "text": [
      "LSTMAttention forward pass with input_type: feature, input shape: torch.Size([512, 228])\n",
      "LSTMAttention forward pass with input_type: feature, input shape: torch.Size([512, 228])\n",
      "LSTMAttention forward pass with input_type: feature, input shape: torch.Size([512, 228])\n",
      "LSTMAttention forward pass with input_type: feature, input shape: torch.Size([512, 228])\n",
      "LSTMAttention forward pass with input_type: feature, input shape: torch.Size([512, 228])\n",
      "LSTMAttention forward pass with input_type: feature, input shape: torch.Size([154, 228])\n",
      "LSTMAttention forward pass with input_type: feature, input shape: torch.Size([512, 228])\n",
      "LSTMAttention forward pass with input_type: feature, input shape: torch.Size([512, 228])\n",
      "LSTMAttention forward pass with input_type: feature, input shape: torch.Size([512, 228])\n",
      "LSTMAttention forward pass with input_type: feature, input shape: torch.Size([512, 228])\n",
      "LSTMAttention forward pass with input_type: feature, input shape: torch.Size([512, 228])\n",
      "LSTMAttention forward pass with input_type: feature, input shape: torch.Size([39, 228])\n",
      "LSTMAttention forward pass with input_type: feature, input shape: torch.Size([512, 228])\n",
      "LSTMAttention forward pass with input_type: feature, input shape: torch.Size([512, 228])\n",
      "LSTMAttention forward pass with input_type: feature, input shape: torch.Size([512, 228])\n",
      "LSTMAttention forward pass with input_type: feature, input shape: torch.Size([512, 228])\n",
      "LSTMAttention forward pass with input_type: feature, input shape: torch.Size([512, 228])\n",
      "LSTMAttention forward pass with input_type: feature, input shape: torch.Size([512, 228])\n",
      "LSTMAttention forward pass with input_type: feature, input shape: torch.Size([512, 228])\n",
      "LSTMAttention forward pass with input_type: feature, input shape: torch.Size([512, 228])\n",
      "LSTMAttention forward pass with input_type: feature, input shape: torch.Size([512, 228])\n",
      "LSTMAttention forward pass with input_type: feature, input shape: torch.Size([512, 228])\n",
      "LSTMAttention forward pass with input_type: feature, input shape: torch.Size([512, 228])\n",
      "LSTMAttention forward pass with input_type: feature, input shape: torch.Size([512, 228])\n",
      "LSTMAttention forward pass with input_type: feature, input shape: torch.Size([512, 228])\n",
      "LSTMAttention forward pass with input_type: feature, input shape: torch.Size([512, 228])\n",
      "LSTMAttention forward pass with input_type: feature, input shape: torch.Size([512, 228])\n",
      "LSTMAttention forward pass with input_type: feature, input shape: torch.Size([512, 228])\n",
      "LSTMAttention forward pass with input_type: feature, input shape: torch.Size([512, 228])\n",
      "LSTMAttention forward pass with input_type: feature, input shape: torch.Size([512, 228])\n",
      "LSTMAttention forward pass with input_type: feature, input shape: torch.Size([512, 228])\n",
      "LSTMAttention forward pass with input_type: feature, input shape: torch.Size([512, 228])\n",
      "LSTMAttention forward pass with input_type: feature, input shape: torch.Size([154, 228])\n"
     ]
    },
    {
     "name": "stderr",
     "output_type": "stream",
     "text": [
      "Epochs:   4%| | 12/300 [00:06<02:44,  1.75it/s, train_loss=0.4815, val_loss=0.4626, best_val_loss=0.4626, lr=1.00e-03, b"
     ]
    },
    {
     "name": "stdout",
     "output_type": "stream",
     "text": [
      "LSTMAttention forward pass with input_type: feature, input shape: torch.Size([512, 228])\n",
      "LSTMAttention forward pass with input_type: feature, input shape: torch.Size([512, 228])\n",
      "LSTMAttention forward pass with input_type: feature, input shape: torch.Size([512, 228])\n",
      "LSTMAttention forward pass with input_type: feature, input shape: torch.Size([512, 228])\n",
      "LSTMAttention forward pass with input_type: feature, input shape: torch.Size([512, 228])\n",
      "LSTMAttention forward pass with input_type: feature, input shape: torch.Size([39, 228])\n",
      "LSTMAttention forward pass with input_type: feature, input shape: torch.Size([512, 228])\n",
      "LSTMAttention forward pass with input_type: feature, input shape: torch.Size([512, 228])\n",
      "LSTMAttention forward pass with input_type: feature, input shape: torch.Size([512, 228])\n",
      "LSTMAttention forward pass with input_type: feature, input shape: torch.Size([512, 228])\n",
      "LSTMAttention forward pass with input_type: feature, input shape: torch.Size([512, 228])\n",
      "LSTMAttention forward pass with input_type: feature, input shape: torch.Size([512, 228])\n",
      "LSTMAttention forward pass with input_type: feature, input shape: torch.Size([512, 228])\n",
      "LSTMAttention forward pass with input_type: feature, input shape: torch.Size([512, 228])\n",
      "LSTMAttention forward pass with input_type: feature, input shape: torch.Size([512, 228])\n",
      "LSTMAttention forward pass with input_type: feature, input shape: torch.Size([512, 228])\n",
      "LSTMAttention forward pass with input_type: feature, input shape: torch.Size([512, 228])\n",
      "LSTMAttention forward pass with input_type: feature, input shape: torch.Size([512, 228])\n",
      "LSTMAttention forward pass with input_type: feature, input shape: torch.Size([512, 228])\n",
      "LSTMAttention forward pass with input_type: feature, input shape: torch.Size([512, 228])\n",
      "LSTMAttention forward pass with input_type: feature, input shape: torch.Size([512, 228])\n",
      "LSTMAttention forward pass with input_type: feature, input shape: torch.Size([512, 228])\n",
      "LSTMAttention forward pass with input_type: feature, input shape: torch.Size([512, 228])\n",
      "LSTMAttention forward pass with input_type: feature, input shape: torch.Size([512, 228])\n",
      "LSTMAttention forward pass with input_type: feature, input shape: torch.Size([512, 228])\n",
      "LSTMAttention forward pass with input_type: feature, input shape: torch.Size([512, 228])\n",
      "LSTMAttention forward pass with input_type: feature, input shape: torch.Size([154, 228])\n"
     ]
    },
    {
     "name": "stderr",
     "output_type": "stream",
     "text": [
      "Epochs:   4%| | 13/300 [00:07<02:53,  1.66it/s, train_loss=0.4821, val_loss=0.4637, best_val_loss=0.4626, lr=1.00e-03, b"
     ]
    },
    {
     "name": "stdout",
     "output_type": "stream",
     "text": [
      "LSTMAttention forward pass with input_type: feature, input shape: torch.Size([512, 228])\n",
      "LSTMAttention forward pass with input_type: feature, input shape: torch.Size([512, 228])\n",
      "LSTMAttention forward pass with input_type: feature, input shape: torch.Size([512, 228])\n",
      "LSTMAttention forward pass with input_type: feature, input shape: torch.Size([512, 228])\n",
      "LSTMAttention forward pass with input_type: feature, input shape: torch.Size([512, 228])\n",
      "LSTMAttention forward pass with input_type: feature, input shape: torch.Size([39, 228])\n",
      "LSTMAttention forward pass with input_type: feature, input shape: torch.Size([512, 228])\n",
      "LSTMAttention forward pass with input_type: feature, input shape: torch.Size([512, 228])\n",
      "LSTMAttention forward pass with input_type: feature, input shape: torch.Size([512, 228])\n",
      "LSTMAttention forward pass with input_type: feature, input shape: torch.Size([512, 228])\n",
      "LSTMAttention forward pass with input_type: feature, input shape: torch.Size([512, 228])\n",
      "LSTMAttention forward pass with input_type: feature, input shape: torch.Size([512, 228])\n",
      "LSTMAttention forward pass with input_type: feature, input shape: torch.Size([512, 228])\n",
      "LSTMAttention forward pass with input_type: feature, input shape: torch.Size([512, 228])\n",
      "LSTMAttention forward pass with input_type: feature, input shape: torch.Size([512, 228])\n",
      "LSTMAttention forward pass with input_type: feature, input shape: torch.Size([512, 228])\n",
      "LSTMAttention forward pass with input_type: feature, input shape: torch.Size([512, 228])\n",
      "LSTMAttention forward pass with input_type: feature, input shape: torch.Size([512, 228])\n",
      "LSTMAttention forward pass with input_type: feature, input shape: torch.Size([512, 228])\n",
      "LSTMAttention forward pass with input_type: feature, input shape: torch.Size([512, 228])\n",
      "LSTMAttention forward pass with input_type: feature, input shape: torch.Size([512, 228])\n",
      "LSTMAttention forward pass with input_type: feature, input shape: torch.Size([512, 228])\n",
      "LSTMAttention forward pass with input_type: feature, input shape: torch.Size([512, 228])\n",
      "LSTMAttention forward pass with input_type: feature, input shape: torch.Size([512, 228])\n",
      "LSTMAttention forward pass with input_type: feature, input shape: torch.Size([512, 228])\n",
      "LSTMAttention forward pass with input_type: feature, input shape: torch.Size([512, 228])\n",
      "LSTMAttention forward pass with input_type: feature, input shape: torch.Size([154, 228])\n"
     ]
    },
    {
     "name": "stderr",
     "output_type": "stream",
     "text": [
      "Epochs:   5%| | 14/300 [00:07<02:48,  1.70it/s, train_loss=0.4840, val_loss=0.4677, best_val_loss=0.4626, lr=1.00e-03, b"
     ]
    },
    {
     "name": "stdout",
     "output_type": "stream",
     "text": [
      "LSTMAttention forward pass with input_type: feature, input shape: torch.Size([512, 228])\n",
      "LSTMAttention forward pass with input_type: feature, input shape: torch.Size([512, 228])\n",
      "LSTMAttention forward pass with input_type: feature, input shape: torch.Size([512, 228])\n",
      "LSTMAttention forward pass with input_type: feature, input shape: torch.Size([512, 228])\n",
      "LSTMAttention forward pass with input_type: feature, input shape: torch.Size([512, 228])\n",
      "LSTMAttention forward pass with input_type: feature, input shape: torch.Size([39, 228])\n",
      "LSTMAttention forward pass with input_type: feature, input shape: torch.Size([512, 228])\n",
      "LSTMAttention forward pass with input_type: feature, input shape: torch.Size([512, 228])\n",
      "LSTMAttention forward pass with input_type: feature, input shape: torch.Size([512, 228])\n",
      "LSTMAttention forward pass with input_type: feature, input shape: torch.Size([512, 228])\n",
      "LSTMAttention forward pass with input_type: feature, input shape: torch.Size([512, 228])\n",
      "LSTMAttention forward pass with input_type: feature, input shape: torch.Size([512, 228])\n",
      "LSTMAttention forward pass with input_type: feature, input shape: torch.Size([512, 228])\n",
      "LSTMAttention forward pass with input_type: feature, input shape: torch.Size([512, 228])\n",
      "LSTMAttention forward pass with input_type: feature, input shape: torch.Size([512, 228])\n",
      "LSTMAttention forward pass with input_type: feature, input shape: torch.Size([512, 228])\n",
      "LSTMAttention forward pass with input_type: feature, input shape: torch.Size([512, 228])\n",
      "LSTMAttention forward pass with input_type: feature, input shape: torch.Size([512, 228])\n",
      "LSTMAttention forward pass with input_type: feature, input shape: torch.Size([512, 228])\n",
      "LSTMAttention forward pass with input_type: feature, input shape: torch.Size([512, 228])\n",
      "LSTMAttention forward pass with input_type: feature, input shape: torch.Size([512, 228])\n",
      "LSTMAttention forward pass with input_type: feature, input shape: torch.Size([512, 228])\n",
      "LSTMAttention forward pass with input_type: feature, input shape: torch.Size([512, 228])\n",
      "LSTMAttention forward pass with input_type: feature, input shape: torch.Size([512, 228])\n",
      "LSTMAttention forward pass with input_type: feature, input shape: torch.Size([512, 228])\n"
     ]
    },
    {
     "name": "stderr",
     "output_type": "stream",
     "text": [
      "Epochs:   5%| | 15/300 [00:08<02:40,  1.78it/s, train_loss=0.4844, val_loss=0.4625, best_val_loss=0.4625, lr=1.00e-03, b"
     ]
    },
    {
     "name": "stdout",
     "output_type": "stream",
     "text": [
      "LSTMAttention forward pass with input_type: feature, input shape: torch.Size([512, 228])\n",
      "LSTMAttention forward pass with input_type: feature, input shape: torch.Size([154, 228])\n",
      "LSTMAttention forward pass with input_type: feature, input shape: torch.Size([512, 228])\n",
      "LSTMAttention forward pass with input_type: feature, input shape: torch.Size([512, 228])\n",
      "LSTMAttention forward pass with input_type: feature, input shape: torch.Size([512, 228])\n",
      "LSTMAttention forward pass with input_type: feature, input shape: torch.Size([512, 228])\n",
      "LSTMAttention forward pass with input_type: feature, input shape: torch.Size([512, 228])\n",
      "LSTMAttention forward pass with input_type: feature, input shape: torch.Size([39, 228])\n",
      "LSTMAttention forward pass with input_type: feature, input shape: torch.Size([512, 228])\n",
      "LSTMAttention forward pass with input_type: feature, input shape: torch.Size([512, 228])\n",
      "LSTMAttention forward pass with input_type: feature, input shape: torch.Size([512, 228])\n",
      "LSTMAttention forward pass with input_type: feature, input shape: torch.Size([512, 228])\n",
      "LSTMAttention forward pass with input_type: feature, input shape: torch.Size([512, 228])\n",
      "LSTMAttention forward pass with input_type: feature, input shape: torch.Size([512, 228])\n",
      "LSTMAttention forward pass with input_type: feature, input shape: torch.Size([512, 228])\n",
      "LSTMAttention forward pass with input_type: feature, input shape: torch.Size([512, 228])\n",
      "LSTMAttention forward pass with input_type: feature, input shape: torch.Size([512, 228])\n",
      "LSTMAttention forward pass with input_type: feature, input shape: torch.Size([512, 228])\n",
      "LSTMAttention forward pass with input_type: feature, input shape: torch.Size([512, 228])\n",
      "LSTMAttention forward pass with input_type: feature, input shape: torch.Size([512, 228])\n",
      "LSTMAttention forward pass with input_type: feature, input shape: torch.Size([512, 228])\n",
      "LSTMAttention forward pass with input_type: feature, input shape: torch.Size([512, 228])\n",
      "LSTMAttention forward pass with input_type: feature, input shape: torch.Size([512, 228])\n",
      "LSTMAttention forward pass with input_type: feature, input shape: torch.Size([512, 228])\n",
      "LSTMAttention forward pass with input_type: feature, input shape: torch.Size([512, 228])\n",
      "LSTMAttention forward pass with input_type: feature, input shape: torch.Size([512, 228])\n"
     ]
    },
    {
     "name": "stderr",
     "output_type": "stream",
     "text": [
      "Epochs:   5%| | 16/300 [00:08<02:36,  1.81it/s, train_loss=0.4814, val_loss=0.4604, best_val_loss=0.4604, lr=1.00e-03, b"
     ]
    },
    {
     "name": "stdout",
     "output_type": "stream",
     "text": [
      "LSTMAttention forward pass with input_type: feature, input shape: torch.Size([512, 228])\n",
      "LSTMAttention forward pass with input_type: feature, input shape: torch.Size([512, 228])\n",
      "LSTMAttention forward pass with input_type: feature, input shape: torch.Size([154, 228])\n",
      "LSTMAttention forward pass with input_type: feature, input shape: torch.Size([512, 228])\n",
      "LSTMAttention forward pass with input_type: feature, input shape: torch.Size([512, 228])\n",
      "LSTMAttention forward pass with input_type: feature, input shape: torch.Size([512, 228])\n",
      "LSTMAttention forward pass with input_type: feature, input shape: torch.Size([512, 228])\n",
      "LSTMAttention forward pass with input_type: feature, input shape: torch.Size([512, 228])\n",
      "LSTMAttention forward pass with input_type: feature, input shape: torch.Size([39, 228])\n",
      "LSTMAttention forward pass with input_type: feature, input shape: torch.Size([512, 228])\n",
      "LSTMAttention forward pass with input_type: feature, input shape: torch.Size([512, 228])\n",
      "LSTMAttention forward pass with input_type: feature, input shape: torch.Size([512, 228])\n",
      "LSTMAttention forward pass with input_type: feature, input shape: torch.Size([512, 228])\n",
      "LSTMAttention forward pass with input_type: feature, input shape: torch.Size([512, 228])\n",
      "LSTMAttention forward pass with input_type: feature, input shape: torch.Size([512, 228])\n",
      "LSTMAttention forward pass with input_type: feature, input shape: torch.Size([512, 228])\n",
      "LSTMAttention forward pass with input_type: feature, input shape: torch.Size([512, 228])\n",
      "LSTMAttention forward pass with input_type: feature, input shape: torch.Size([512, 228])\n",
      "LSTMAttention forward pass with input_type: feature, input shape: torch.Size([512, 228])\n",
      "LSTMAttention forward pass with input_type: feature, input shape: torch.Size([512, 228])\n",
      "LSTMAttention forward pass with input_type: feature, input shape: torch.Size([512, 228])\n",
      "LSTMAttention forward pass with input_type: feature, input shape: torch.Size([512, 228])\n",
      "LSTMAttention forward pass with input_type: feature, input shape: torch.Size([512, 228])\n",
      "LSTMAttention forward pass with input_type: feature, input shape: torch.Size([512, 228])\n",
      "LSTMAttention forward pass with input_type: feature, input shape: torch.Size([512, 228])\n"
     ]
    },
    {
     "name": "stderr",
     "output_type": "stream",
     "text": [
      "Epochs:   6%| | 17/300 [00:09<02:38,  1.78it/s, train_loss=0.4810, val_loss=0.4618, best_val_loss=0.4604, lr=1.00e-03, b"
     ]
    },
    {
     "name": "stdout",
     "output_type": "stream",
     "text": [
      "LSTMAttention forward pass with input_type: feature, input shape: torch.Size([512, 228])\n",
      "LSTMAttention forward pass with input_type: feature, input shape: torch.Size([512, 228])\n",
      "LSTMAttention forward pass with input_type: feature, input shape: torch.Size([512, 228])\n",
      "LSTMAttention forward pass with input_type: feature, input shape: torch.Size([512, 228])\n",
      "LSTMAttention forward pass with input_type: feature, input shape: torch.Size([154, 228])\n",
      "LSTMAttention forward pass with input_type: feature, input shape: torch.Size([512, 228])\n",
      "LSTMAttention forward pass with input_type: feature, input shape: torch.Size([512, 228])\n",
      "LSTMAttention forward pass with input_type: feature, input shape: torch.Size([512, 228])\n",
      "LSTMAttention forward pass with input_type: feature, input shape: torch.Size([512, 228])\n",
      "LSTMAttention forward pass with input_type: feature, input shape: torch.Size([512, 228])\n",
      "LSTMAttention forward pass with input_type: feature, input shape: torch.Size([39, 228])\n"
     ]
    },
    {
     "name": "stderr",
     "output_type": "stream",
     "text": [
      "Epochs:   6%| | 17/300 [00:09<02:49,  1.67it/s, train_loss=0.4810, val_loss=0.4618, best_val_loss=0.4604, lr=1.00e-03, b"
     ]
    },
    {
     "name": "stdout",
     "output_type": "stream",
     "text": [
      "LSTMAttention forward pass with input_type: feature, input shape: torch.Size([512, 228])\n",
      "LSTMAttention forward pass with input_type: feature, input shape: torch.Size([512, 228])\n",
      "LSTMAttention forward pass with input_type: feature, input shape: torch.Size([512, 228])\n",
      "LSTMAttention forward pass with input_type: feature, input shape: torch.Size([512, 228])\n"
     ]
    },
    {
     "name": "stderr",
     "output_type": "stream",
     "text": [
      "\n"
     ]
    },
    {
     "ename": "KeyboardInterrupt",
     "evalue": "",
     "output_type": "error",
     "traceback": [
      "\u001b[31m---------------------------------------------------------------------------\u001b[39m",
      "\u001b[31mKeyboardInterrupt\u001b[39m                         Traceback (most recent call last)",
      "\u001b[36mCell\u001b[39m\u001b[36m \u001b[39m\u001b[32mIn[36]\u001b[39m\u001b[32m, line 5\u001b[39m\n\u001b[32m      2\u001b[39m ATTENTION_LSTM_SUBMISSION_PATH = SUBMISSION_ROOT / \u001b[33m\"\u001b[39m\u001b[33mattention_lstm_feature_submission.csv\u001b[39m\u001b[33m\"\u001b[39m\n\u001b[32m      4\u001b[39m \u001b[38;5;66;03m# train model on training set (or load existing)\u001b[39;00m\n\u001b[32m----> \u001b[39m\u001b[32m5\u001b[39m train_history, val_history = \u001b[43mtrain_model\u001b[49m\u001b[43m(\u001b[49m\n\u001b[32m      6\u001b[39m \u001b[43m        \u001b[49m\u001b[43mattention_lstm_model\u001b[49m\u001b[43m,\u001b[49m\u001b[43m \u001b[49m\u001b[43mtimeseries_loader_tr\u001b[49m\u001b[43m[\u001b[49m\u001b[33;43m\"\u001b[39;49m\u001b[33;43mfeature\u001b[39;49m\u001b[33;43m\"\u001b[39;49m\u001b[43m]\u001b[49m\u001b[43m,\u001b[49m\u001b[43m \u001b[49m\u001b[43mtimeseries_loader_val\u001b[49m\u001b[43m[\u001b[49m\u001b[33;43m\"\u001b[39;49m\u001b[33;43mfeature\u001b[39;49m\u001b[33;43m\"\u001b[39;49m\u001b[43m]\u001b[49m\u001b[43m,\u001b[49m\n\u001b[32m      7\u001b[39m \u001b[43m        \u001b[49m\u001b[43mcriterion\u001b[49m\u001b[43m,\u001b[49m\u001b[43m \u001b[49m\u001b[43moptimizer\u001b[49m\u001b[43m,\u001b[49m\u001b[43m \u001b[49m\u001b[43mdevice\u001b[49m\u001b[43m,\u001b[49m\n\u001b[32m      8\u001b[39m \u001b[43m        \u001b[49m\u001b[43msave_path\u001b[49m\u001b[43m=\u001b[49m\u001b[43mATTENTION_LSTM_SAVE_PATH\u001b[49m\u001b[43m,\u001b[49m\n\u001b[32m      9\u001b[39m \u001b[43m        \u001b[49m\u001b[43mnum_epochs\u001b[49m\u001b[43m=\u001b[49m\u001b[32;43m300\u001b[39;49m\u001b[43m,\u001b[49m\n\u001b[32m     10\u001b[39m \u001b[43m        \u001b[49m\u001b[43mpatience\u001b[49m\u001b[43m=\u001b[49m\u001b[32;43m10\u001b[39;49m\u001b[43m,\u001b[49m\n\u001b[32m     11\u001b[39m \u001b[43m        \u001b[49m\u001b[43mmonitor\u001b[49m\u001b[43m=\u001b[49m\u001b[33;43m\"\u001b[39;49m\u001b[33;43mval_loss\u001b[39;49m\u001b[33;43m\"\u001b[39;49m\u001b[43m,\u001b[49m\n\u001b[32m     12\u001b[39m \u001b[43m        \u001b[49m\u001b[43mscheduler\u001b[49m\u001b[43m=\u001b[49m\u001b[43mscheduler\u001b[49m\u001b[43m,\u001b[49m\n\u001b[32m     13\u001b[39m \u001b[43m        \u001b[49m\u001b[43moverwrite\u001b[49m\u001b[43m=\u001b[49m\u001b[38;5;28;43;01mFalse\u001b[39;49;00m\u001b[43m,\u001b[49m\n\u001b[32m     14\u001b[39m \u001b[43m        \u001b[49m\u001b[43muse_gnn\u001b[49m\u001b[43m=\u001b[49m\u001b[38;5;28;43;01mFalse\u001b[39;49;00m\n\u001b[32m     15\u001b[39m \u001b[43m    \u001b[49m\u001b[43m)\u001b[49m\n",
      "\u001b[36mFile \u001b[39m\u001b[32m~/Developer/NeuroGraphNet/src/utils/train.py:239\u001b[39m, in \u001b[36mtrain_model\u001b[39m\u001b[34m(model, train_loader, val_loader, criterion, optimizer, device, save_path, scheduler, monitor, patience, num_epochs, grad_clip, overwrite, use_gnn)\u001b[39m\n\u001b[32m    237\u001b[39m \u001b[38;5;66;03m# if grad_clip is specified, clip gradients\u001b[39;00m\n\u001b[32m    238\u001b[39m \u001b[38;5;28;01mif\u001b[39;00m grad_clip > \u001b[32m0\u001b[39m:\n\u001b[32m--> \u001b[39m\u001b[32m239\u001b[39m     \u001b[43mtorch\u001b[49m\u001b[43m.\u001b[49m\u001b[43mnn\u001b[49m\u001b[43m.\u001b[49m\u001b[43mutils\u001b[49m\u001b[43m.\u001b[49m\u001b[43mclip_grad_norm_\u001b[49m\u001b[43m(\u001b[49m\u001b[43mmodel\u001b[49m\u001b[43m.\u001b[49m\u001b[43mparameters\u001b[49m\u001b[43m(\u001b[49m\u001b[43m)\u001b[49m\u001b[43m,\u001b[49m\u001b[43m \u001b[49m\u001b[43mgrad_clip\u001b[49m\u001b[43m)\u001b[49m\n\u001b[32m    240\u001b[39m \u001b[38;5;66;03m# step optimizer\u001b[39;00m\n\u001b[32m    241\u001b[39m optimizer.step()\n",
      "\u001b[36mFile \u001b[39m\u001b[32m~/Developer/NeuroGraphNet/.venv/lib/python3.13/site-packages/torch/nn/utils/clip_grad.py:34\u001b[39m, in \u001b[36m_no_grad.<locals>._no_grad_wrapper\u001b[39m\u001b[34m(*args, **kwargs)\u001b[39m\n\u001b[32m     32\u001b[39m \u001b[38;5;28;01mdef\u001b[39;00m\u001b[38;5;250m \u001b[39m\u001b[34m_no_grad_wrapper\u001b[39m(*args, **kwargs):\n\u001b[32m     33\u001b[39m     \u001b[38;5;28;01mwith\u001b[39;00m torch.no_grad():\n\u001b[32m---> \u001b[39m\u001b[32m34\u001b[39m         \u001b[38;5;28;01mreturn\u001b[39;00m \u001b[43mfunc\u001b[49m\u001b[43m(\u001b[49m\u001b[43m*\u001b[49m\u001b[43margs\u001b[49m\u001b[43m,\u001b[49m\u001b[43m \u001b[49m\u001b[43m*\u001b[49m\u001b[43m*\u001b[49m\u001b[43mkwargs\u001b[49m\u001b[43m)\u001b[49m\n",
      "\u001b[36mFile \u001b[39m\u001b[32m~/Developer/NeuroGraphNet/.venv/lib/python3.13/site-packages/torch/nn/utils/clip_grad.py:216\u001b[39m, in \u001b[36mclip_grad_norm_\u001b[39m\u001b[34m(parameters, max_norm, norm_type, error_if_nonfinite, foreach)\u001b[39m\n\u001b[32m    214\u001b[39m grads = [p.grad \u001b[38;5;28;01mfor\u001b[39;00m p \u001b[38;5;129;01min\u001b[39;00m parameters \u001b[38;5;28;01mif\u001b[39;00m p.grad \u001b[38;5;129;01mis\u001b[39;00m \u001b[38;5;129;01mnot\u001b[39;00m \u001b[38;5;28;01mNone\u001b[39;00m]\n\u001b[32m    215\u001b[39m total_norm = _get_total_norm(grads, norm_type, error_if_nonfinite, foreach)\n\u001b[32m--> \u001b[39m\u001b[32m216\u001b[39m \u001b[43m_clip_grads_with_norm_\u001b[49m\u001b[43m(\u001b[49m\u001b[43mparameters\u001b[49m\u001b[43m,\u001b[49m\u001b[43m \u001b[49m\u001b[43mmax_norm\u001b[49m\u001b[43m,\u001b[49m\u001b[43m \u001b[49m\u001b[43mtotal_norm\u001b[49m\u001b[43m,\u001b[49m\u001b[43m \u001b[49m\u001b[43mforeach\u001b[49m\u001b[43m)\u001b[49m\n\u001b[32m    217\u001b[39m \u001b[38;5;28;01mreturn\u001b[39;00m total_norm\n",
      "\u001b[36mFile \u001b[39m\u001b[32m~/Developer/NeuroGraphNet/.venv/lib/python3.13/site-packages/torch/nn/utils/clip_grad.py:34\u001b[39m, in \u001b[36m_no_grad.<locals>._no_grad_wrapper\u001b[39m\u001b[34m(*args, **kwargs)\u001b[39m\n\u001b[32m     32\u001b[39m \u001b[38;5;28;01mdef\u001b[39;00m\u001b[38;5;250m \u001b[39m\u001b[34m_no_grad_wrapper\u001b[39m(*args, **kwargs):\n\u001b[32m     33\u001b[39m     \u001b[38;5;28;01mwith\u001b[39;00m torch.no_grad():\n\u001b[32m---> \u001b[39m\u001b[32m34\u001b[39m         \u001b[38;5;28;01mreturn\u001b[39;00m \u001b[43mfunc\u001b[49m\u001b[43m(\u001b[49m\u001b[43m*\u001b[49m\u001b[43margs\u001b[49m\u001b[43m,\u001b[49m\u001b[43m \u001b[49m\u001b[43m*\u001b[49m\u001b[43m*\u001b[49m\u001b[43mkwargs\u001b[49m\u001b[43m)\u001b[49m\n",
      "\u001b[36mFile \u001b[39m\u001b[32m~/Developer/NeuroGraphNet/.venv/lib/python3.13/site-packages/torch/nn/utils/clip_grad.py:164\u001b[39m, in \u001b[36m_clip_grads_with_norm_\u001b[39m\u001b[34m(parameters, max_norm, total_norm, foreach)\u001b[39m\n\u001b[32m    160\u001b[39m \u001b[38;5;28;01mfor\u001b[39;00m (device, _), ([device_grads], _) \u001b[38;5;129;01min\u001b[39;00m grouped_grads.items():\n\u001b[32m    161\u001b[39m     \u001b[38;5;28;01mif\u001b[39;00m (foreach \u001b[38;5;129;01mis\u001b[39;00m \u001b[38;5;28;01mNone\u001b[39;00m \u001b[38;5;129;01mand\u001b[39;00m _has_foreach_support(device_grads, device)) \u001b[38;5;129;01mor\u001b[39;00m (\n\u001b[32m    162\u001b[39m         foreach \u001b[38;5;129;01mand\u001b[39;00m _device_has_foreach_support(device)\n\u001b[32m    163\u001b[39m     ):\n\u001b[32m--> \u001b[39m\u001b[32m164\u001b[39m         \u001b[43mtorch\u001b[49m\u001b[43m.\u001b[49m\u001b[43m_foreach_mul_\u001b[49m\u001b[43m(\u001b[49m\u001b[43mdevice_grads\u001b[49m\u001b[43m,\u001b[49m\u001b[43m \u001b[49m\u001b[43mclip_coef_clamped\u001b[49m\u001b[43m.\u001b[49m\u001b[43mto\u001b[49m\u001b[43m(\u001b[49m\u001b[43mdevice\u001b[49m\u001b[43m)\u001b[49m\u001b[43m)\u001b[49m\n\u001b[32m    165\u001b[39m     \u001b[38;5;28;01melif\u001b[39;00m foreach:\n\u001b[32m    166\u001b[39m         \u001b[38;5;28;01mraise\u001b[39;00m \u001b[38;5;167;01mRuntimeError\u001b[39;00m(\n\u001b[32m    167\u001b[39m             \u001b[33mf\u001b[39m\u001b[33m\"\u001b[39m\u001b[33mforeach=True was passed, but can\u001b[39m\u001b[33m'\u001b[39m\u001b[33mt use the foreach API on \u001b[39m\u001b[38;5;132;01m{\u001b[39;00mdevice.type\u001b[38;5;132;01m}\u001b[39;00m\u001b[33m tensors\u001b[39m\u001b[33m\"\u001b[39m\n\u001b[32m    168\u001b[39m         )\n",
      "\u001b[31mKeyboardInterrupt\u001b[39m: "
     ]
    }
   ],
   "source": [
    "ATTENTION_LSTM_SAVE_PATH = CHECKPOINT_ROOT / \"attention_lstm_feature_best_model.pt\"\n",
    "ATTENTION_LSTM_SUBMISSION_PATH = SUBMISSION_ROOT / \"attention_lstm_feature_submission.csv\"\n",
    "\n",
    "# train model on training set (or load existing)\n",
    "train_history, val_history = train_model(\n",
    "        attention_lstm_model, timeseries_loader_tr[\"feature\"], timeseries_loader_val[\"feature\"],\n",
    "        criterion, optimizer, device,\n",
    "        save_path=ATTENTION_LSTM_SAVE_PATH,\n",
    "        num_epochs=300,\n",
    "        patience=10,\n",
    "        monitor=\"val_loss\",\n",
    "        scheduler=scheduler,\n",
    "        overwrite=False,\n",
    "        use_gnn=False\n",
    "    )"
   ]
  },
  {
   "cell_type": "code",
   "execution_count": null,
   "metadata": {},
   "outputs": [],
   "source": [
    "plot_training_loss(train_history[\"loss\"], val_history[\"loss\"], \"LSTM with Attention\")"
   ]
  },
  {
   "cell_type": "code",
   "execution_count": null,
   "metadata": {},
   "outputs": [],
   "source": [
    "# evaluate model on test set and generate submission file\n",
    "evaluate_model(\n",
    "    attention_lstm_model, test_loader, device,\n",
    "    checkpoint_path=ATTENTION_LSTM_SAVE_PATH,\n",
    "    submission_path=ATTENTION_LSTM_SUBMISSION_PATH,\n",
    ")"
   ]
  },
  {
   "cell_type": "markdown",
   "metadata": {},
   "source": [
    "**Signal**"
   ]
  },
  {
   "cell_type": "code",
   "execution_count": null,
   "metadata": {},
   "outputs": [],
   "source": [
    "%aimport src.layers.lstm\n",
    "from src.layers.lstm import LSTMAttention\n",
    "\n",
    "# Create model and fit it\n",
    "# For signals [batch_size, 19, 3000] (processing each of the 19 sensors as a sequence of (3000,1) ):\n",
    "attention_lstm_model = LSTMAttention(input_dim=1, hidden_dim=64, num_layers=3, dropout=0.2, input_type=\"feature\")\n",
    "if torch.cuda.device_count() > 1:\n",
    "    print(f\"Using {torch.cuda.device_count()} GPUs\")\n",
    "    attention_lstm_model = nn.DataParallel(attention_lstm_model)\n",
    "attention_lstm_model = attention_lstm_model.to(device)\n",
    "\n",
    "criterion = nn.BCEWithLogitsLoss()\n",
    "optimizer = optim.Adam(attention_lstm_model.parameters(), lr=1e-3, weight_decay=1e-5)\n",
    "scheduler = optim.lr_scheduler.ReduceLROnPlateau(optimizer, mode='min', patience=5, factor=0.5)"
   ]
  },
  {
   "cell_type": "markdown",
   "metadata": {},
   "source": [
    "### 4. EEG CNN"
   ]
  },
  {
   "cell_type": "code",
   "execution_count": null,
   "metadata": {},
   "outputs": [],
   "source": [
    "%aimport src.layers.cnn\n",
    "from src.layers.cnn import EEG_CNN\n",
    "\n",
    "eeg_cnn_model = EEG_CNN(\n",
    "    input_channels=19,\n",
    "    dropout=0.3\n",
    ")\n",
    "if torch.cuda.device_count() > 1:\n",
    "    print(f\"Using {torch.cuda.device_count()} GPUs\")\n",
    "    eeg_cnn_model = nn.DataParallel(eeg_cnn_model)\n",
    "eeg_cnn_model = eeg_cnn_model.to(device)\n",
    "\n",
    "criterion = nn.BCEWithLogitsLoss()\n",
    "optimizer = optim.Adam(eeg_cnn_model.parameters(), lr=1e-3, weight_decay=1e-5)\n",
    "scheduler = optim.lr_scheduler.ReduceLROnPlateau(\n",
    "    optimizer,\n",
    "    mode='min',\n",
    "    patience=5,\n",
    "    factor=0.5\n",
    ")"
   ]
  },
  {
   "cell_type": "code",
   "execution_count": null,
   "metadata": {},
   "outputs": [],
   "source": [
    "EEG_CNN_SAVE_PATH = CHECKPOINT_ROOT / \"eeg_cnn_best_model.pt\"\n",
    "EEG_CNN_SUBMISSION_PATH = SUBMISSION_ROOT / \"eeg_cnn_submission.csv\"\n",
    "\n",
    "# train model on training set (or load existing)\n",
    "train_history, val_history = train_model(\n",
    "        eeg_cnn_model, train_loader, val_loader,\n",
    "        criterion, optimizer, device,\n",
    "        save_path=EEG_CNN_SUBMISSION_PATH,\n",
    "        num_epochs=300,\n",
    "        patience=10,\n",
    "        monitor=\"val_loss\",\n",
    "        scheduler=scheduler,\n",
    "        overwrite=True,\n",
    "        use_gnn=False\n",
    "    )"
   ]
  },
  {
   "cell_type": "code",
   "execution_count": null,
   "metadata": {},
   "outputs": [],
   "source": [
    "plot_training_loss(train_history[\"loss\"], val_history[\"loss\"], \"EEG CNN\")"
   ]
  },
  {
   "cell_type": "code",
   "execution_count": null,
   "metadata": {},
   "outputs": [],
   "source": [
    "%aimport src.utils.train\n",
    "from src.utils.train import evaluate_model"
   ]
  },
  {
   "cell_type": "code",
   "execution_count": null,
   "metadata": {},
   "outputs": [],
   "source": [
    "# evaluate model on test set and generate submission file\n",
    "evaluate_model(\n",
    "    eeg_cnn_model, test_loader, device,\n",
    "    checkpoint_path=EEG_CNN_SAVE_PATH,\n",
    "    submission_path=EEG_CNN_SUBMISSION_PATH\n",
    ")"
   ]
  },
  {
   "cell_type": "markdown",
   "metadata": {},
   "source": [
    "### 5. EEG CNN LSTM"
   ]
  },
  {
   "cell_type": "code",
   "execution_count": null,
   "metadata": {},
   "outputs": [],
   "source": [
    "%aimport src.layers.cnn\n",
    "from src.layers.cnn import EEG_CNN_LSTM\n",
    "\n",
    "cnn_lstm_model = EEG_CNN_LSTM(\n",
    "    input_channels=19,\n",
    "    cnn_output_channels=128,\n",
    "    lstm_hidden_dim=128, \n",
    "    fc_dropout=0.3,\n",
    "    lstm_dropout=0.3,\n",
    "    num_classes=1,\n",
    "    bidirectional_lstm=False # unidirectional\n",
    ")\n",
    "if torch.cuda.device_count() > 1:\n",
    "    print(f\"Using {torch.cuda.device_count()} GPUs\")\n",
    "    cnn_lstm_model = nn.DataParallel(cnn_lstm_model)\n",
    "cnn_lstm_model = cnn_lstm_model.to(device)\n",
    "\n",
    "criterion = nn.BCEWithLogitsLoss()\n",
    "optimizer = optim.Adam(cnn_lstm_model.parameters(), lr=1e-3, weight_decay=1e-5)\n",
    "scheduler = optim.lr_scheduler.ReduceLROnPlateau(\n",
    "    optimizer,\n",
    "    mode='min',\n",
    "    patience=5,\n",
    "    factor=0.5\n",
    ")"
   ]
  },
  {
   "cell_type": "code",
   "execution_count": null,
   "metadata": {},
   "outputs": [],
   "source": [
    "CNN_LSTM_SAVE_PATH = CHECKPOINT_ROOT / \"cnn_lstm_best_model.pt\"\n",
    "CNN_LSTM_SUBMISSION_PATH = SUBMISSION_ROOT / \"cnn_lstm_submission.csv\"\n",
    "\n",
    "# train model on training set (or load existing)\n",
    "train_history, val_history = train_model(\n",
    "        cnn_lstm_model, train_loader, val_loader,\n",
    "        criterion, optimizer, device,\n",
    "        save_path=CNN_LSTM_SAVE_PATH,\n",
    "        num_epochs=300,\n",
    "        patience=30,\n",
    "        monitor=\"val_loss\",\n",
    "        scheduler=scheduler,\n",
    "        overwrite=True,\n",
    "        use_gnn=False\n",
    "    )"
   ]
  },
  {
   "cell_type": "code",
   "execution_count": null,
   "metadata": {},
   "outputs": [],
   "source": [
    "plot_training_loss(train_history[\"loss\"], val_history[\"loss\"], \"EEG CNN + LSTM\")"
   ]
  },
  {
   "cell_type": "code",
   "execution_count": null,
   "metadata": {},
   "outputs": [],
   "source": [
    "# evaluate model on test set and generate submission file\n",
    "evaluate_model(\n",
    "    cnn_lstm_model, test_loader, device,\n",
    "    save_path=CNN_LSTM_SAVE_PATH,\n",
    "    submission_path=CNN_LSTM_SUBMISSION_PATH\n",
    ")"
   ]
  },
  {
   "cell_type": "markdown",
   "metadata": {},
   "source": [
    "### 6. EEG CNN BiLSTM"
   ]
  },
  {
   "cell_type": "code",
   "execution_count": null,
   "metadata": {},
   "outputs": [],
   "source": [
    "%aimport layers.cnn\n",
    "from layers.cnn import EEG_CNN_LSTM\n",
    "\n",
    "cnn_bi_lstm_model = EEG_CNN_LSTM(\n",
    "    input_channels=19,\n",
    "    cnn_output_channels=128,\n",
    "    lstm_hidden_dim=128, \n",
    "    fc_dropout=0.3,\n",
    "    lstm_dropout=0.3,\n",
    "    num_classes=1,\n",
    "    bidirectional_lstm=True\n",
    ")\n",
    "if torch.cuda.device_count() > 1:\n",
    "    print(f\"Using {torch.cuda.device_count()} GPUs\")\n",
    "    cnn_bi_lstm_model = nn.DataParallel(cnn_bi_lstm_model)\n",
    "cnn_bi_lstm_model = cnn_bi_lstm_model.to(device)\n",
    "\n",
    "criterion = nn.BCEWithLogitsLoss()\n",
    "optimizer = optim.Adam(cnn_bi_lstm_model.parameters(), lr=1e-3, weight_decay=1e-5)\n",
    "scheduler = optim.lr_scheduler.ReduceLROnPlateau(\n",
    "    optimizer,\n",
    "    mode='min',\n",
    "    patience=5,\n",
    "    factor=0.5\n",
    ")"
   ]
  },
  {
   "cell_type": "code",
   "execution_count": null,
   "metadata": {},
   "outputs": [],
   "source": [
    "CNN_BI_LSTM_SAVE_PATH = CHECKPOINT_ROOT / \"cnn_bi_lstm_best_model.pt\"\n",
    "CNN_BI_LSTM_SUBMISSION_PATH = SUBMISSION_ROOT / \"cnn_bi_lstm_submission.csv\"\n",
    "\n",
    "# train model on training set (or load existing)\n",
    "train_history, val_history = train_model(\n",
    "    cnn_bi_lstm_model, train_loader, val_loader,\n",
    "    criterion, optimizer, device,\n",
    "    save_path=CNN_BI_LSTM_SAVE_PATH,\n",
    "    num_epochs=300,\n",
    "    patience=30,\n",
    "    monitor=\"val_loss\",\n",
    "    scheduler=scheduler,\n",
    "    overwrite=True,\n",
    ")"
   ]
  },
  {
   "cell_type": "code",
   "execution_count": null,
   "metadata": {},
   "outputs": [],
   "source": [
    "plot_training_loss(train_history[\"loss\"], val_history[\"loss\"], \"EEG CNN + BiLSTM\")"
   ]
  },
  {
   "cell_type": "code",
   "execution_count": null,
   "metadata": {},
   "outputs": [],
   "source": [
    "# evaluate model on test set and generate submission file\n",
    "evaluate_model(\n",
    "    cnn_bi_lstm_model, test_loader, device,\n",
    "    save_path=CNN_BI_LSTM_SAVE_PATH,\n",
    "    submission_path=CNN_BI_LSTM_SUBMISSION_PATH\n",
    ")"
   ]
  },
  {
   "cell_type": "markdown",
   "metadata": {},
   "source": [
    "## Graph methods"
   ]
  },
  {
   "cell_type": "code",
   "execution_count": null,
   "metadata": {},
   "outputs": [],
   "source": [
    "from layers.eeggcn import EEGGCN\n",
    "\n",
    "# Get number of time points (in_channels) from first sample\n",
    "eeg_gnc_model = EEGGCN(\n",
    "    in_channels=19,\n",
    "    hidden_channels=128,\n",
    "    out_channels=32,\n",
    "    num_classes=2,\n",
    "    num_conv_layers=3,\n",
    "    dropout=0.5\n",
    ")\n",
    "if torch.cuda.device_count() > 1:\n",
    "    eeg_gnc_model = nn.DataParallel(eeg_gnc_model)\n",
    "eeg_gnc_model = eeg_gnc_model.to(device)\n",
    "\n",
    "# Set up optimizer + scheduler\n",
    "optimizer = optim.Adam(eeg_gnc_model.parameters(), lr=0.001, weight_decay=5e-4)\n",
    "scheduler = optim.lr_scheduler.ReduceLROnPlateau(\n",
    "    optimizer, mode='min', factor=0.5, patience=5, verbose=True\n",
    ")\n",
    "criterion = nn.BCEWithLogitsLoss()\n",
    "\n",
    "EEGGCN_SAVE_PATH = CHECKPOINT_ROOT / \"eeggcn_best_model.pt\"\n",
    "EEGCN_SUBMISSION_PATH = SUBMISSION_ROOT / \"eeggcn_submission.csv\"\n",
    "\n",
    "# train model on training set (or load existing)\n",
    "train_history, val_history = train_model(\n",
    "    eeg_gnc_model, train_loader, val_loader,\n",
    "    criterion, optimizer, device,\n",
    "    save_path=EEGGCN_SAVE_PATH,\n",
    "    num_epochs=300,\n",
    "    patience=30,\n",
    "    monitor=\"val_loss\",\n",
    "    scheduler=scheduler,\n",
    "    overwrite=True,\n",
    ")\n",
    "\n",
    "# plot losses if any\n",
    "plt.figure()\n",
    "plt.plot(train_history[\"loss\"], label=\"train\")\n",
    "plt.plot(val_history[\"loss\"],   label=\"val\")\n",
    "plt.xlabel(\"Epoch\")\n",
    "plt.ylabel(\"Loss\")\n",
    "plt.legend()\n",
    "plt.tight_layout()\n",
    "plt.show()"
   ]
  },
  {
   "cell_type": "code",
   "execution_count": null,
   "metadata": {},
   "outputs": [],
   "source": [
    "evaluate_model(\n",
    "    eeg_gnc_model, test_loader, device,\n",
    "    save_path       = Path(\"eeggcn_attn.pt\"),\n",
    "    submission_path = Path(\"eeggcn_submission.csv\"),\n",
    "    threshold       = 0.5,\n",
    ")"
   ]
  }
 ],
 "metadata": {
  "kernelspec": {
   "display_name": ".venv",
   "language": "python",
   "name": "python3"
  },
  "language_info": {
   "codemirror_mode": {
    "name": "ipython",
    "version": 3
   },
   "file_extension": ".py",
   "mimetype": "text/x-python",
   "name": "python",
   "nbconvert_exporter": "python",
   "pygments_lexer": "ipython3",
   "version": "3.13.3"
  }
 },
 "nbformat": 4,
 "nbformat_minor": 4
}
