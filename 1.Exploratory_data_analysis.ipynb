{
 "cells": [
  {
   "cell_type": "code",
   "execution_count": 3,
   "id": "51dde6fe",
   "metadata": {},
   "outputs": [],
   "source": [
    "# ---------------------- General imports --------------------#\n",
    "from pathlib import Path\n",
    "\n",
    "import numpy as np\n",
    "import pandas as pd\n",
    "\n",
    "import matplotlib.pyplot as plt\n",
    "\n",
    "from scipy import signal\n",
    "from scipy.signal import welch\n",
    "\n",
    "# ---------------------- Custom imports --------------------#\n",
    "from src.utils.preprocessing_funcs  import visualize_frequencies, time_filtering"
   ]
  },
  {
   "cell_type": "code",
   "execution_count": 4,
   "id": "7e69e6b0",
   "metadata": {},
   "outputs": [],
   "source": [
    "from pathlib import Path\n",
    "data_path = 'data'\n",
    "DATA_ROOT = Path(data_path)"
   ]
  },
  {
   "cell_type": "code",
   "execution_count": 5,
   "id": "c18aadda",
   "metadata": {},
   "outputs": [
    {
     "data": {
      "text/html": [
       "<div>\n",
       "<style scoped>\n",
       "    .dataframe tbody tr th:only-of-type {\n",
       "        vertical-align: middle;\n",
       "    }\n",
       "\n",
       "    .dataframe tbody tr th {\n",
       "        vertical-align: top;\n",
       "    }\n",
       "\n",
       "    .dataframe thead th {\n",
       "        text-align: right;\n",
       "    }\n",
       "</style>\n",
       "<table border=\"1\" class=\"dataframe\">\n",
       "  <thead>\n",
       "    <tr style=\"text-align: right;\">\n",
       "      <th></th>\n",
       "      <th>from</th>\n",
       "      <th>to</th>\n",
       "      <th>distance</th>\n",
       "    </tr>\n",
       "  </thead>\n",
       "  <tbody>\n",
       "    <tr>\n",
       "      <th>0</th>\n",
       "      <td>FP1</td>\n",
       "      <td>FP1</td>\n",
       "      <td>0.000000</td>\n",
       "    </tr>\n",
       "    <tr>\n",
       "      <th>1</th>\n",
       "      <td>FP1</td>\n",
       "      <td>FP2</td>\n",
       "      <td>0.618000</td>\n",
       "    </tr>\n",
       "    <tr>\n",
       "      <th>2</th>\n",
       "      <td>FP1</td>\n",
       "      <td>F3</td>\n",
       "      <td>0.618969</td>\n",
       "    </tr>\n",
       "    <tr>\n",
       "      <th>3</th>\n",
       "      <td>FP1</td>\n",
       "      <td>F4</td>\n",
       "      <td>1.030322</td>\n",
       "    </tr>\n",
       "    <tr>\n",
       "      <th>4</th>\n",
       "      <td>FP1</td>\n",
       "      <td>C3</td>\n",
       "      <td>1.250226</td>\n",
       "    </tr>\n",
       "  </tbody>\n",
       "</table>\n",
       "</div>"
      ],
      "text/plain": [
       "  from   to  distance\n",
       "0  FP1  FP1  0.000000\n",
       "1  FP1  FP2  0.618000\n",
       "2  FP1   F3  0.618969\n",
       "3  FP1   F4  1.030322\n",
       "4  FP1   C3  1.250226"
      ]
     },
     "execution_count": 5,
     "metadata": {},
     "output_type": "execute_result"
    }
   ],
   "source": [
    "import pandas as pd\n",
    "distances = pd.read_csv(DATA_ROOT / 'distances_3d.csv')\n",
    "distances.head()"
   ]
  },
  {
   "cell_type": "code",
   "execution_count": 5,
   "id": "5e512fa2",
   "metadata": {},
   "outputs": [],
   "source": [
    "train_data = DATA_ROOT / \"train\"\n",
    "test_data = DATA_ROOT / \"test\"\n",
    "\n",
    "clips_tr = pd.read_parquet(DATA_ROOT / \"train/segments.parquet\")\n",
    "clips_te = pd.read_parquet(DATA_ROOT / \"test/segments.parquet\")\n",
    "\n",
    "# Merge clips for sanity checks\n",
    "clips = pd.concat([clips_tr, clips_te]).reset_index()\n"
   ]
  },
  {
   "cell_type": "code",
   "execution_count": 12,
   "id": "c478866e",
   "metadata": {},
   "outputs": [],
   "source": [
    "# Group by patient and session\n",
    "grouped = clips_tr.groupby([\"patient\", \"session\"])\n",
    "\n",
    "# Check how many unique signal paths per group\n",
    "for (patient, session), group in grouped:\n",
    "    unique_paths = group[\"signals_path\"].unique()\n",
    "    if len(unique_paths) != 1:\n",
    "        print(f\" Patient {patient}, Session {session} has {len(unique_paths)} signal paths: {unique_paths}\")"
   ]
  },
  {
   "cell_type": "code",
   "execution_count": 28,
   "id": "2e8ce69b",
   "metadata": {},
   "outputs": [
    {
     "name": "stdout",
     "output_type": "stream",
     "text": [
      "signals/pqejgdjw_s005_t004.parquet is present in clips_tr.\n"
     ]
    }
   ],
   "source": [
    "sig = clips_tr['signals_path'].unique()\n",
    "\n",
    "# Target file to check\n",
    "target_file = \"signals/pqejgdjw_s005_t004.parquet\"\n",
    "\n",
    "# Check presence\n",
    "if target_file in sig:\n",
    "    print(f\"{target_file} is present in clips_tr.\")\n",
    "else:\n",
    "    print(f\"{target_file} is NOT present in clips_tr.\")"
   ]
  },
  {
   "cell_type": "markdown",
   "id": "16b5945c",
   "metadata": {},
   "source": [
    "### 1. Analysis on session, segments and patient distribution"
   ]
  },
  {
   "cell_type": "code",
   "execution_count": 29,
   "id": "9435c044",
   "metadata": {},
   "outputs": [
    {
     "name": "stdout",
     "output_type": "stream",
     "text": [
      "Total number of segments:16607\n",
      "Unique sampling rates: 250\n",
      "Signal duration: 12.0\n",
      "Number of patients: 122\n"
     ]
    }
   ],
   "source": [
    "# Number of total segments\n",
    "print(f'Total number of segments:{len(clips)}')\n",
    "\n",
    "# Sampling rate -  Identical sampling rate for all signals\n",
    "\n",
    "unique_rates = clips[\"sampling_rate\"].unique()\n",
    "print(f\"Unique sampling rates: {unique_rates[0]}\")\n",
    "f_s = 250 # Define sampling frequency\n",
    "\n",
    "\n",
    "# Signal duration\n",
    "\n",
    "duration_signal = clips['end_time'] - clips['start_time']\n",
    "print(f\"Signal duration: {duration_signal.unique()[0]}\")\n",
    "\n",
    "# Number patients\n",
    "\n",
    "unique_patients = clips[\"patient\"].unique()\n",
    "print(f\"Number of patients: {len(unique_patients)}\")\n",
    "#print(any(clips.duplicated()))\n",
    "\n"
   ]
  },
  {
   "cell_type": "code",
   "execution_count": 30,
   "id": "5a8378de",
   "metadata": {},
   "outputs": [
    {
     "name": "stdout",
     "output_type": "stream",
     "text": [
      "[ 1. nan  0.]\n",
      "Some patients never have a seizure\n",
      "Number of patients that do not experience a seizure along all experiment: 1\n",
      "Number of patients that have at least a NaN: 25\n",
      "Number of patients that have a seizure: 96\n"
     ]
    }
   ],
   "source": [
    "\n",
    "\n",
    "# Ocurrence of seizures for patients\n",
    "patient_seizures = clips.groupby(\"patient\")[\"label\"].max()\n",
    "print(patient_seizures.unique())\n",
    "print('Some patients never have a seizure')\n",
    "patient_no_seizures = patient_seizures.value_counts()[0]\n",
    "patient_with_seizures = patient_seizures.value_counts()[1]\n",
    "patients_nan_seizures  = patient_seizures[patient_seizures.isna()]\n",
    "\n",
    "print(f\"Number of patients that do not experience a seizure along all experiment: {patient_no_seizures}\")\n",
    "print(f\"Number of patients that have at least a NaN: {patients_nan_seizures.size}\")\n",
    "print(f\"Number of patients that have a seizure: {patient_with_seizures}\")\n"
   ]
  },
  {
   "cell_type": "code",
   "execution_count": 31,
   "id": "96596aff",
   "metadata": {},
   "outputs": [
    {
     "name": "stdout",
     "output_type": "stream",
     "text": [
      "Label values in patients with NaN in label: [nan]\n",
      "Patients with NaN in any of their labels, only have Nan\n"
     ]
    }
   ],
   "source": [
    "patients_nan = np.array(patients_nan_seizures.index)\n",
    "clips_reset = clips.reset_index()\n",
    "clips_patient_nan = clips_reset[clips_reset['patient'].isin(patients_nan)]\n",
    "print(f'Label values in patients with NaN in label: {clips_patient_nan.label.unique()}')\n",
    "print('Patients with NaN in any of their labels, only have Nan')\n"
   ]
  },
  {
   "cell_type": "code",
   "execution_count": 32,
   "id": "de32450d",
   "metadata": {},
   "outputs": [
    {
     "data": {
      "text/plain": [
       "False"
      ]
     },
     "execution_count": 32,
     "metadata": {},
     "output_type": "execute_result"
    }
   ],
   "source": [
    "\n",
    "# Filter patients with NaN\n",
    "clips = clips[~clips.label.isna()]\n",
    "# Check all NaN removed\n",
    "clips.label.isnull().any()"
   ]
  },
  {
   "cell_type": "code",
   "execution_count": 33,
   "id": "c1d1bf19",
   "metadata": {},
   "outputs": [
    {
     "name": "stdout",
     "output_type": "stream",
     "text": [
      "Number train sessions:12993\n",
      "Number test sessions:3614\n"
     ]
    }
   ],
   "source": [
    "# Number sessions train and test\n",
    "print(f'Number train sessions:{str(clips_tr.groupby([\"patient\",\"session\"]).size().sum())}')\n",
    "print(f'Number test sessions:{str(clips_te.groupby([\"patient\",\"session\"]).size().sum())}')"
   ]
  },
  {
   "cell_type": "code",
   "execution_count": 34,
   "id": "e2f73631",
   "metadata": {},
   "outputs": [
    {
     "data": {
      "image/png": "[encoded data removed]",
      "text/plain": [
       "<Figure size 1800x500 with 3 Axes>"
      ]
     },
     "metadata": {},
     "output_type": "display_data"
    }
   ],
   "source": [
    "\n",
    "fig, axes = plt.subplots(1, 3, figsize=(18, 5))\n",
    "\n",
    "# 1. Number of sessions per patient\n",
    "patient_sessions = clips.groupby(\"patient\")[\"session\"].nunique().value_counts().sort_index()\n",
    "axes[0].bar(patient_sessions.index, patient_sessions.values)\n",
    "axes[0].set_title(\"Sessions per Patient\")\n",
    "axes[0].set_xlabel(\"Number of sessions\")\n",
    "axes[0].set_ylabel(\"Number of patients\")\n",
    "\n",
    "# 2. Distribution of segments per session\n",
    "segments_per_session = clips.groupby([\"patient\", \"session\"]).size()\n",
    "axes[1].hist(segments_per_session.values, edgecolor='black')\n",
    "axes[1].set_title(\"Segments per Session\")\n",
    "axes[1].set_xlabel(\"Number of segments\")\n",
    "axes[1].set_ylabel(\"Number of sessions\")\n",
    "\n",
    "# 3. Segments per patient\n",
    "# Count total number of segments per patient\n",
    "segments_per_patient = clips.groupby(\"patient\").size()\n",
    "\n",
    "axes[2].hist(segments_per_patient.values, edgecolor='black')\n",
    "axes[2].set_title(\"Segments per Patient\")\n",
    "axes[2].set_xlabel(\"Number of segments\")\n",
    "axes[2].set_ylabel(\"Number of patients\")\n",
    "\n",
    "plt.tight_layout()\n",
    "plt.show()"
   ]
  },
  {
   "cell_type": "code",
   "execution_count": 35,
   "id": "0391905f",
   "metadata": {},
   "outputs": [
    {
     "data": {
      "image/png": "[encoded data removed]",
      "text/plain": [
       "<Figure size 1800x500 with 3 Axes>"
      ]
     },
     "metadata": {},
     "output_type": "display_data"
    }
   ],
   "source": [
    "\n",
    "\n",
    "fig, axes = plt.subplots(1, 3, figsize=(18, 5))\n",
    "\n",
    "# 1. Seizure ratio per patient\n",
    "seizure_ratio = clips.groupby(\"patient\")[\"label\"].mean()\n",
    "axes[0].hist(seizure_ratio, edgecolor='black')\n",
    "axes[0].set_title(\"Seizure segment ratio per patient\")\n",
    "axes[0].set_xlabel(\"Seizure ratio\")\n",
    "axes[0].set_ylabel(\"Number of patients\")\n",
    "\n",
    "# 2. Seizure and non-seizure segment distribution\n",
    "label_counts = clips[\"label\"].value_counts().sort_index()\n",
    "axes[1].bar(label_counts.index, label_counts.values, width=0.5, color=[\"limegreen\", \"tomato\"])\n",
    "axes[1].set_xticks([0, 1])\n",
    "axes[1].set_xticklabels([\"Non-seizure\", \"Seizure\"])\n",
    "axes[1].set_title(\"Seizure vs Non-seizure segments\")\n",
    "axes[1].set_xlabel(\"Label\")\n",
    "axes[1].set_ylabel(\"Number of segments\")\n",
    "\n",
    "# 3. Seizure event durations\n",
    "def duration_seizure(clips):\n",
    "    seizure_duration = []\n",
    "    seizure_t = 0\n",
    "    for _, row in clips.iterrows():\n",
    "        if row[\"label\"] == 1:\n",
    "            seizure_t += 1\n",
    "        elif seizure_t != 0:\n",
    "            seizure_duration.append(seizure_t)\n",
    "            seizure_t = 0\n",
    "    if seizure_t != 0:\n",
    "        seizure_duration.append(seizure_t)  # edge case at end\n",
    "    return [d * 12 for d in seizure_duration]  # assuming 12s per segment\n",
    "\n",
    "durations = duration_seizure(clips)\n",
    "axes[2].hist(durations, edgecolor='black')\n",
    "axes[2].set_title(\"Seizure event duration\")\n",
    "axes[2].set_xlabel(\"Seizure duration (s)\")\n",
    "axes[2].set_ylabel(\"Number of events\")\n",
    "\n",
    "plt.tight_layout()\n",
    "plt.show()"
   ]
  },
  {
   "cell_type": "markdown",
   "id": "949e2a62",
   "metadata": {},
   "source": [
    "### Insights\n",
    "\n",
    "\n",
    "\n",
    "- **Data Volume and Structure**:\n",
    "   - The dataset contains a total of 16,607 EEG signal segments across 122 patients, all sampled at 250 Hz with a duration of 12 seconds per segment.\n",
    "\n",
    "- **Patient and Session Variability**:\n",
    "  - Most patients have only **one session**, though a few have up to 7.\n",
    "  - Segment count per session varies widely, with many sessions containing fewer than 150 segments.\n",
    "  - At the patient level, segment counts are mostly concentrated between 50 and 200.\n",
    "\n",
    "- **Seizure Distribution**:\n",
    "  - Only one patient does not experience any seizure.\n",
    "  - There is a significant **class imbalance**, with seizure segments being much less frequent than non-seizure segments (~2,500 vs ~10,500) -> **Oversampling strategies**\n",
    "  - Seizure segment ratios per patient are mostly low (<0.2), indicating seizures are rare for most individuals.\n",
    "  - Seizure event durations are typically short (<200s), though a few outliers exceed 1000s.\n",
    "\n",
    "- **Missing Data**:\n",
    "  - 25 patients had only `NaN` values in their labels and were removed from the dataset.\n",
    "  - The remaining dataset was successfully cleaned, and no missing labels remain.\n",
    "\n",
    "- **Train/Test Split**:\n",
    "  - The training set consists of 12,993 segments.\n",
    "  - The test set contains 3,614 segments.\n",
    "\n",
    ".\n"
   ]
  },
  {
   "cell_type": "markdown",
   "id": "2c3a008b",
   "metadata": {},
   "source": [
    "### 2. Channel information"
   ]
  },
  {
   "cell_type": "code",
   "execution_count": 36,
   "id": "f1db9b08",
   "metadata": {},
   "outputs": [
    {
     "name": "stdout",
     "output_type": "stream",
     "text": [
      "Number of channels: 19\n",
      "Channels: ['FP1', 'FP2', 'F3', 'F4', 'C3', 'C4', 'P3', 'P4', 'O1', 'O2', 'F7', 'F8', 'T3', 'T4', 'T5', 'T6', 'FZ', 'CZ', 'PZ']\n"
     ]
    },
    {
     "data": {
      "text/html": [
       "<div>\n",
       "<style scoped>\n",
       "    .dataframe tbody tr th:only-of-type {\n",
       "        vertical-align: middle;\n",
       "    }\n",
       "\n",
       "    .dataframe tbody tr th {\n",
       "        vertical-align: top;\n",
       "    }\n",
       "\n",
       "    .dataframe thead th {\n",
       "        text-align: right;\n",
       "    }\n",
       "</style>\n",
       "<table border=\"1\" class=\"dataframe\">\n",
       "  <thead>\n",
       "    <tr style=\"text-align: right;\">\n",
       "      <th></th>\n",
       "      <th>FP1</th>\n",
       "      <th>FP2</th>\n",
       "      <th>F3</th>\n",
       "      <th>F4</th>\n",
       "      <th>C3</th>\n",
       "      <th>C4</th>\n",
       "      <th>P3</th>\n",
       "      <th>P4</th>\n",
       "      <th>O1</th>\n",
       "      <th>O2</th>\n",
       "      <th>F7</th>\n",
       "      <th>F8</th>\n",
       "      <th>T3</th>\n",
       "      <th>T4</th>\n",
       "      <th>T5</th>\n",
       "      <th>T6</th>\n",
       "      <th>FZ</th>\n",
       "      <th>CZ</th>\n",
       "      <th>PZ</th>\n",
       "    </tr>\n",
       "  </thead>\n",
       "  <tbody>\n",
       "    <tr>\n",
       "      <th>0</th>\n",
       "      <td>0.0</td>\n",
       "      <td>0.0</td>\n",
       "      <td>0.0</td>\n",
       "      <td>0.0</td>\n",
       "      <td>0.0</td>\n",
       "      <td>0.0</td>\n",
       "      <td>0.0</td>\n",
       "      <td>0.0</td>\n",
       "      <td>0.0</td>\n",
       "      <td>0.0</td>\n",
       "      <td>0.0</td>\n",
       "      <td>0.0</td>\n",
       "      <td>0.0</td>\n",
       "      <td>0.0</td>\n",
       "      <td>0.0</td>\n",
       "      <td>0.0</td>\n",
       "      <td>0.0</td>\n",
       "      <td>0.0</td>\n",
       "      <td>0.0</td>\n",
       "    </tr>\n",
       "    <tr>\n",
       "      <th>1</th>\n",
       "      <td>0.0</td>\n",
       "      <td>0.0</td>\n",
       "      <td>0.0</td>\n",
       "      <td>0.0</td>\n",
       "      <td>0.0</td>\n",
       "      <td>0.0</td>\n",
       "      <td>0.0</td>\n",
       "      <td>0.0</td>\n",
       "      <td>0.0</td>\n",
       "      <td>0.0</td>\n",
       "      <td>0.0</td>\n",
       "      <td>0.0</td>\n",
       "      <td>0.0</td>\n",
       "      <td>0.0</td>\n",
       "      <td>0.0</td>\n",
       "      <td>0.0</td>\n",
       "      <td>0.0</td>\n",
       "      <td>0.0</td>\n",
       "      <td>0.0</td>\n",
       "    </tr>\n",
       "    <tr>\n",
       "      <th>2</th>\n",
       "      <td>0.0</td>\n",
       "      <td>0.0</td>\n",
       "      <td>0.0</td>\n",
       "      <td>0.0</td>\n",
       "      <td>0.0</td>\n",
       "      <td>0.0</td>\n",
       "      <td>0.0</td>\n",
       "      <td>0.0</td>\n",
       "      <td>0.0</td>\n",
       "      <td>0.0</td>\n",
       "      <td>0.0</td>\n",
       "      <td>0.0</td>\n",
       "      <td>0.0</td>\n",
       "      <td>0.0</td>\n",
       "      <td>0.0</td>\n",
       "      <td>0.0</td>\n",
       "      <td>0.0</td>\n",
       "      <td>0.0</td>\n",
       "      <td>0.0</td>\n",
       "    </tr>\n",
       "    <tr>\n",
       "      <th>3</th>\n",
       "      <td>0.0</td>\n",
       "      <td>0.0</td>\n",
       "      <td>0.0</td>\n",
       "      <td>0.0</td>\n",
       "      <td>0.0</td>\n",
       "      <td>0.0</td>\n",
       "      <td>0.0</td>\n",
       "      <td>0.0</td>\n",
       "      <td>0.0</td>\n",
       "      <td>0.0</td>\n",
       "      <td>0.0</td>\n",
       "      <td>0.0</td>\n",
       "      <td>0.0</td>\n",
       "      <td>0.0</td>\n",
       "      <td>0.0</td>\n",
       "      <td>0.0</td>\n",
       "      <td>0.0</td>\n",
       "      <td>0.0</td>\n",
       "      <td>0.0</td>\n",
       "    </tr>\n",
       "    <tr>\n",
       "      <th>4</th>\n",
       "      <td>0.0</td>\n",
       "      <td>0.0</td>\n",
       "      <td>0.0</td>\n",
       "      <td>0.0</td>\n",
       "      <td>0.0</td>\n",
       "      <td>0.0</td>\n",
       "      <td>0.0</td>\n",
       "      <td>0.0</td>\n",
       "      <td>0.0</td>\n",
       "      <td>0.0</td>\n",
       "      <td>0.0</td>\n",
       "      <td>0.0</td>\n",
       "      <td>0.0</td>\n",
       "      <td>0.0</td>\n",
       "      <td>0.0</td>\n",
       "      <td>0.0</td>\n",
       "      <td>0.0</td>\n",
       "      <td>0.0</td>\n",
       "      <td>0.0</td>\n",
       "    </tr>\n",
       "  </tbody>\n",
       "</table>\n",
       "</div>"
      ],
      "text/plain": [
       "   FP1  FP2   F3   F4   C3   C4   P3   P4   O1   O2   F7   F8   T3   T4   T5  \\\n",
       "0  0.0  0.0  0.0  0.0  0.0  0.0  0.0  0.0  0.0  0.0  0.0  0.0  0.0  0.0  0.0   \n",
       "1  0.0  0.0  0.0  0.0  0.0  0.0  0.0  0.0  0.0  0.0  0.0  0.0  0.0  0.0  0.0   \n",
       "2  0.0  0.0  0.0  0.0  0.0  0.0  0.0  0.0  0.0  0.0  0.0  0.0  0.0  0.0  0.0   \n",
       "3  0.0  0.0  0.0  0.0  0.0  0.0  0.0  0.0  0.0  0.0  0.0  0.0  0.0  0.0  0.0   \n",
       "4  0.0  0.0  0.0  0.0  0.0  0.0  0.0  0.0  0.0  0.0  0.0  0.0  0.0  0.0  0.0   \n",
       "\n",
       "    T6   FZ   CZ   PZ  \n",
       "0  0.0  0.0  0.0  0.0  \n",
       "1  0.0  0.0  0.0  0.0  \n",
       "2  0.0  0.0  0.0  0.0  \n",
       "3  0.0  0.0  0.0  0.0  \n",
       "4  0.0  0.0  0.0  0.0  "
      ]
     },
     "execution_count": 36,
     "metadata": {},
     "output_type": "execute_result"
    }
   ],
   "source": [
    "# Number of channels\n",
    "\n",
    "example_sample = pd.read_parquet(DATA_ROOT / \"train\" / clips_tr.iloc[0][\"signals_path\"])\n",
    "n_channels = len(example_sample.columns)\n",
    "print(f\"Number of channels: {n_channels}\")\n",
    "channels = list(example_sample.columns)\n",
    "print(f\"Channels: {channels}\")\n",
    "\n",
    "\n",
    "example_sample.head()"
   ]
  },
  {
   "cell_type": "markdown",
   "id": "a1636631",
   "metadata": {},
   "source": [
    "### 3. Frequency visualization and preprocessing"
   ]
  },
  {
   "cell_type": "code",
   "execution_count": 37,
   "id": "33b119f8",
   "metadata": {},
   "outputs": [
    {
     "ename": "NameError",
     "evalue": "name 'visualize_frequencies' is not defined",
     "output_type": "error",
     "traceback": [
      "\u001b[1;31m---------------------------------------------------------------------------\u001b[0m",
      "\u001b[1;31mNameError\u001b[0m                                 Traceback (most recent call last)",
      "Cell \u001b[1;32mIn[37], line 10\u001b[0m\n\u001b[0;32m      7\u001b[0m segment \u001b[38;5;241m=\u001b[39m signal\u001b[38;5;241m.\u001b[39miloc[start:end]\n\u001b[0;32m      9\u001b[0m \u001b[38;5;66;03m# Visualize frequencies\u001b[39;00m\n\u001b[1;32m---> 10\u001b[0m \u001b[43mvisualize_frequencies\u001b[49m(segment) \n\u001b[0;32m     11\u001b[0m \u001b[38;5;66;03m# VERY EVIDENT POWER LINE FREQUENCY\u001b[39;00m\n",
      "\u001b[1;31mNameError\u001b[0m: name 'visualize_frequencies' is not defined"
     ]
    }
   ],
   "source": [
    "# Selecting one segment (EXAMPLE)\n",
    "f_s = 250\n",
    "row = clips_tr.iloc[0]\n",
    "start = int(row[\"start_time\"] * f_s)\n",
    "end =  int(row[\"end_time\"] * f_s)\n",
    "signal = pd.read_parquet(DATA_ROOT / \"train\" / row[\"signals_path\"])\n",
    "segment = signal.iloc[start:end]\n",
    "\n",
    "# Visualize frequencies\n",
    "visualize_frequencies(segment) \n",
    "# VERY EVIDENT POWER LINE FREQUENCY"
   ]
  },
  {
   "cell_type": "markdown",
   "id": "d82664f0",
   "metadata": {},
   "source": [
    "**3.1 FILTERING**\n",
    "\n",
    "- **Band-pass filter**\n",
    "   - Doubts whether to apply bandpass filter with maximum threshold at 30/50 Hz (different criteria literature):\n",
    "      - From **Random Forest** classifier: theta band frequency (30-50 Hz): the most important -> Apply upper bound for frequency at 50 Hz.\n",
    "   \n",
    "- **Notch filter**\n",
    "  - Sharp, narrow spike ar f = 60 Hz (in almost all channels).\n",
    "    - Power line interference: frequency of power grid\n",
    "    - Since f = 60 Hz -> recordings originated in the USA or Canada (Europe: 50 Hz)\n",
    "\n",
    "\n",
    "\n",
    "**Insights**\n",
    "\n",
    "- Since THE  narrowband, it could survive bandpass filter.\n",
    "- Bandpass first → more stable, clean signal for notch filter to act on\n"
   ]
  },
  {
   "cell_type": "code",
   "execution_count": null,
   "id": "1547840b",
   "metadata": {},
   "outputs": [],
   "source": [
    "# i. ---------------- Bandpass filter ----------------------------------\n",
    "f_s =250 # sampling frequency\n",
    "bp_filter = signal.butter(4, (0.5, 50), btype=\"bandpass\", output=\"sos\", fs=f_s)\n",
    " # Experiment with diff. frequencies bandpass filters\n",
    "\n",
    "# ii. ---------------- Notch filter -------------------------------------------\n",
    "# Remove 60 Hz frequency from signal\n",
    "notch_filter = signal.iirnotch(w0=60, Q=30, fs=f_s)\n",
    "notch_filter = signal.tf2sos(*notch_filter) # Need to convert to SOS format (same formar as bp_filter) for numerical stability\n",
    "\n",
    "\n",
    "filtered_segment = time_filtering(segment.values, bp_filter, notch_filter) # filtered signals\n",
    "segment_filtered = pd.DataFrame(filtered_segment, columns=channels)\n",
    "visualize_frequencies(segment_filtered)"
   ]
  },
  {
   "cell_type": "markdown",
   "id": "de8e426d",
   "metadata": {},
   "source": [
    "### 4. Feature extraction"
   ]
  },
  {
   "cell_type": "markdown",
   "id": "c4b84ef9",
   "metadata": {},
   "source": [
    "**Feature Selection Rationale**\n",
    "\n",
    "The selected features capture both **temporal** and **spectral** characteristics of EEG signals:\n",
    "\n",
    "- **Time/Shape Features**:  \n",
    "  Capture signal morphology and complexity over time.  \n",
    "  - `rms`: measures signal energy.  \n",
    "  - `linelen`: reflects waveform complexity and spikiness.  \n",
    "  - `hj_mob`, `hj_cmp`: Hjorth parameters quantify signal mobility and structural complexity.\n",
    "\n",
    "- **Spectral Features**:  \n",
    "  Capture frequency content and brain rhythm dynamics.  \n",
    "  - Band powers (`alpha`, `beta`, `theta`, `gamma`) describe brain state activity.  \n",
    "  - `spec_ent`: measures spectral irregularity (e.g., seizures may reduce entropy).  \n",
    "  - `rel_*` and `theta_alpha_ratio`: normalized markers often used in seizure detection and cognitive state assessment.\n"
   ]
  },
  {
   "cell_type": "code",
   "execution_count": null,
   "id": "8a11d68e",
   "metadata": {},
   "outputs": [],
   "source": [
    "\n",
    "# 5 time / shape features\n",
    "time_features = [\n",
    "    \"rms\",          # Root-mean-square amplitude\n",
    "    \"linelen\",      # line length\n",
    "    \"hj_mob\",       # Hjorth mobility\n",
    "    \"hj_cmp\",       # Hjorth complexity\n",
    "]\n",
    "\n",
    "# 7 spectral features\n",
    "freq_features = [\n",
    "    'spec_ent',     # spectral entropy\n",
    "    \"alpha_pow\",    # absolute power\n",
    "    \"beta_pow\",\n",
    "    \"theta_pow\",\n",
    "    \"gamma_pow\",\n",
    "    \"rel_alpha\",    # power / total\n",
    "    \"rel_theta\",\n",
    "    \"theta_alpha_ratio\",   # θ / α balance marker\n",
    "]\n",
    "\n"
   ]
  },
  {
   "cell_type": "code",
   "execution_count": null,
   "id": "ffc7ea30",
   "metadata": {},
   "outputs": [
    {
     "name": "stdout",
     "output_type": "stream",
     "text": [
      "Total features: 228\n",
      "['rms_FP1', 'linelen_FP1', 'hj_mob_FP1', 'hj_cmp_FP1', 'spec_ent_FP1', 'alpha_pow_FP1', 'beta_pow_FP1', 'theta_pow_FP1', 'gamma_pow_FP1', 'rel_alpha_FP1', 'rel_theta_FP1', 'theta_alpha_ratio_FP1', 'rms_FP2', 'linelen_FP2', 'hj_mob_FP2', 'hj_cmp_FP2', 'spec_ent_FP2', 'alpha_pow_FP2', 'beta_pow_FP2', 'theta_pow_FP2'] ...\n"
     ]
    }
   ],
   "source": [
    "all_features = time_features + freq_features\n",
    "\n",
    "# ------------------------------------------------------------------\n",
    "feature_names = [f\"{feat}_{ch}\"\n",
    "                 for ch in channels\n",
    "                 for feat in all_features]\n",
    "\n",
    "print(f\"Total features: {len(feature_names)}\")\n",
    "print(feature_names[:20], \"...\")"
   ]
  }
 ],
 "metadata": {
  "kernelspec": {
   "display_name": "nml_env",
   "language": "python",
   "name": "python3"
  },
  "language_info": {
   "codemirror_mode": {
    "name": "ipython",
    "version": 3
   },
   "file_extension": ".py",
   "mimetype": "text/x-python",
   "name": "python",
   "nbconvert_exporter": "python",
   "pygments_lexer": "ipython3",
   "version": "3.10.16"
  }
 },
 "nbformat": 4,
 "nbformat_minor": 5
}
